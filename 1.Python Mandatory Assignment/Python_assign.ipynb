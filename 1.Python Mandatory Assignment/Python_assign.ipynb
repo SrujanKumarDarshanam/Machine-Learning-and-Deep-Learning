{
 "cells": [
  {
   "cell_type": "markdown",
   "metadata": {
    "id": "x0ewUfm30qdK"
   },
   "source": [
    "# Q1: Given two matrices please print the product of those two matrices"
   ]
  },
  {
   "cell_type": "code",
   "execution_count": null,
   "metadata": {
    "colab": {
     "base_uri": "https://localhost:8080/"
    },
    "id": "62AE4vuP0qdM",
    "outputId": "8d845cc4-e4f8-4e72-edf1-481cccb3f530"
   },
   "outputs": [
    {
     "name": "stdout",
     "output_type": "stream",
     "text": [
      "[[1, 3, 4], [2, 5, 7], [5, 9, 6]]\n",
      "[[11, 14, 17, 20, 23], [23, 30, 37, 44, 51]]\n",
      "A*B = Not Possible\n"
     ]
    }
   ],
   "source": [
    "# write your python code here\n",
    "# you can take the above example as sample input for your program to test\n",
    "# it should work for any general input try not to hard code for only given input examples\n",
    "\n",
    "\n",
    "# you can free to change all these codes/structure\n",
    "# here A and B are list of lists\n",
    "def matrix_mul(A, B):\n",
    "    if len(A[0]) == len(B):\n",
    "        c,r = len(A), len(B[0])\n",
    "        Matrix = [[0 for x in range(r)] for y in range(c)] \n",
    "        for i in range(c): \n",
    "            for j in range(r): \n",
    "                for k in range(len(B)): \n",
    "                    Matrix[i][j] += A[i][k] * B[k][j] \n",
    "        return print(Matrix)\n",
    "    else:\n",
    "        return print('A*B = Not Possible')\n",
    "    \n",
    "A   = [ [1, 3, 4],\n",
    "        [2, 5, 7],\n",
    "        [5, 9, 6]\n",
    "      ]\n",
    "B   = [ [1, 0, 0],\n",
    "        [0, 1, 0],\n",
    "        [0, 0, 1]\n",
    "      ]\n",
    "matrix_mul(A, B)\n",
    "\n",
    "A   = [[1, 2],[3, 4]]\n",
    "B   = [[1, 2, 3, 4, 5],[5, 6, 7, 8, 9]]\n",
    "matrix_mul(A, B)\n",
    "\n",
    "A   = [[1,2],[3, 4]]\n",
    "B   = [[1,4],[5,6],[7, 8],[9, 6]]\n",
    "matrix_mul(A, B)"
   ]
  },
  {
   "cell_type": "code",
   "execution_count": null,
   "metadata": {
    "id": "yBcTF48k0qdY"
   },
   "outputs": [],
   "source": []
  },
  {
   "cell_type": "markdown",
   "metadata": {
    "id": "REpTpL0y0qdf"
   },
   "source": [
    "# Q2: Select a number randomly with probability proportional to its magnitude from the given array of n elements\n",
    "\n",
    "consider an experiment, selecting an element from the list A randomly with probability proportional to its magnitude.\n",
    "assume we are doing the same experiment for 100 times with replacement, in each experiment you will print a number that is selected randomly from A.\n",
    "\n",
    "Ex 1: A = [0,5, 27, 6, 13, 28, 100, 45, 10, 79]\n",
    "\n",
    "let f(x) denote the number of times x getting selected in 100 experiments.\n",
    "\n",
    "f(100) > f(79) > f(45) > f(28) > f(27) > f(13) > f(10) > f(6) > f(5) > f(0)\n"
   ]
  },
  {
   "cell_type": "code",
   "execution_count": null,
   "metadata": {
    "id": "8PeauXRm0qdf"
   },
   "outputs": [],
   "source": [
    "A = [0,5, 27, 6, 13, 28, 100, 45, 10, 79]\n",
    "\n",
    "from random import uniform\n",
    "# write your python code here\n",
    "# you can take the above example as sample input for your program to test\n",
    "# it should work for any general input try not to hard code for only given input examples\n",
    "\n",
    "\n",
    "# you can free to change all these codes/structure\n",
    "def pick_a_number_from_list(A):\n",
    "    # your code here for picking an element from with the probability propotional to its magnitude\n",
    "    #.\n",
    "    #.\n",
    "    #.\n",
    "    return #selected_random_number\n",
    "\n",
    "def sampling_based_on_magnitued():\n",
    "    for i in range(1,100):\n",
    "        number = pick_a_number_from_list(A)\n",
    "        print(number)\n",
    "\n",
    "#sampling_based_on_magnitued()"
   ]
  },
  {
   "cell_type": "code",
   "execution_count": null,
   "metadata": {
    "id": "tUHOANC_0qdk"
   },
   "outputs": [],
   "source": [
    "A = [0,5, 27, 6, 13, 28, 100, 45, 10, 79]"
   ]
  },
  {
   "cell_type": "code",
   "execution_count": null,
   "metadata": {
    "colab": {
     "base_uri": "https://localhost:8080/"
    },
    "id": "RqSjTalJ0qdu",
    "outputId": "f3a2b0dd-bc34-459b-fb3b-2e628e81aa7d"
   },
   "outputs": [
    {
     "name": "stdout",
     "output_type": "stream",
     "text": [
      "{79: 20, 100: 39, 6: 2, 27: 9, 28: 8, 45: 13, 13: 4, 10: 3, 5: 1}\n"
     ]
    }
   ],
   "source": [
    "#https://stackoverflow.com/questions/59346340/randomly-selection-of-number-from-list-of-integers-which-is-proportional-to-its\n",
    "import random\n",
    "\n",
    "def pick_a_number_from_list(A):\n",
    "    sum=0\n",
    "    cum_sum=[]\n",
    "    for i in range(len(A)):\n",
    "        sum = sum + A[i]\n",
    "        cum_sum.append(sum)\n",
    "    #print(cum_sum) \n",
    "    r = int(random.uniform(0,sum))\n",
    "    number=0\n",
    "    #print(cum_sum,r,sum)\n",
    "    for index in range(len(cum_sum)):\n",
    "        if(r>=cum_sum[index] and r<cum_sum[index+1]):\n",
    "          #print((r,cum_sum[index],r,cum_sum[index+1],index),A[index+1])\n",
    "          return A[index+1]\n",
    "    return number\n",
    "\n",
    "def sampling_based_on_magnitued():\n",
    "    A = [0,5,27,6,13,28,100,45,10,79]\n",
    "    a = dict()\n",
    "    #A.sort()\n",
    "    #print(A,sum(A))\n",
    "    for i in range(1,100):\n",
    "        number = pick_a_number_from_list(A)\n",
    "        #print(number)\n",
    "        if number not in a:\n",
    "            a[number] = 1\n",
    "        else:\n",
    "            a[number]+=1\n",
    "    print(a)\n",
    "sampling_based_on_magnitued() \n"
   ]
  },
  {
   "cell_type": "code",
   "execution_count": null,
   "metadata": {
    "id": "seyTS5yoonS-"
   },
   "outputs": [],
   "source": []
  },
  {
   "cell_type": "markdown",
   "metadata": {
    "id": "OeTmYLsa0qd1"
   },
   "source": [
    "# Q3: Replace the digits in the string with \n",
    "\n",
    "consider a string that will have digits in that, we need to remove all the not digits and replace the digits with #\n",
    "\n",
    "Ex 1: A = 234                Output: ###\n",
    "\n",
    "Ex 2: A = a2b3c4             Output: ###\n",
    "\n",
    "Ex 3: A = abc                Output:   (empty string)\n",
    "\n",
    "Ex 5: A = #2a$#b%c%561#      Output: ####\n"
   ]
  },
  {
   "cell_type": "code",
   "execution_count": null,
   "metadata": {
    "id": "vf9Jfefg0qd2",
    "outputId": "1b8a64dd-88a0-4949-f520-ae3eafe5b10f"
   },
   "outputs": [
    {
     "name": "stdout",
     "output_type": "stream",
     "text": [
      "###\n",
      "###\n",
      "empty string\n",
      "####\n"
     ]
    }
   ],
   "source": [
    "import re\n",
    "# write your python code here\n",
    "# you can take the above example as sample input for your program to test\n",
    "# it should work for any general input try not to hard code for only given input examples\n",
    "\n",
    "# you can free to change all these codes/structure\n",
    "# String: it will be the input to your program\n",
    "def replace_digits(String):\n",
    "    c=0\n",
    "    for i in range(len(String)):\n",
    "        if String[i].isdigit():\n",
    "            c+=1\n",
    "    if c==0:\n",
    "        return print('empty string')\n",
    "    else:\n",
    "        return print('#'*c)\n",
    "#    return() # modified string which is after replacing the # with digits\n",
    "String = '234'\n",
    "replace_digits(String)\n",
    "String = 'a2b3c4'\n",
    "replace_digits(String)\n",
    "String = 'abc'\n",
    "replace_digits(String)\n",
    "String = '#2a$#b%c%561#'\n",
    "replace_digits(String)"
   ]
  },
  {
   "cell_type": "code",
   "execution_count": null,
   "metadata": {
    "id": "Avzw0SMT0qd8"
   },
   "outputs": [],
   "source": []
  },
  {
   "cell_type": "code",
   "execution_count": null,
   "metadata": {
    "id": "vhKcKAIL0qeA"
   },
   "outputs": [],
   "source": []
  },
  {
   "cell_type": "markdown",
   "metadata": {
    "id": "AZOuDf_40qeE"
   },
   "source": [
    "# Q4: Students marks dashboard\n",
    "consider the marks list of class students given two lists <br>\n",
    "Students = ['student1','student2','student3','student4','student5','student6','student7','student8','student9','student10'] <br>\n",
    "Marks = [45, 78, 12, 14, 48, 43, 45, 98, 35, 80] <br>\n",
    "from the above two lists the Student[0] got Marks[0],  Student[1] got Marks[1] and so on <br><br>\n",
    "your task is to print the name of students\n",
    "<strong>a. Who got top 5 ranks, in the descending order of marks</strong> <br>\n",
    "<strong>b. Who got least 5 ranks, in the increasing order of marks</strong><br>\n",
    "<strong>d. Who got marks between  &gt;25th percentile &lt;75th percentile, in the increasing order of marks</strong>\n",
    "\n",
    "<pre>\n",
    "Ex 1: \n",
    "Students=['student1','student2','student3','student4','student5','student6','student7','student8','student9','student10'] \n",
    "Marks = [45, 78, 12, 14, 48, 43, 47, 98, 35, 80]\n",
    "a. \n",
    "student8  98\n",
    "student10 80\n",
    "student2  78\n",
    "student5  48\n",
    "student7  47\n",
    "b.\n",
    "student3 12\n",
    "student4 14\n",
    "student9 35\n",
    "student6 43\n",
    "student1 45\n",
    "c.\n",
    "student9 35\n",
    "student6 43\n",
    "student1 45\n",
    "student7 47\n",
    "student5 48\n",
    "</pre>"
   ]
  },
  {
   "cell_type": "code",
   "execution_count": null,
   "metadata": {
    "id": "I3dpmZG20qeF",
    "outputId": "791568b9-48e0-48e0-fb82-0643af167259"
   },
   "outputs": [
    {
     "name": "stdout",
     "output_type": "stream",
     "text": [
      "a. Who got top 5 ranks, in the descending order of marks\n",
      "('student8', 98)\n",
      "('student10', 80)\n",
      "('student2', 78)\n",
      "('student5', 48)\n",
      "('student7', 47)\n",
      "----------------------------------------\n",
      "b. Who got least 5 ranks, in the increasing order of marks\n",
      "('student3', 12)\n",
      "('student4', 14)\n",
      "('student9', 35)\n",
      "('student6', 43)\n",
      "('student1', 45)\n",
      "----------------------------------------\n",
      "c. Who got marks between >25th percentile <75th percentile, in the increasing order of marks\n",
      "('student9', 35)\n",
      "('student6', 43)\n",
      "('student1', 45)\n",
      "('student7', 47)\n",
      "('student5', 48)\n"
     ]
    }
   ],
   "source": [
    "Students = ['student1','student2','student3','student4','student5','student6','student7','student8','student9','student10'] \n",
    "Marks = [45, 78, 12, 14, 48, 43, 47, 98, 35, 80] \n",
    "# write your python code here\n",
    "# you can take the above example as sample input for your program to test\n",
    "# it should work for any general input try not to hard code for only given input examples\n",
    "\n",
    "# you can free to change all these codes/structure\n",
    "\n",
    "def display_dash_board(students, marks):\n",
    "    d = dict(zip(Students, Marks))\n",
    "    dic = sorted(d.items(), key=lambda x: x[1])    \n",
    "    my_list = (dic[-5:])\n",
    "    my_list.sort(key=lambda x: x[1],reverse=True)    \n",
    "    top_5_students = my_list\n",
    "    least_5_students = dic[0:5]\n",
    "    s,m=zip(*sorted(zip(Students, Marks))) \n",
    "    dic = dict()\n",
    "    for i in range(0,10):\n",
    "        if m[i]>25 and m[i]<75: \n",
    "            dic[s[i]] = m[i]\n",
    "    w=sorted(dic.items(), key=lambda x: x[1])    \n",
    "    \n",
    "    students_within_25_and_75 = w\n",
    "    \n",
    "    return top_5_students, least_5_students, students_within_25_and_75\n",
    "\n",
    "top_5_students, least_5_students, students_within_25_and_75 = display_dash_board(Students, Marks)\n",
    "def printt(listt):\n",
    "    for i in listt:\n",
    "        print(i)\n",
    "    return\n",
    "print('a. Who got top 5 ranks, in the descending order of marks')\n",
    "printt(top_5_students)\n",
    "print('--'*20)\n",
    "print('b. Who got least 5 ranks, in the increasing order of marks')\n",
    "printt(least_5_students)\n",
    "print('--'*20)\n",
    "print('c. Who got marks between >25th percentile <75th percentile, in the increasing order of marks')\n",
    "printt(students_within_25_and_75)\n"
   ]
  },
  {
   "cell_type": "markdown",
   "metadata": {
    "id": "mUvn4vCV0qeS"
   },
   "source": [
    "# Q5: Find the closest points\n",
    "consider you have given n data points in the form of list of tuples like\n",
    "\n",
    "S=[(x1,y1),(x2,y2),(x3,y3),(x4,y4),(x5,y5),..,(xn,yn)] and a point P=(p,q).\n",
    "\n",
    "your task is to find 5 closest points(based on cosine distance) in S from P\n",
    "\n",
    "cosine distance between two points (x,y) and (p,q) is defind as $cos^{-1}(\\frac{(x\\cdot p+y\\cdot q)}{\\sqrt(x^2+y^2)\\cdot\\sqrt(p^2+q^2)})$\n",
    "\n",
    "Ex:\n",
    "\n",
    "S= [(1,2),(3,4),(-1,1),(6,-7),(0, 6),(-5,-8),(-1,-1)(6,0),(1,-1)]\n",
    "\n",
    "P = (3,-4)\n",
    "\n",
    "Output:\n",
    "\n",
    "(6,-7)\n",
    "\n",
    "(1,-1)\n",
    "\n",
    "(6,0)\n",
    "\n",
    "(-5,-8)\n",
    "\n",
    "(-1,-1)\n"
   ]
  },
  {
   "cell_type": "code",
   "execution_count": null,
   "metadata": {
    "colab": {
     "base_uri": "https://localhost:8080/"
    },
    "id": "dvlOXL7u4oYp",
    "outputId": "bb245e27-d161-43e6-8a70-19787a191682"
   },
   "outputs": [
    {
     "name": "stdout",
     "output_type": "stream",
     "text": [
      "(6, -7)\n",
      "(1, -1)\n",
      "(6, 0)\n",
      "(-5, -8)\n",
      "(-1, -1)\n"
     ]
    }
   ],
   "source": [
    "\n",
    "S= [(1,2),(3,4),(-1,1),(6,-7),(0, 6),(-5,-8),(-1,-1),(6,0),(1,-1)]\n",
    "P = [(3,-4)]\n",
    "d = dict()\n",
    "import math\n",
    "for i,pair in enumerate(S):\n",
    "  #print((pair[0]*P[0]))\n",
    "  num = ((pair[0]*P[0][0]) + (pair[1]*P[0][1])) \n",
    "  d1  = ((pair[0]**2) + (pair[1]**2))**(1/2)\n",
    "  d2  = ((P[0][0]**2) + (P[0][1]**2))**(1/2)\n",
    "  den = d1*d2\n",
    "  d[i] = math.acos((num/den))\n",
    "d = sorted(d, key = d.get)\n",
    "ind = d[:5]\n",
    "for i in ind:\n",
    "  print(S[i]) "
   ]
  },
  {
   "cell_type": "markdown",
   "metadata": {
    "id": "-9mGvfgO3gQB"
   },
   "source": [
    "# Q6: Find Which line separates oranges and apples\n",
    "consider you have given two set of data points in the form of list of tuples like\n",
    "\n",
    "Red =[(R11,R12),(R21,R22),(R31,R32),(R41,R42),(R51,R52),..,(Rn1,Rn2)]\n",
    "\n",
    "Blue=[(B11,B12),(B21,B22),(B31,B32),(B41,B42),(B51,B52),..,(Bm1,Bm2)]\n",
    "\n",
    "and set of line equations(in the string formate, i.e list of strings)\n",
    "\n",
    "Lines = [a1x+b1y+c1,a2x+b2y+c2,a3x+b3y+c3,a4x+b4y+c4,..,K lines]\n",
    "\n",
    "Note: you need to string parsing here and get the coefficients of x,y and intercept\n",
    "\n",
    "your task is to for each line that is given print \"YES\"/\"NO\", you will print yes, if all the red points are one side of the line and blue points are other side of the line, otherwise no\n",
    "\n",
    "Ex:\n",
    "\n",
    "Red= [(1,1),(2,1),(4,2),(2,4), (-1,4)]\n",
    "\n",
    "Blue= [(-2,-1),(-1,-2),(-3,-2),(-3,-1),(1,-3)]\n",
    "\n",
    "Lines=[\"1x+1y+0\",\"1x-1y+0\",\"1x+0y-3\",\"0x+1y-0.5\"]\n",
    "\n",
    "<img src='https://i.imgur.com/DoQf7mE.jpg' width=400>\n",
    "\n",
    "Output:\n",
    "\n",
    "YES\n",
    "\n",
    "NO\n",
    "\n",
    "NO\n",
    "YES\n"
   ]
  },
  {
   "cell_type": "code",
   "execution_count": null,
   "metadata": {
    "colab": {
     "base_uri": "https://localhost:8080/",
     "height": 85
    },
    "id": "NcNjgDyD4IID",
    "outputId": "d43f0362-1b24-4aeb-ecad-d108555e86ae"
   },
   "outputs": [
    {
     "name": "stdout",
     "output_type": "stream",
     "text": [
      "YES\n",
      "NO\n",
      "NO\n",
      "YES\n"
     ]
    }
   ],
   "source": [
    "import re\n",
    "Red= [(1,1),(2,1),(4,2),(2,4),(-1,4)]\n",
    "Blue= [(-2,-1),(-1,-2),(-3,-2),(-3,-1),(1,-3)]\n",
    "Lines=[\"1x+1y+0\",\"1x-1y+0\",\"1x+0y-3\",\"0x+1y-0.5\"]\n",
    "\n",
    "def fun1(q,points):\n",
    "    count=list()\n",
    "    for j in range(len(points)):\n",
    "        if q[0][1] == 'x':\n",
    "            a = float(q[0][0]) * float(points[j][0]) \n",
    "            #print(a)\n",
    "        elif q[0][1] == 'y':\n",
    "            a = float(q[0][0]) * float(points[j][1]) \n",
    "            #print(a)\n",
    "        if q[2][1] == 'y':\n",
    "            b = float(q[2][0]) * float(points[j][1])\n",
    "            #print(b)\n",
    "        elif q[2][1] == 'x':\n",
    "            b = float(q[2][0]) * float(points[j][0])\n",
    "            #print(b)\n",
    "        if q[1]=='+':\n",
    "            c = float(a + b)\n",
    "        elif q[1] == '-':\n",
    "            c = float(a-b)\n",
    "        if q[3] == '+':\n",
    "            d = c + float(q[4])\n",
    "        elif q[3]=='-':\n",
    "            d = c - float(q[4])\n",
    "        count.append(d)\n",
    "    return count\n",
    "\n",
    "def fun2(list1):\n",
    "    pos_count, neg_count = 0, 0\n",
    "    for num in list1: \n",
    "        if num >= 0: \n",
    "            pos_count += 1\n",
    "        else: \n",
    "            neg_count += 1\n",
    "    #print('pc',pos_count,'nc',neg_count)\n",
    "    return pos_count,neg_count\n",
    "for i in range(len(Lines)):\n",
    "    q = re.split(r'([-+*/()])|\\s+', Lines[i])\n",
    "    c = q.count('')\n",
    "    while c:\n",
    "        q.remove('')\n",
    "        c-=1\n",
    "#    print(q,len(q))\n",
    "    red = fun1(q,Red)\n",
    "    blu = fun1(q,Blue)\n",
    "    pc_red,nc_blu = fun2(red),fun2(blu)\n",
    "    #print('r',pc_red,'b',nc_blu)\n",
    "    if pc_red == (len(Red),0) and nc_blu == (0,len(Blue)):\n",
    "        print('YES')\n",
    "    else:\n",
    "        print('NO')"
   ]
  },
  {
   "cell_type": "markdown",
   "metadata": {
    "id": "A5JzjnAU0qer"
   },
   "source": [
    "# Q7: Filling the missing values in the specified formate\n",
    "You will be given a string with digits and '\\_'(missing value) symbols you have to replace the '\\_' symbols as explained \n",
    "<pre>\n",
    "Ex 1: _, _, _, 24 ==> 24/4, 24/4, 24/4, 24/4 i.e we. have distributed the 24 equally to all 4 places <br>\n",
    "Ex 2: 40, _, _, _, 60 ==> (60+40)/5,(60+40)/5,(60+40)/5,(60+40)/5,(60+40)/5 ==> 20, 20, 20, 20, 20 i.e. the sum of (60+40) is distributed qually to all 5 places<br>\n",
    "Ex 3: 80, _, _, _, _  ==> 80/5,80/5,80/5,80/5,80/5 ==> 16, 16, 16, 16, 16 i.e. the 80 is distributed qually to all 5 missing values that are right to it<br>\n",
    "Ex 4: _, _, 30, _, _, _, 50, _, _  \n",
    "==> we will fill the missing values from left to right \n",
    "    a. first we will distribute the 30 to left two missing values (10, 10, 10, _, _, _, 50, _, _)\n",
    "    b. now distribute the sum (10+50) missing values in between (10, 10, 12, 12, 12, 12, 12, _, _) \n",
    "    c. now we will distribute 12 to right side missing values (10, 10, 12, 12, 12, 12, 4, 4, 4)\n",
    "</pre>\n",
    "for a given string with comma seprate values, which will have both missing values numbers like ex: \"_, _, x, _, _, _\"\n",
    "you need fill the missing values\n",
    "\n",
    "Q: your program reads a string like ex: \"_, _, x, _, _, _\" and returns the filled sequence\n",
    "\n",
    "Ex: \n",
    "<pre>\n",
    "Input1: \"_,_,_,24\"\n",
    "Output1: 6,6,6,6\n",
    "\n",
    "Input2: \"40,_,_,_,60\"\n",
    "Output2: 20,20,20,20,20\n",
    "\n",
    "Input3: \"80,_,_,_,_\"\n",
    "Output3: 16,16,16,16,16\n",
    "\n",
    "Input4: \"_,_,30,_,_,_,50,_,_\"\n",
    "Output4: 10,10,12,12,12,12,4,4,4\n",
    "</pre>\n",
    "\n"
   ]
  },
  {
   "cell_type": "code",
   "execution_count": null,
   "metadata": {
    "colab": {
     "base_uri": "https://localhost:8080/"
    },
    "id": "ZiJibIRX0qer",
    "outputId": "ed370030-77e4-4d91-9e42-4c8004ffb224"
   },
   "outputs": [
    {
     "name": "stdout",
     "output_type": "stream",
     "text": [
      "inp1: [6.0, 6.0, 6.0, 6.0]\n",
      "inp2: [20.0, 20.0, 20.0, 20.0, 20.0]\n",
      "inp3: [16.0, 16.0, 16.0, 16.0, 16.0]\n",
      "inp4: [10.0, 10.0, 12.0, 12.0, 12.0, 12.0, 4.0, 4.0, 4.0]\n"
     ]
    }
   ],
   "source": [
    "# write your python code here\n",
    "# you can take the above example as sample input for your program to test\n",
    "# it should work for any general input try not to hard code for only given input strings\n",
    "\n",
    "#https://stackoverflow.com/questions/56993719/need-to-find-the-missing-values-from-a-string-based-on-smoothening-logic\n",
    "# you can free to change all these codes/structure\n",
    "def curve_smoothing(string):\n",
    "    # your code\n",
    "    output = string.split(',')\n",
    "    pos = 0\n",
    "    next_value = 0\n",
    "    last_pos = 0\n",
    "    last_value = 0\n",
    "    while pos < len(output):\n",
    "        if output[pos] != '_' or (pos + 1 == len(output)):\n",
    "            if output[pos] != '_':\n",
    "                next_value = int(output[pos])\n",
    "            else:\n",
    "                next_value = 0\n",
    "            new_value = (next_value + last_value) / (pos - last_pos + 1)\n",
    "            for i in range(last_pos, pos + 1):\n",
    "                output[i] = new_value\n",
    "            last_value = new_value\n",
    "            last_pos = pos\n",
    "        pos += 1\n",
    "    return output#list of values\n",
    "\n",
    "inp1 = \"_,_,_,24\"\n",
    "inp2 = \"40,_,_,_,60\"\n",
    "inp3 = \"80,_,_,_,_\"\n",
    "inp4 = \"_,_,30,_,_,_,50,_,_\"\n",
    "#smoothed_values= curve_smoothing(inp1)\n",
    "print('inp1:',curve_smoothing(inp1))\n",
    "print('inp2:',curve_smoothing(inp2))\n",
    "print('inp3:',curve_smoothing(inp3))\n",
    "print('inp4:',curve_smoothing(inp4))"
   ]
  },
  {
   "cell_type": "code",
   "execution_count": null,
   "metadata": {
    "id": "w-5xMbbilpy6"
   },
   "outputs": [],
   "source": []
  },
  {
   "cell_type": "markdown",
   "metadata": {
    "id": "AEFUV9hc1LlY"
   },
   "source": [
    "#Q8: Filling the missing values in the specified formate\n",
    "\n",
    "You will be given a list of lists, each sublist will be of length 2 i.e. [[x,y],[p,q],[l,m]..[r,s]] consider its like a martrix of n rows and two columns 1. the first column F will contain only 5 uniques values (F1, F2, F3, F4, F5) 2. the second column S will contain only 3 uniques values (S1, S2, S3)\n",
    "your task is to find\n",
    "\n",
    "a. Probability of P(F=F1|S==S1), P(F=F1|S==S2), P(F=F1|S==S3)\n",
    "\n",
    "b. Probability of P(F=F2|S==S1), P(F=F2|S==S2), P(F=F2|S==S3)\n",
    "\n",
    "c. Probability of P(F=F3|S==S1), P(F=F3|S==S2), P(F=F3|S==S3)\n",
    "\n",
    "d. Probability of P(F=F4|S==S1), P(F=F4|S==S2), P(F=F4|S==S3)\n",
    "\n",
    "e. Probability of P(F=F5|S==S1), P(F=F5|S==S2), P(F=F5|S==S3)\n",
    "\n",
    "Ex:\n",
    "\n",
    "[[F1,S1],[F2,S2],[F3,S3],[F1,S2],[F2,S3],[F3,S2],[F2,S1],[F4,S1],[F4,S3],[F5,S1]]\n",
    "\n",
    "a. P(F=F1|S==S1)=1/4, P(F=F1|S==S2)=1/3, P(F=F1|S==S3)=0/3\n",
    "\n",
    "b. P(F=F2|S==S1)=1/4, P(F=F2|S==S2)=1/3, P(F=F2|S==S3)=1/3\n",
    "\n",
    "c. P(F=F3|S==S1)=0/4, P(F=F3|S==S2)=1/3, P(F=F3|S==S3)=1/3\n",
    "\n",
    "d. P(F=F4|S==S1)=1/4, P(F=F4|S==S2)=0/3, P(F=F4|S==S3)=1/3\n",
    "\n",
    "e. P(F=F5|S==S1)=1/4, P(F=F5|S==S2)=0/3, P(F=F5|S==S3)=0/3"
   ]
  },
  {
   "cell_type": "code",
   "execution_count": null,
   "metadata": {
    "colab": {
     "base_uri": "https://localhost:8080/",
     "height": 357
    },
    "id": "YZRO2luL2BVC",
    "outputId": "c6c7ce16-ae37-451a-80ac-4a53a9faadef"
   },
   "outputs": [
    {
     "name": "stdout",
     "output_type": "stream",
     "text": [
      "Probability of P(F=F1|S==S1) = 1/4\n",
      "Probability of P(F=F1|S==S2) = 1/3\n",
      "Probability of P(F=F1|S==S3) = 0/3\n",
      "----------------------------------------------------------------------------------------------------\n",
      "Probability of P(F=F2|S==S1) = 1/4\n",
      "Probability of P(F=F2|S==S2) = 1/3\n",
      "Probability of P(F=F2|S==S3) = 1/3\n",
      "----------------------------------------------------------------------------------------------------\n",
      "Probability of P(F=F3|S==S1) = 0/4\n",
      "Probability of P(F=F3|S==S2) = 1/3\n",
      "Probability of P(F=F3|S==S3) = 1/3\n",
      "----------------------------------------------------------------------------------------------------\n",
      "Probability of P(F=F4|S==S1) = 1/4\n",
      "Probability of P(F=F4|S==S2) = 0/3\n",
      "Probability of P(F=F4|S==S3) = 1/3\n",
      "----------------------------------------------------------------------------------------------------\n",
      "Probability of P(F=F5|S==S1) = 1/4\n",
      "Probability of P(F=F5|S==S2) = 0/3\n",
      "Probability of P(F=F5|S==S3) = 0/3\n",
      "----------------------------------------------------------------------------------------------------\n"
     ]
    }
   ],
   "source": [
    "# write your python code here\n",
    "# you can take the above example as sample input for your program to test\n",
    "# it should work for any general input try not to hard code for only given input strings\n",
    "\n",
    "# you can free to change all these codes/structure\n",
    "#def compute_conditional_probabilites(A):\n",
    "    # your code\n",
    "    # print the output as per the instructions\n",
    "\n",
    "A = [['F1','S1'],\n",
    "     ['F2','S2'],\n",
    "     ['F3','S3'],\n",
    "     ['F1','S2'],\n",
    "     ['F2','S3'],\n",
    "     ['F3','S2'],\n",
    "     ['F2','S1'],\n",
    "     ['F4','S1'],\n",
    "     ['F4','S3'],\n",
    "     ['F5','S1']\n",
    "    ]\n",
    "\n",
    "\n",
    "def fun(f,s,a):\n",
    "    n = 0\n",
    "    for i in range(len(a)):\n",
    "        if f==a[i][0] and s==a[i][1]:\n",
    "            n+=1\n",
    "    return n\n",
    "\n",
    "        \n",
    "f = set()\n",
    "s = dict()\n",
    "c1,c2,c3 = 0,0,0\n",
    "a = A\n",
    "for i in a:\n",
    "    f.add(i[0])\n",
    "    if i[1]=='S1':\n",
    "        c1+=1\n",
    "    elif i[1]=='S2':\n",
    "        c2+=1\n",
    "    elif i[1]=='S3':\n",
    "        c3+=1\n",
    "s['S1'] = c1\n",
    "s['S2'] = c2\n",
    "s['S3'] = c3\n",
    "#f = list(f)\n",
    "    \n",
    "\n",
    "for i in sorted(f):\n",
    "    for j in s.keys():\n",
    "        n = fun(i,j,a)\n",
    "        print('Probability of P(F={0}|S=={1}) = {2}/{3}'.format(i,j,n,s[j]))\n",
    "    print('--'*50)\n",
    "        \n",
    "        "
   ]
  },
  {
   "cell_type": "code",
   "execution_count": null,
   "metadata": {
    "id": "X4PFtGje2F_R"
   },
   "outputs": [],
   "source": []
  },
  {
   "cell_type": "markdown",
   "metadata": {
    "id": "uj3uVL9v2S_r"
   },
   "source": [
    "#Q9: Given two sentances S1, S2\n",
    "You will be given two sentances S1, S2 your task is to find\n",
    "\n",
    "a. Number of common words between S1, S2\n",
    "\n",
    "b. Words in S1 but not in S2\n",
    "\n",
    "c. Words in S2 but not in S1\n",
    "\n",
    "Ex:\n",
    "\n",
    "S1= \"the first column F will contain only 5 uniques values\"\n",
    "\n",
    "S2= \"the second column S will contain only 3 uniques values\"\n",
    "\n",
    "Output:\n",
    "\n",
    "a. 7\n",
    "\n",
    "b. ['first','F','5']\n",
    "\n",
    "c. ['second','S','3']"
   ]
  },
  {
   "cell_type": "code",
   "execution_count": null,
   "metadata": {
    "colab": {
     "base_uri": "https://localhost:8080/",
     "height": 68
    },
    "id": "C0QevgyG2gFi",
    "outputId": "29c3d2e4-9167-4064-f5c4-e63b14689c5b"
   },
   "outputs": [
    {
     "name": "stdout",
     "output_type": "stream",
     "text": [
      "a. 7 \n",
      " b. ['first', '5', 'F'] \n",
      " c. ['S', '3', 'second']\n"
     ]
    }
   ],
   "source": [
    "# write your python code here\n",
    "# you can take the above example as sample input for your program to test\n",
    "# it should work for any general input try not to hard code for only given input strings\n",
    "\n",
    "# you can free to change all these codes/structure\n",
    "def string_features(s1, s2):\n",
    "    ss1 = set(s1.split())\n",
    "    ss2 = set(s2.split())\n",
    "    a = len(ss1.intersection(ss2))\n",
    "    b = list(ss1-ss2)\n",
    "    c = list(ss2-ss1)\n",
    "    return a, b, c\n",
    "\n",
    "S1= \"the first column F will contain only 5 uniques values\"\n",
    "S2= \"the second column S will contain only 3 uniques values\"\n",
    "a,b,c = string_features(S1, S2)\n",
    "print('a.', a,'\\n','b.', b,'\\n','c.', c)"
   ]
  },
  {
   "cell_type": "code",
   "execution_count": null,
   "metadata": {
    "id": "B-aYh64d2jwx"
   },
   "outputs": [],
   "source": []
  },
  {
   "cell_type": "markdown",
   "metadata": {
    "id": "-K8VWTK62lEa"
   },
   "source": [
    "#Q10: Given two sentances S1, S2\n",
    "You will be given a list of lists, each sublist will be of length 2 i.e. [[x,y],[p,q],[l,m]..[r,s]] consider its like a martrix of n rows and two columns\n",
    "\n",
    "a. the first column Y will contain interger values\n",
    "\n",
    "b. the second column  𝑌𝑠𝑐𝑜𝑟𝑒  will be having float values\n",
    "\n",
    "Your task is to find the value of  𝑓(𝑌,𝑌𝑠𝑐𝑜𝑟𝑒)=−1/n ∗Σ𝑓𝑜𝑟𝑒𝑎𝑐ℎ𝑌,𝑌𝑠𝑐𝑜𝑟𝑒𝑝𝑎𝑖𝑟(𝑌𝑙𝑜𝑔10(𝑌𝑠𝑐𝑜𝑟𝑒)+(1−𝑌)𝑙𝑜𝑔10(1−𝑌𝑠𝑐𝑜𝑟𝑒))  here n is \n",
    "\n",
    "the number of rows in the matrix\n",
    "\n",
    "Ex:\n",
    "\n",
    "[[1, 0.4], [0, 0.5], [0, 0.9], [0, 0.3], [0, 0.6], [1, 0.1], [1, 0.9], [1, 0.8]]\n",
    "\n",
    "output:\n",
    "\n",
    "0.4243099\n",
    "\n",
    "−18⋅((1⋅𝑙𝑜𝑔10(0.4)+0⋅𝑙𝑜𝑔10(0.6))+(0⋅𝑙𝑜𝑔10(0.5)+1⋅𝑙𝑜𝑔10(0.5))+...+(1⋅𝑙𝑜𝑔10(0.8)+0⋅𝑙𝑜𝑔10(0.2)))"
   ]
  },
  {
   "cell_type": "code",
   "execution_count": null,
   "metadata": {
    "colab": {
     "base_uri": "https://localhost:8080/",
     "height": 34
    },
    "id": "4p5dyn0J21oC",
    "outputId": "c263229d-d7be-4ce0-80a5-5133885053e2"
   },
   "outputs": [
    {
     "name": "stdout",
     "output_type": "stream",
     "text": [
      "0.42430993457031635\n"
     ]
    }
   ],
   "source": [
    "# write your python code here\n",
    "# you can take the above example as sample input for your program to test\n",
    "# it should work for any general input try not to hard code for only given input strings\n",
    "\n",
    "\n",
    "# you can free to change all these codes/structure\n",
    "import math as m\n",
    "def compute_log_loss(A):\n",
    "    summ = 0\n",
    "    for i in range(len(A)):\n",
    "        a = A[i][0]*(m.log10(A[i][1]))\n",
    "        b = (1-A[i][0])*(m.log10(1-A[i][1]))\n",
    "        c = a + b\n",
    "        summ+=c\n",
    "    loss = (-1/len(A)) * summ    \n",
    "    return loss\n",
    "\n",
    "A = [[1, 0.4], [0, 0.5], [0, 0.9], [0, 0.3], [0, 0.6], [1, 0.1], [1, 0.9], [1, 0.8]]\n",
    "loss = compute_log_loss(A)\n",
    "print(loss)"
   ]
  }
 ],
 "metadata": {
  "colab": {
   "provenance": [],
   "toc_visible": true
  },
  "kernelspec": {
   "display_name": "Python 3 (ipykernel)",
   "language": "python",
   "name": "python3"
  },
  "language_info": {
   "codemirror_mode": {
    "name": "ipython",
    "version": 3
   },
   "file_extension": ".py",
   "mimetype": "text/x-python",
   "name": "python",
   "nbconvert_exporter": "python",
   "pygments_lexer": "ipython3",
   "version": "3.9.13"
  },
  "varInspector": {
   "cols": {
    "lenName": 16,
    "lenType": 16,
    "lenVar": 40
   },
   "kernels_config": {
    "python": {
     "delete_cmd_postfix": "",
     "delete_cmd_prefix": "del ",
     "library": "var_list.py",
     "varRefreshCmd": "print(var_dic_list())"
    },
    "r": {
     "delete_cmd_postfix": ") ",
     "delete_cmd_prefix": "rm(",
     "library": "var_list.r",
     "varRefreshCmd": "cat(var_dic_list()) "
    }
   },
   "types_to_exclude": [
    "module",
    "function",
    "builtin_function_or_method",
    "instance",
    "_Feature"
   ],
   "window_display": false
  }
 },
 "nbformat": 4,
 "nbformat_minor": 1
}
