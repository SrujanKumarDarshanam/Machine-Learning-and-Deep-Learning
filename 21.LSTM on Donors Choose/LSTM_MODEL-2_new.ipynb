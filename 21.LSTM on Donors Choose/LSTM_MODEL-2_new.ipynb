{
 "cells": [
  {
   "cell_type": "markdown",
   "id": "a8e58bf3",
   "metadata": {},
   "source": [
    "# <font color='red'> Model-2 </font>"
   ]
  },
  {
   "cell_type": "markdown",
   "id": "7415855d",
   "metadata": {},
   "source": [
    "Use the same model as above but for 'input_seq_total_text_data' give only some words in the sentance not all the words. Filter the words as below. "
   ]
  },
  {
   "cell_type": "markdown",
   "id": "99cd5a2c",
   "metadata": {},
   "source": [
    "<pre>\n",
    "1. Fit TF-IDF vectorizer on the Train data <br>\n",
    "2. Get the idf value for each word we have in the train data. Please go through <a  href='https://stackoverflow.com/questions/23792781/tf-idf-feature-weights-using-sklearn-feature-extraction-text-tfidfvectorizer'>this</a><br>\n",
    "\n",
    "3. Do some analysis on the Idf values and based on those values choose the low and high threshold value. Because very \n",
    "frequent words and very very rare words don't give much information.\n",
    "Hint - A preferable IDF range is 2-11 for model 2. <br>\n",
    "4.Remove the low idf value and high idf value words from the train and test data. You can go through each of the\n",
    "sentence of train and test data and include only those features(words) which are present in the defined IDF range.\n",
    "5. Perform tokenization on the modified text data same as you have done for previous model.\n",
    "6. Create embedding matrix for model 2 and then use the rest of the features similar to previous model.\n",
    "7. Define the model, compile and fit the model.\n",
    "</pre>"
   ]
  },
  {
   "cell_type": "code",
   "execution_count": null,
   "id": "a6802c05",
   "metadata": {},
   "outputs": [],
   "source": []
  },
  {
   "cell_type": "code",
   "execution_count": 1,
   "id": "eea7b567",
   "metadata": {},
   "outputs": [],
   "source": [
    "import tensorflow\n",
    "from tensorflow.keras.models import Model\n",
    "from tensorflow.keras.layers import Input\n",
    "from tensorflow.keras.layers import LSTM\n",
    "from tensorflow.keras.layers import Embedding\n",
    "from tensorflow.keras import regularizers\n",
    "from tensorflow.keras.regularizers import l2\n",
    "from tensorflow.keras.layers import Flatten\n",
    "from tensorflow.keras.layers import Dense, Input , Dropout\n",
    "from tensorflow.keras.layers import concatenate\n",
    "from tensorflow.keras.layers import BatchNormalization\n",
    "from tensorflow.keras.callbacks import TensorBoard\n",
    "import tensorflow as tf\n",
    "from sklearn.metrics import roc_auc_score\n",
    "from tensorflow.keras.metrics import AUC\n",
    "\n",
    "from sklearn import preprocessing\n",
    "import numpy as np\n",
    "from sklearn.preprocessing import OrdinalEncoder\n",
    "import numpy as np\n",
    "from scipy.sparse import coo_matrix, hstack\n",
    "from scipy.sparse import csr_matrix\n",
    "from numpy import asarray\n",
    "from numpy import zeros\n",
    "\n",
    "\n",
    "from keras.models import Sequential\n",
    "from keras.layers import Dense\n",
    "from keras.layers import Flatten\n",
    "from keras.layers import Embedding\n",
    "from tqdm import tqdm\n",
    "from tensorflow.keras.preprocessing.text import Tokenizer\n",
    "from tensorflow.keras.preprocessing.sequence import pad_sequences\n",
    "from sklearn.model_selection import train_test_split\n",
    "from keras.utils import np_utils\n",
    "import matplotlib.pyplot as plt\n",
    "from sklearn.feature_extraction.text import TfidfVectorizer\n",
    "from sklearn.model_selection import train_test_split\n",
    "import seaborn as sns\n",
    "import pandas as pd\n",
    "import warnings\n",
    "warnings.filterwarnings(\"ignore\")\n",
    "tf.keras.backend.clear_session()"
   ]
  },
  {
   "cell_type": "code",
   "execution_count": 2,
   "id": "d9718d69",
   "metadata": {},
   "outputs": [],
   "source": [
    "#read the csv file\n",
    "\n",
    "p1 = '/content/drive/MyDrive/AAIC/Assignments/LSTM on Donors Choose/preprocessed_data_final.csv'\n",
    "p2 = \"C:/Users/darsh/Downloads/Srujan/Donars Choose Assignment/preprocessed_data_final.csv\"\n",
    "df_2 = pd.read_csv(p2)"
   ]
  },
  {
   "cell_type": "code",
   "execution_count": 3,
   "id": "afb21ea9",
   "metadata": {},
   "outputs": [],
   "source": [
    "text_input = ['essay','project_title','project_resource_summary',]\n",
    "df_2['total_text_input'] = df_2['essay'] + ' ' + df_2['project_title'] + ' ' + df_2['project_resource_summary']\n",
    "\n"
   ]
  },
  {
   "cell_type": "code",
   "execution_count": 4,
   "id": "584fc711",
   "metadata": {},
   "outputs": [],
   "source": [
    "\n",
    "corpus = df_2['total_text_input']\n",
    "vectorizer = TfidfVectorizer(min_df=15)\n",
    "X = vectorizer.fit_transform(corpus)\n",
    "idf = vectorizer.idf_\n",
    "idf_values = (dict(zip(vectorizer.get_feature_names_out(), idf)))"
   ]
  },
  {
   "cell_type": "code",
   "execution_count": 5,
   "id": "e6d35eae",
   "metadata": {},
   "outputs": [],
   "source": [
    "word_features = pd.DataFrame(idf_values.items(),columns=['word_features','idf_values']).sort_values(['idf_values'])"
   ]
  },
  {
   "cell_type": "code",
   "execution_count": 6,
   "id": "8e64745d",
   "metadata": {},
   "outputs": [
    {
     "data": {
      "text/plain": [
       "<AxesSubplot: xlabel='idf_values'>"
      ]
     },
     "execution_count": 6,
     "metadata": {},
     "output_type": "execute_result"
    },
    {
     "data": {
      "image/png": "[encoded data removed]",
      "text/plain": [
       "<Figure size 640x480 with 1 Axes>"
      ]
     },
     "metadata": {},
     "output_type": "display_data"
    }
   ],
   "source": [
    "sns.boxplot(x=word_features['idf_values'],)"
   ]
  },
  {
   "cell_type": "code",
   "execution_count": 7,
   "id": "351d2f86",
   "metadata": {},
   "outputs": [
    {
     "data": {
      "text/plain": [
       "<AxesSubplot: >"
      ]
     },
     "execution_count": 7,
     "metadata": {},
     "output_type": "execute_result"
    },
    {
     "data": {
      "image/png": "[encoded data removed]",
      "text/plain": [
       "<Figure size 640x480 with 1 Axes>"
      ]
     },
     "metadata": {},
     "output_type": "display_data"
    }
   ],
   "source": [
    "sns.violinplot(word_features['idf_values'],orient='h')"
   ]
  },
  {
   "cell_type": "code",
   "execution_count": 8,
   "id": "b2465cad",
   "metadata": {},
   "outputs": [
    {
     "data": {
      "text/plain": [
       "array([1.        , 6.88025485, 9.16739776, 9.60565269])"
      ]
     },
     "execution_count": 8,
     "metadata": {},
     "output_type": "execute_result"
    }
   ],
   "source": [
    "percentiles = np.percentile(word_features['idf_values'],np.arange(0,100))[[0,25,75,90]]\n",
    "percentiles"
   ]
  },
  {
   "cell_type": "code",
   "execution_count": 9,
   "id": "d0726bdc",
   "metadata": {},
   "outputs": [],
   "source": [
    "word_features = word_features[(word_features.idf_values >= percentiles[1]) & (word_features.idf_values <= percentiles[2])]"
   ]
  },
  {
   "cell_type": "code",
   "execution_count": 10,
   "id": "395cbc49",
   "metadata": {},
   "outputs": [],
   "source": [
    "feats = list(word_features['word_features'].values)"
   ]
  },
  {
   "cell_type": "code",
   "execution_count": 11,
   "id": "d942f89d",
   "metadata": {},
   "outputs": [],
   "source": [
    "dummy_words = set(vectorizer.get_feature_names()).difference(set(feats))"
   ]
  },
  {
   "cell_type": "code",
   "execution_count": 12,
   "id": "a64d8ed3",
   "metadata": {},
   "outputs": [
    {
     "name": "stderr",
     "output_type": "stream",
     "text": [
      "100%|████████████████████████████████████████████████████████████████████████████████████████████████████████████| 109248/109248 [00:22<00:00, 4912.87it/s]\n"
     ]
    }
   ],
   "source": [
    "final_text = dict()\n",
    "df_2['text_data_for_model_2'] = \"\"\n",
    "for indx in tqdm(df_2['total_text_input'].index):\n",
    "    temp_list = list()\n",
    "    for j in df_2['total_text_input'][indx].split():\n",
    "        if j not in dummy_words:\n",
    "            temp_list.append(j)\n",
    "    final_text[indx] = \" \".join(temp_list)\n",
    "    df_2['text_data_for_model_2'].loc[indx] = \" \".join(temp_list)"
   ]
  },
  {
   "cell_type": "code",
   "execution_count": 13,
   "id": "ce27e9e9",
   "metadata": {},
   "outputs": [
    {
     "data": {
      "text/html": [
       "<div>\n",
       "<style scoped>\n",
       "    .dataframe tbody tr th:only-of-type {\n",
       "        vertical-align: middle;\n",
       "    }\n",
       "\n",
       "    .dataframe tbody tr th {\n",
       "        vertical-align: top;\n",
       "    }\n",
       "\n",
       "    .dataframe thead th {\n",
       "        text-align: right;\n",
       "    }\n",
       "</style>\n",
       "<table border=\"1\" class=\"dataframe\">\n",
       "  <thead>\n",
       "    <tr style=\"text-align: right;\">\n",
       "      <th></th>\n",
       "      <th>teacher_number_of_previously_posted_projects</th>\n",
       "      <th>resource_summary_contains_numerical_digits</th>\n",
       "      <th>price</th>\n",
       "      <th>quantity</th>\n",
       "      <th>school_state</th>\n",
       "      <th>project_grade_category</th>\n",
       "      <th>clean_categories</th>\n",
       "      <th>clean_subcategories</th>\n",
       "      <th>teacher_prefix</th>\n",
       "      <th>project_is_approved</th>\n",
       "      <th>essay</th>\n",
       "      <th>project_title</th>\n",
       "      <th>project_resource_summary</th>\n",
       "      <th>total_text_input</th>\n",
       "      <th>text_data_for_model_2</th>\n",
       "    </tr>\n",
       "  </thead>\n",
       "  <tbody>\n",
       "  </tbody>\n",
       "</table>\n",
       "</div>"
      ],
      "text/plain": [
       "Empty DataFrame\n",
       "Columns: [teacher_number_of_previously_posted_projects, resource_summary_contains_numerical_digits, price, quantity, school_state, project_grade_category, clean_categories, clean_subcategories, teacher_prefix, project_is_approved, essay, project_title, project_resource_summary, total_text_input, text_data_for_model_2]\n",
       "Index: []"
      ]
     },
     "execution_count": 13,
     "metadata": {},
     "output_type": "execute_result"
    }
   ],
   "source": [
    " df_2[pd.isnull(df_2).any(axis=1)]"
   ]
  },
  {
   "cell_type": "code",
   "execution_count": null,
   "id": "514d1710",
   "metadata": {},
   "outputs": [],
   "source": []
  },
  {
   "cell_type": "code",
   "execution_count": 14,
   "id": "866a0f8a",
   "metadata": {},
   "outputs": [],
   "source": [
    "y = df_2['project_is_approved'].values\n",
    "df_2.drop(['project_is_approved'],axis=1,inplace=True)\n",
    "X_train, X_test, y_train, y_test = train_test_split(df_2, y,\n",
    "                                                    stratify=y, \n",
    "                                                    test_size=0.10,\n",
    "                                                   )"
   ]
  },
  {
   "cell_type": "code",
   "execution_count": null,
   "id": "8bfe3cfb",
   "metadata": {},
   "outputs": [],
   "source": []
  },
  {
   "cell_type": "code",
   "execution_count": null,
   "id": "09319984",
   "metadata": {},
   "outputs": [],
   "source": []
  },
  {
   "cell_type": "code",
   "execution_count": 15,
   "id": "9ddc8f45",
   "metadata": {},
   "outputs": [],
   "source": [
    "num_words = 1000\n",
    "oov_token = '<UNK>'\n",
    "pad_type = 'post'\n",
    "trunc_type = 'post'\n",
    "\n",
    "# Tokenize our training data\n",
    "tokenizer = Tokenizer(num_words=num_words, oov_token=oov_token)\n",
    "tokenizer.fit_on_texts(X_train['text_data_for_model_2'])\n",
    "\n",
    "# Get our training data word index\n",
    "word_index = tokenizer.word_index\n",
    "\n",
    "# Encode training data sentences into sequences\n",
    "train_sequences = tokenizer.texts_to_sequences(X_train['text_data_for_model_2'])\n",
    "test_sequences = tokenizer.texts_to_sequences(X_test['text_data_for_model_2'])\n",
    "\n",
    "# Get max training sequence length\n",
    "maxlen = max([len(x) for x in train_sequences])\n",
    "\n",
    "# Pad the training sequences\n",
    "train_padded = pad_sequences(train_sequences, padding=pad_type, truncating=trunc_type, maxlen=maxlen)\n",
    "test_padded = pad_sequences(test_sequences, padding=pad_type, truncating=trunc_type, maxlen=maxlen)"
   ]
  },
  {
   "cell_type": "code",
   "execution_count": 16,
   "id": "72f3b087",
   "metadata": {},
   "outputs": [
    {
     "data": {
      "text/plain": [
       "122"
      ]
     },
     "execution_count": 16,
     "metadata": {},
     "output_type": "execute_result"
    }
   ],
   "source": [
    "maxlen"
   ]
  },
  {
   "cell_type": "code",
   "execution_count": 17,
   "id": "5a4f3195",
   "metadata": {},
   "outputs": [
    {
     "name": "stdout",
     "output_type": "stream",
     "text": [
      "\n",
      "Padded training shape, Test Shape: (98323, 122) (10925, 122)\n",
      "Training sequences data type: <class 'list'> <class 'list'>\n",
      "Padded Training sequences data type: <class 'numpy.ndarray'> <class 'numpy.ndarray'>\n"
     ]
    }
   ],
   "source": [
    "# Output the results of our work\n",
    "#print(\"Word index:\\n\", word_index)\n",
    "#print(\"\\nTraining sequences:\\n\", train_sequences)\n",
    "#print(\"\\nPadded training sequences:\\n\", train_padded)\n",
    "print(\"\\nPadded training shape, Test Shape:\", train_padded.shape,test_padded.shape)\n",
    "print(\"Training sequences data type:\", type(train_sequences),type(test_sequences))\n",
    "print(\"Padded Training sequences data type:\", type(train_padded),type(test_padded))\n"
   ]
  },
  {
   "cell_type": "code",
   "execution_count": 18,
   "id": "612e3881",
   "metadata": {},
   "outputs": [
    {
     "name": "stderr",
     "output_type": "stream",
     "text": [
      "400000it [00:21, 18381.50it/s]"
     ]
    },
    {
     "name": "stdout",
     "output_type": "stream",
     "text": [
      "\n",
      "Loaded 400000 word vectors.\n"
     ]
    },
    {
     "name": "stderr",
     "output_type": "stream",
     "text": [
      "\n"
     ]
    }
   ],
   "source": [
    "from tqdm import tqdm\n",
    "\n",
    "# load the whole embedding into memory\n",
    "embeddings_index = dict()\n",
    "p1 = '/content/drive/MyDrive/AAIC/Assignments/LSTM on Donors Choose/glove.6B.300d.txt'\n",
    "p2 = \"C:/Users/darsh/Downloads/Srujan/Donars Choose Assignment/glove.6B.300d.txt\"\n",
    "f = open(p2,encoding=\"utf8\")\n",
    "for line in tqdm(f):\n",
    "    values = line.split()\n",
    "    word = values[0]\n",
    "    coefs = asarray(values[1:], dtype='float32')\n",
    "    embeddings_index[word] = coefs\n",
    "f.close()\n",
    "print('\\nLoaded %s word vectors.' % len(embeddings_index))"
   ]
  },
  {
   "cell_type": "code",
   "execution_count": 19,
   "id": "14ee5a7a",
   "metadata": {},
   "outputs": [],
   "source": [
    "vocab_size = len(tokenizer.word_index) + 1"
   ]
  },
  {
   "cell_type": "code",
   "execution_count": 20,
   "id": "f0b06ac7",
   "metadata": {},
   "outputs": [],
   "source": [
    "# create a weight matrix for words in training docs\n",
    "embedding_matrix = zeros((vocab_size, 300))\n",
    "for word, i in tokenizer.word_index.items():\n",
    "    embedding_vector = embeddings_index.get(word)\n",
    "    if embedding_vector is not None:\n",
    "        embedding_matrix[i] = embedding_vector"
   ]
  },
  {
   "cell_type": "markdown",
   "id": "dfbded55",
   "metadata": {},
   "source": [
    "# <font color='blue'> Categorical feature Vectorization </font>"
   ]
  },
  {
   "cell_type": "code",
   "execution_count": 21,
   "id": "6d111720",
   "metadata": {},
   "outputs": [],
   "source": [
    "enc = OrdinalEncoder(handle_unknown='use_encoded_value',unknown_value=np.nan)"
   ]
  },
  {
   "cell_type": "code",
   "execution_count": 22,
   "id": "e0993aca",
   "metadata": {},
   "outputs": [],
   "source": [
    "school_state_enc = (enc.fit_transform(np.array(X_train['school_state']).reshape(-1,1)))\n",
    "teacher_prefix_enc = (enc.fit_transform(np.array(X_train['teacher_prefix']).reshape(-1,1)))\n",
    "project_grade_category_enc = (enc.fit_transform(np.array(X_train['project_grade_category']).reshape(-1,1)))\n",
    "clean_categories_enc = (enc.fit_transform(np.array(X_train['clean_categories']).reshape(-1,1)))\n",
    "clean_subcategories_enc = (enc.fit_transform(np.array(X_train['clean_subcategories']).reshape(-1,1)))\n"
   ]
  },
  {
   "cell_type": "code",
   "execution_count": 23,
   "id": "a9eed84a",
   "metadata": {},
   "outputs": [],
   "source": [
    "school_state_enc_test = (enc.transform(np.array(X_test['school_state']).reshape(-1,1)))\n",
    "teacher_prefix_enc_test = (enc.transform(np.array(X_test['teacher_prefix']).reshape(-1,1)))\n",
    "project_grade_category_enc_test = (enc.transform(np.array(X_test['project_grade_category']).reshape(-1,1)))\n",
    "clean_categories_enc_test = (enc.transform(np.array(X_test['clean_categories']).reshape(-1,1)))\n",
    "clean_subcategories_enc_test = (enc.transform(np.array(X_test['clean_subcategories']).reshape(-1,1)))\n"
   ]
  },
  {
   "cell_type": "code",
   "execution_count": null,
   "id": "b09559be",
   "metadata": {},
   "outputs": [],
   "source": []
  },
  {
   "cell_type": "markdown",
   "id": "9f5bd14b",
   "metadata": {},
   "source": [
    " # <font color='blue'>Numerical Feature Vectorization </font>"
   ]
  },
  {
   "cell_type": "code",
   "execution_count": 24,
   "id": "29a441c7",
   "metadata": {},
   "outputs": [],
   "source": [
    "numerical_input = ['teacher_number_of_previously_posted_projects',\n",
    "                   'resource_summary_contains_numerical_digits',\n",
    "                   'price','quantity'\n",
    "                  ]\n",
    "\n",
    "scaler  = preprocessing.StandardScaler().fit(X_train[numerical_input])\n",
    "std_data_train = np.array(pd.DataFrame(scaler.transform(X_train[numerical_input]),columns=numerical_input))\n",
    "std_data_test = np.array(pd.DataFrame(scaler.transform(X_test[numerical_input]),columns=numerical_input))"
   ]
  },
  {
   "cell_type": "code",
   "execution_count": null,
   "id": "828f592a",
   "metadata": {},
   "outputs": [],
   "source": []
  },
  {
   "cell_type": "markdown",
   "id": "68be8a50",
   "metadata": {},
   "source": [
    "# <font color='blue'>defining the model</font>"
   ]
  },
  {
   "cell_type": "code",
   "execution_count": 25,
   "id": "7cfa7017",
   "metadata": {},
   "outputs": [],
   "source": [
    "elements_in_school_state = (len(set(pd.DataFrame(school_state_enc)[0])))\n",
    "elements_in_teacher_prefix = (len(set(pd.DataFrame(teacher_prefix_enc)[0])))\n",
    "elements_in_project_grade_category = (len(set(pd.DataFrame(project_grade_category_enc)[0])))\n",
    "elements_in_clean_categories = (len(set(pd.DataFrame(clean_categories_enc)[0])))\n",
    "elements_in_clean_subcategories = (len(set(pd.DataFrame(clean_subcategories_enc)[0])))"
   ]
  },
  {
   "cell_type": "code",
   "execution_count": null,
   "id": "11f8448b",
   "metadata": {},
   "outputs": [],
   "source": []
  },
  {
   "cell_type": "code",
   "execution_count": 26,
   "id": "2fb2a7e0",
   "metadata": {},
   "outputs": [],
   "source": [
    "input_seq_total_text_data = Input(shape=(maxlen,),name='input_seq_total_text_data_')\n",
    "emb_text_data = Embedding(input_dim=vocab_size,output_dim=300, \n",
    "                          weights=[embedding_matrix], input_length=maxlen,trainable=False,\n",
    "                          name='emb_text_data')(input_seq_total_text_data)\n",
    "lstm = LSTM(units=25,activation='tanh',return_sequences=True)(emb_text_data)\n",
    "flatten_text = Flatten()(lstm)\n",
    "\n",
    "input_school_state = Input(shape=1,name='input_school_state')\n",
    "input_school_state_emb = Embedding(input_dim=elements_in_school_state,\n",
    "                                   output_dim=int(min(elements_in_school_state / 2, 50)),\n",
    "                                   input_length=1,\n",
    "                                  name='input_school_state_emb')(input_school_state)\n",
    "flatten_school_state = Flatten()(input_school_state_emb)\n",
    "\n",
    "\n",
    "input_grade_category = Input(shape=1,name='input_grade_category')\n",
    "input_grade_category_emb = Embedding(input_dim=elements_in_project_grade_category,\n",
    "                                   output_dim=int(min(elements_in_project_grade_category / 2, 50)),\n",
    "                                   input_length=1,\n",
    "                                  name='input_grade_category_emb')(input_grade_category)\n",
    "flatten_grade_category = Flatten()(input_grade_category_emb)\n",
    "\n",
    "\n",
    "input_clean_categories = Input(shape=1,name='input_clean_categories')\n",
    "input_clean_categories_emb = Embedding(input_dim=elements_in_clean_categories,\n",
    "                                      output_dim=int(min(elements_in_clean_categories / 2, 50)),\n",
    "                                      input_length=1,\n",
    "                                      name='input_clean_categories_emb')(input_clean_categories)\n",
    "flatten_clean_categories = Flatten()(input_clean_categories_emb)\n",
    "\n",
    "\n",
    "\n",
    "input_clean_sub_categories = Input(shape=1,name='input_clean_sub_categories')\n",
    "input_clean_sub_categories_emb = Embedding(input_dim=elements_in_clean_subcategories,\n",
    "                                      output_dim=int(min(elements_in_clean_subcategories / 2, 50)),\n",
    "                                      input_length=1,\n",
    "                                      name='input_clean_sub_categories_emb')(input_clean_sub_categories)\n",
    "flatten_clean_sub_categories = Flatten()(input_clean_sub_categories_emb)\n",
    "\n",
    "\n",
    "input_teacher_prefix = Input(shape=1,name='input_teacher_prefix')\n",
    "input_teacher_prefix_emb = Embedding(input_dim=elements_in_teacher_prefix,\n",
    "                                      output_dim=int(min(elements_in_teacher_prefix / 2, 50)),\n",
    "                                      input_length=1,\n",
    "                                      name='input_teacher_prefix_emb')(input_teacher_prefix)\n",
    "flatten_teacher_prefix = Flatten()(input_teacher_prefix_emb)\n",
    "\n",
    "\n",
    "\n",
    "input_remaining = Input(shape=4,name='input_remaining')\n",
    "input_remaining_dense = Dense(units=128,activation='relu',\n",
    "                               kernel_initializer='he_normal',kernel_regularizer=l2(0.00001),\n",
    "                              name='input_remaining_dense')(input_remaining)\n",
    "flatten_remaining = Flatten()(input_remaining_dense)\n",
    "\n",
    "concat_layer = concatenate([flatten_text,flatten_school_state,flatten_grade_category,\n",
    "                            flatten_clean_categories,flatten_clean_sub_categories,\n",
    "                            flatten_teacher_prefix,flatten_remaining],)\n",
    "\n",
    "dense_layer1_after_concat = Dense(units=128,activation='relu',\n",
    "                                  kernel_initializer='he_normal',kernel_regularizer=l2(0.00001),\n",
    "                                  name='dense_layer1_after_concat')(concat_layer)\n",
    "drop1 = Dropout(0.5)(dense_layer1_after_concat)\n",
    "\n",
    "dense_layer2_after_concat = Dense(units=128,activation='relu',\n",
    "                                  kernel_initializer='he_normal',kernel_regularizer=l2(0.00001),\n",
    "                                  name='dense_layer2_after_concat')(drop1)\n",
    "drop2 = Dropout(0.5)(dense_layer2_after_concat)\n",
    "\n",
    "bn1 = BatchNormalization()(drop2)\n",
    "\n",
    "dense_layer3_after_concat = Dense(units=128,activation='relu',\n",
    "                                  kernel_initializer='he_normal',kernel_regularizer=l2(0.00001),\n",
    "                                  name='dense_layer3_after_concat')(bn1)\n",
    "drop3 = Dropout(0.5)(dense_layer3_after_concat)\n",
    "\n",
    "dense_layer4_after_concat = Dense(units=128,activation='relu',\n",
    "                                  kernel_initializer='he_normal',kernel_regularizer=l2(0.00001),\n",
    "                                  name='dense_layer4_after_concat')(drop3)\n",
    "drop4 = Dropout(0.5)(dense_layer4_after_concat)\n",
    "\n",
    "output = Dense(units=2,activation='softmax')(drop4)\n"
   ]
  },
  {
   "cell_type": "code",
   "execution_count": 27,
   "id": "772f0f03",
   "metadata": {},
   "outputs": [],
   "source": [
    "m2 = Model(inputs=[input_seq_total_text_data, \n",
    "                   input_school_state,\n",
    "                   input_grade_category,\n",
    "                   input_clean_categories,\n",
    "                   input_clean_sub_categories,\n",
    "                   input_teacher_prefix,\n",
    "                   input_remaining],\n",
    "           outputs=[output])"
   ]
  },
  {
   "cell_type": "code",
   "execution_count": 28,
   "id": "d7d3f5b3",
   "metadata": {},
   "outputs": [
    {
     "name": "stdout",
     "output_type": "stream",
     "text": [
      "Model: \"model\"\n",
      "__________________________________________________________________________________________________\n",
      "Layer (type)                    Output Shape         Param #     Connected to                     \n",
      "==================================================================================================\n",
      "input_seq_total_text_data_ (Inp [(None, 122)]        0                                            \n",
      "__________________________________________________________________________________________________\n",
      "emb_text_data (Embedding)       (None, 122, 300)     17916300    input_seq_total_text_data_[0][0] \n",
      "__________________________________________________________________________________________________\n",
      "input_school_state (InputLayer) [(None, 1)]          0                                            \n",
      "__________________________________________________________________________________________________\n",
      "input_grade_category (InputLaye [(None, 1)]          0                                            \n",
      "__________________________________________________________________________________________________\n",
      "input_clean_categories (InputLa [(None, 1)]          0                                            \n",
      "__________________________________________________________________________________________________\n",
      "input_clean_sub_categories (Inp [(None, 1)]          0                                            \n",
      "__________________________________________________________________________________________________\n",
      "input_teacher_prefix (InputLaye [(None, 1)]          0                                            \n",
      "__________________________________________________________________________________________________\n",
      "input_remaining (InputLayer)    [(None, 4)]          0                                            \n",
      "__________________________________________________________________________________________________\n",
      "lstm (LSTM)                     (None, 122, 25)      32600       emb_text_data[0][0]              \n",
      "__________________________________________________________________________________________________\n",
      "input_school_state_emb (Embeddi (None, 1, 25)        1275        input_school_state[0][0]         \n",
      "__________________________________________________________________________________________________\n",
      "input_grade_category_emb (Embed (None, 1, 2)         8           input_grade_category[0][0]       \n",
      "__________________________________________________________________________________________________\n",
      "input_clean_categories_emb (Emb (None, 1, 25)        1275        input_clean_categories[0][0]     \n",
      "__________________________________________________________________________________________________\n",
      "input_clean_sub_categories_emb  (None, 1, 50)        20000       input_clean_sub_categories[0][0] \n",
      "__________________________________________________________________________________________________\n",
      "input_teacher_prefix_emb (Embed (None, 1, 2)         10          input_teacher_prefix[0][0]       \n",
      "__________________________________________________________________________________________________\n",
      "input_remaining_dense (Dense)   (None, 128)          640         input_remaining[0][0]            \n",
      "__________________________________________________________________________________________________\n",
      "flatten (Flatten)               (None, 3050)         0           lstm[0][0]                       \n",
      "__________________________________________________________________________________________________\n",
      "flatten_1 (Flatten)             (None, 25)           0           input_school_state_emb[0][0]     \n",
      "__________________________________________________________________________________________________\n",
      "flatten_2 (Flatten)             (None, 2)            0           input_grade_category_emb[0][0]   \n",
      "__________________________________________________________________________________________________\n",
      "flatten_3 (Flatten)             (None, 25)           0           input_clean_categories_emb[0][0] \n",
      "__________________________________________________________________________________________________\n",
      "flatten_4 (Flatten)             (None, 50)           0           input_clean_sub_categories_emb[0]\n",
      "__________________________________________________________________________________________________\n",
      "flatten_5 (Flatten)             (None, 2)            0           input_teacher_prefix_emb[0][0]   \n",
      "__________________________________________________________________________________________________\n",
      "flatten_6 (Flatten)             (None, 128)          0           input_remaining_dense[0][0]      \n",
      "__________________________________________________________________________________________________\n",
      "concatenate (Concatenate)       (None, 3282)         0           flatten[0][0]                    \n",
      "                                                                 flatten_1[0][0]                  \n",
      "                                                                 flatten_2[0][0]                  \n",
      "                                                                 flatten_3[0][0]                  \n",
      "                                                                 flatten_4[0][0]                  \n",
      "                                                                 flatten_5[0][0]                  \n",
      "                                                                 flatten_6[0][0]                  \n",
      "__________________________________________________________________________________________________\n",
      "dense_layer1_after_concat (Dens (None, 128)          420224      concatenate[0][0]                \n",
      "__________________________________________________________________________________________________\n",
      "dropout (Dropout)               (None, 128)          0           dense_layer1_after_concat[0][0]  \n",
      "__________________________________________________________________________________________________\n",
      "dense_layer2_after_concat (Dens (None, 128)          16512       dropout[0][0]                    \n",
      "__________________________________________________________________________________________________\n",
      "dropout_1 (Dropout)             (None, 128)          0           dense_layer2_after_concat[0][0]  \n",
      "__________________________________________________________________________________________________\n",
      "batch_normalization (BatchNorma (None, 128)          512         dropout_1[0][0]                  \n",
      "__________________________________________________________________________________________________\n",
      "dense_layer3_after_concat (Dens (None, 128)          16512       batch_normalization[0][0]        \n",
      "__________________________________________________________________________________________________\n",
      "dropout_2 (Dropout)             (None, 128)          0           dense_layer3_after_concat[0][0]  \n",
      "__________________________________________________________________________________________________\n",
      "dense_layer4_after_concat (Dens (None, 128)          16512       dropout_2[0][0]                  \n",
      "__________________________________________________________________________________________________\n",
      "dropout_3 (Dropout)             (None, 128)          0           dense_layer4_after_concat[0][0]  \n",
      "__________________________________________________________________________________________________\n",
      "dense (Dense)                   (None, 2)            258         dropout_3[0][0]                  \n",
      "==================================================================================================\n",
      "Total params: 18,442,638\n",
      "Trainable params: 526,082\n",
      "Non-trainable params: 17,916,556\n",
      "__________________________________________________________________________________________________\n"
     ]
    }
   ],
   "source": [
    "m2.summary()"
   ]
  },
  {
   "cell_type": "code",
   "execution_count": null,
   "id": "f66a73aa",
   "metadata": {},
   "outputs": [],
   "source": []
  },
  {
   "cell_type": "code",
   "execution_count": 29,
   "id": "102b5765",
   "metadata": {},
   "outputs": [],
   "source": [
    "test_data = [test_padded,school_state_enc_test,project_grade_category_enc_test,\n",
    "            clean_categories_enc_test,clean_subcategories_enc_test,teacher_prefix_enc_test,(std_data_test)]\n",
    "\n",
    "train_data = [train_padded,school_state_enc,project_grade_category_enc,\n",
    "              clean_categories_enc,clean_subcategories_enc,teacher_prefix_enc,(std_data_train)]             \n",
    "\n",
    "y_train_enc =  tensorflow.keras.utils.to_categorical(y_train, 2)\n",
    "y_test_enc =  tensorflow.keras.utils.to_categorical(y_test, 2)"
   ]
  },
  {
   "cell_type": "code",
   "execution_count": 30,
   "id": "34d0d40c",
   "metadata": {},
   "outputs": [],
   "source": [
    "def auc1(y_true, y_pred):\n",
    "    if len(np.unique(y_true[:,1])) == 1:\n",
    "        return 0.5\n",
    "    else:\n",
    "        return roc_auc_score( y_true, y_pred, average='macro', sample_weight=None).astype('double')\n",
    "\n",
    "def auroc(y_true, y_pred):\n",
    "    return tensorflow.numpy_function(auc1, (y_true, y_pred), tensorflow.double)\n",
    "\n",
    "callbacks = [\n",
    "    tf.keras.callbacks.ModelCheckpoint('./LSTM_Model_2.h5', save_weights_only=False,save_best_only=True, \\\n",
    "                                       mode='max', monitor='val_auroc',verbose=1),\n",
    "    tf.keras.callbacks.ReduceLROnPlateau(monitor='val_auroc', patience=2,mode='max',verbose=1,min_lr=0.00001),\n",
    "]\n",
    "\n"
   ]
  },
  {
   "cell_type": "code",
   "execution_count": 31,
   "id": "f1049d36",
   "metadata": {},
   "outputs": [],
   "source": [
    "m2.compile(optimizer='adam', loss='categorical_crossentropy', metrics=[auroc])"
   ]
  },
  {
   "cell_type": "code",
   "execution_count": 32,
   "id": "9ebb121f",
   "metadata": {
    "scrolled": false
   },
   "outputs": [
    {
     "name": "stdout",
     "output_type": "stream",
     "text": [
      "Epoch 1/50\n",
      "769/769 [==============================] - 22s 20ms/step - loss: 0.4851 - auroc: 0.5610 - val_loss: 0.4843 - val_auroc: 0.6053\n",
      "\n",
      "Epoch 00001: val_auroc improved from -inf to 0.60534, saving model to .\\LSTM_Model_2.h5\n",
      "Epoch 2/50\n",
      "769/769 [==============================] - 14s 18ms/step - loss: 0.4279 - auroc: 0.6325 - val_loss: 0.4552 - val_auroc: 0.6596\n",
      "\n",
      "Epoch 00002: val_auroc improved from 0.60534 to 0.65958, saving model to .\\LSTM_Model_2.h5\n",
      "Epoch 3/50\n",
      "769/769 [==============================] - 14s 18ms/step - loss: 0.4187 - auroc: 0.6636 - val_loss: 0.4376 - val_auroc: 0.6794\n",
      "\n",
      "Epoch 00003: val_auroc improved from 0.65958 to 0.67940, saving model to .\\LSTM_Model_2.h5\n",
      "Epoch 4/50\n",
      "769/769 [==============================] - 14s 18ms/step - loss: 0.4131 - auroc: 0.6794 - val_loss: 0.4381 - val_auroc: 0.6842\n",
      "\n",
      "Epoch 00004: val_auroc improved from 0.67940 to 0.68418, saving model to .\\LSTM_Model_2.h5\n",
      "Epoch 5/50\n",
      "769/769 [==============================] - 14s 18ms/step - loss: 0.4088 - auroc: 0.6905 - val_loss: 0.4281 - val_auroc: 0.6836\n",
      "\n",
      "Epoch 00005: val_auroc did not improve from 0.68418\n",
      "Epoch 6/50\n",
      "769/769 [==============================] - 14s 18ms/step - loss: 0.4061 - auroc: 0.6964 - val_loss: 0.4190 - val_auroc: 0.6911\n",
      "\n",
      "Epoch 00006: val_auroc improved from 0.68418 to 0.69108, saving model to .\\LSTM_Model_2.h5\n",
      "Epoch 7/50\n",
      "769/769 [==============================] - 14s 18ms/step - loss: 0.4019 - auroc: 0.7081 - val_loss: 0.4163 - val_auroc: 0.6939\n",
      "\n",
      "Epoch 00007: val_auroc improved from 0.69108 to 0.69386, saving model to .\\LSTM_Model_2.h5\n",
      "Epoch 8/50\n",
      "769/769 [==============================] - 14s 18ms/step - loss: 0.3997 - auroc: 0.7129 - val_loss: 0.4149 - val_auroc: 0.6935\n",
      "\n",
      "Epoch 00008: val_auroc did not improve from 0.69386\n",
      "Epoch 9/50\n",
      "769/769 [==============================] - 14s 18ms/step - loss: 0.3967 - auroc: 0.7223 - val_loss: 0.4196 - val_auroc: 0.6903\n",
      "\n",
      "Epoch 00009: val_auroc did not improve from 0.69386\n",
      "\n",
      "Epoch 00009: ReduceLROnPlateau reducing learning rate to 0.00010000000474974513.\n",
      "Epoch 10/50\n",
      "769/769 [==============================] - 14s 18ms/step - loss: 0.3882 - auroc: 0.7403 - val_loss: 0.4130 - val_auroc: 0.6881\n",
      "\n",
      "Epoch 00010: val_auroc did not improve from 0.69386\n",
      "Epoch 11/50\n",
      "769/769 [==============================] - 14s 18ms/step - loss: 0.3846 - auroc: 0.7481 - val_loss: 0.4135 - val_auroc: 0.6854\n",
      "\n",
      "Epoch 00011: val_auroc did not improve from 0.69386\n",
      "\n",
      "Epoch 00011: ReduceLROnPlateau reducing learning rate to 1.0000000474974514e-05.\n",
      "Epoch 12/50\n",
      "769/769 [==============================] - 14s 18ms/step - loss: 0.3822 - auroc: 0.7530 - val_loss: 0.4131 - val_auroc: 0.6850\n",
      "\n",
      "Epoch 00012: val_auroc did not improve from 0.69386\n",
      "Epoch 13/50\n",
      "769/769 [==============================] - 14s 18ms/step - loss: 0.3824 - auroc: 0.7516 - val_loss: 0.4129 - val_auroc: 0.6847\n",
      "\n",
      "Epoch 00013: val_auroc did not improve from 0.69386\n",
      "\n",
      "Epoch 00013: ReduceLROnPlateau reducing learning rate to 1e-05.\n",
      "Epoch 14/50\n",
      "769/769 [==============================] - 14s 18ms/step - loss: 0.3821 - auroc: 0.7536 - val_loss: 0.4129 - val_auroc: 0.6843\n",
      "\n",
      "Epoch 00014: val_auroc did not improve from 0.69386\n",
      "Epoch 15/50\n",
      "769/769 [==============================] - 14s 18ms/step - loss: 0.3809 - auroc: 0.7557 - val_loss: 0.4127 - val_auroc: 0.6840\n",
      "\n",
      "Epoch 00015: val_auroc did not improve from 0.69386\n",
      "Epoch 16/50\n",
      "769/769 [==============================] - 14s 18ms/step - loss: 0.3811 - auroc: 0.7562 - val_loss: 0.4127 - val_auroc: 0.6839\n",
      "\n",
      "Epoch 00016: val_auroc did not improve from 0.69386\n",
      "Epoch 17/50\n",
      "769/769 [==============================] - 14s 18ms/step - loss: 0.3815 - auroc: 0.7546 - val_loss: 0.4126 - val_auroc: 0.6834\n",
      "\n",
      "Epoch 00017: val_auroc did not improve from 0.69386\n",
      "Epoch 18/50\n",
      "769/769 [==============================] - 14s 18ms/step - loss: 0.3806 - auroc: 0.7571 - val_loss: 0.4126 - val_auroc: 0.6834\n",
      "\n",
      "Epoch 00018: val_auroc did not improve from 0.69386\n",
      "Epoch 19/50\n",
      "769/769 [==============================] - 14s 18ms/step - loss: 0.3800 - auroc: 0.7575 - val_loss: 0.4126 - val_auroc: 0.6832\n",
      "\n",
      "Epoch 00019: val_auroc did not improve from 0.69386\n",
      "Epoch 20/50\n",
      "769/769 [==============================] - 14s 18ms/step - loss: 0.3805 - auroc: 0.7569 - val_loss: 0.4128 - val_auroc: 0.6828\n",
      "\n",
      "Epoch 00020: val_auroc did not improve from 0.69386\n",
      "Epoch 21/50\n",
      "769/769 [==============================] - 14s 18ms/step - loss: 0.3793 - auroc: 0.7584 - val_loss: 0.4127 - val_auroc: 0.6832\n",
      "\n",
      "Epoch 00021: val_auroc did not improve from 0.69386\n",
      "Epoch 22/50\n",
      "769/769 [==============================] - 14s 18ms/step - loss: 0.3791 - auroc: 0.7592 - val_loss: 0.4129 - val_auroc: 0.6828\n",
      "\n",
      "Epoch 00022: val_auroc did not improve from 0.69386\n",
      "Epoch 23/50\n",
      "769/769 [==============================] - 14s 18ms/step - loss: 0.3800 - auroc: 0.7578 - val_loss: 0.4128 - val_auroc: 0.6827\n",
      "\n",
      "Epoch 00023: val_auroc did not improve from 0.69386\n",
      "Epoch 24/50\n",
      "769/769 [==============================] - 14s 18ms/step - loss: 0.3792 - auroc: 0.7588 - val_loss: 0.4126 - val_auroc: 0.6826\n",
      "\n",
      "Epoch 00024: val_auroc did not improve from 0.69386\n",
      "Epoch 25/50\n",
      "769/769 [==============================] - 14s 18ms/step - loss: 0.3789 - auroc: 0.7589 - val_loss: 0.4125 - val_auroc: 0.6823\n",
      "\n",
      "Epoch 00025: val_auroc did not improve from 0.69386\n",
      "Epoch 26/50\n",
      "769/769 [==============================] - 14s 18ms/step - loss: 0.3782 - auroc: 0.7594 - val_loss: 0.4124 - val_auroc: 0.6825\n",
      "\n",
      "Epoch 00026: val_auroc did not improve from 0.69386\n",
      "Epoch 27/50\n",
      "769/769 [==============================] - 14s 18ms/step - loss: 0.3794 - auroc: 0.7582 - val_loss: 0.4127 - val_auroc: 0.6819\n",
      "\n",
      "Epoch 00027: val_auroc did not improve from 0.69386\n",
      "Epoch 28/50\n",
      "769/769 [==============================] - 14s 18ms/step - loss: 0.3785 - auroc: 0.7599 - val_loss: 0.4126 - val_auroc: 0.6820\n",
      "\n",
      "Epoch 00028: val_auroc did not improve from 0.69386\n",
      "Epoch 29/50\n",
      "769/769 [==============================] - 14s 18ms/step - loss: 0.3782 - auroc: 0.7606 - val_loss: 0.4125 - val_auroc: 0.6820\n",
      "\n",
      "Epoch 00029: val_auroc did not improve from 0.69386\n",
      "Epoch 30/50\n",
      "769/769 [==============================] - 14s 18ms/step - loss: 0.3772 - auroc: 0.7635 - val_loss: 0.4123 - val_auroc: 0.6820\n",
      "\n",
      "Epoch 00030: val_auroc did not improve from 0.69386\n",
      "Epoch 31/50\n",
      "769/769 [==============================] - 14s 18ms/step - loss: 0.3782 - auroc: 0.7597 - val_loss: 0.4120 - val_auroc: 0.6816\n",
      "\n",
      "Epoch 00031: val_auroc did not improve from 0.69386\n",
      "Epoch 32/50\n",
      "769/769 [==============================] - 14s 18ms/step - loss: 0.3787 - auroc: 0.7591 - val_loss: 0.4127 - val_auroc: 0.6813\n",
      "\n",
      "Epoch 00032: val_auroc did not improve from 0.69386\n",
      "Epoch 33/50\n",
      "769/769 [==============================] - 14s 18ms/step - loss: 0.3776 - auroc: 0.7613 - val_loss: 0.4124 - val_auroc: 0.6812\n",
      "\n",
      "Epoch 00033: val_auroc did not improve from 0.69386\n",
      "Epoch 34/50\n",
      "769/769 [==============================] - 14s 18ms/step - loss: 0.3786 - auroc: 0.7592 - val_loss: 0.4125 - val_auroc: 0.6813\n",
      "\n",
      "Epoch 00034: val_auroc did not improve from 0.69386\n",
      "Epoch 35/50\n",
      "769/769 [==============================] - 14s 18ms/step - loss: 0.3777 - auroc: 0.7611 - val_loss: 0.4123 - val_auroc: 0.6812\n",
      "\n",
      "Epoch 00035: val_auroc did not improve from 0.69386\n",
      "Epoch 36/50\n",
      "769/769 [==============================] - 14s 18ms/step - loss: 0.3759 - auroc: 0.7639 - val_loss: 0.4125 - val_auroc: 0.6808\n",
      "\n",
      "Epoch 00036: val_auroc did not improve from 0.69386\n",
      "Epoch 37/50\n",
      "769/769 [==============================] - 14s 18ms/step - loss: 0.3758 - auroc: 0.7645 - val_loss: 0.4125 - val_auroc: 0.6806\n",
      "\n",
      "Epoch 00037: val_auroc did not improve from 0.69386\n",
      "Epoch 38/50\n",
      "769/769 [==============================] - 14s 18ms/step - loss: 0.3767 - auroc: 0.7630 - val_loss: 0.4123 - val_auroc: 0.6807\n",
      "\n",
      "Epoch 00038: val_auroc did not improve from 0.69386\n",
      "Epoch 39/50\n",
      "769/769 [==============================] - 14s 18ms/step - loss: 0.3766 - auroc: 0.7618 - val_loss: 0.4124 - val_auroc: 0.6804\n",
      "\n",
      "Epoch 00039: val_auroc did not improve from 0.69386\n",
      "Epoch 40/50\n",
      "769/769 [==============================] - 14s 18ms/step - loss: 0.3762 - auroc: 0.7640 - val_loss: 0.4125 - val_auroc: 0.6805\n",
      "\n",
      "Epoch 00040: val_auroc did not improve from 0.69386\n",
      "Epoch 41/50\n"
     ]
    },
    {
     "name": "stdout",
     "output_type": "stream",
     "text": [
      "769/769 [==============================] - 14s 18ms/step - loss: 0.3760 - auroc: 0.7649 - val_loss: 0.4122 - val_auroc: 0.6800\n",
      "\n",
      "Epoch 00041: val_auroc did not improve from 0.69386\n",
      "Epoch 42/50\n",
      "769/769 [==============================] - 14s 18ms/step - loss: 0.3760 - auroc: 0.7656 - val_loss: 0.4123 - val_auroc: 0.6800\n",
      "\n",
      "Epoch 00042: val_auroc did not improve from 0.69386\n",
      "Epoch 43/50\n",
      "769/769 [==============================] - 14s 18ms/step - loss: 0.3757 - auroc: 0.7649 - val_loss: 0.4121 - val_auroc: 0.6800\n",
      "\n",
      "Epoch 00043: val_auroc did not improve from 0.69386\n",
      "Epoch 44/50\n",
      "769/769 [==============================] - 14s 18ms/step - loss: 0.3756 - auroc: 0.7652 - val_loss: 0.4123 - val_auroc: 0.6797\n",
      "\n",
      "Epoch 00044: val_auroc did not improve from 0.69386\n",
      "Epoch 45/50\n",
      "769/769 [==============================] - 14s 18ms/step - loss: 0.3749 - auroc: 0.7668 - val_loss: 0.4121 - val_auroc: 0.6796\n",
      "\n",
      "Epoch 00045: val_auroc did not improve from 0.69386\n",
      "Epoch 46/50\n",
      "769/769 [==============================] - 14s 18ms/step - loss: 0.3753 - auroc: 0.7661 - val_loss: 0.4121 - val_auroc: 0.6794\n",
      "\n",
      "Epoch 00046: val_auroc did not improve from 0.69386\n",
      "Epoch 47/50\n",
      "769/769 [==============================] - 14s 18ms/step - loss: 0.3751 - auroc: 0.7663 - val_loss: 0.4122 - val_auroc: 0.6794\n",
      "\n",
      "Epoch 00047: val_auroc did not improve from 0.69386\n",
      "Epoch 48/50\n",
      "769/769 [==============================] - 14s 18ms/step - loss: 0.3753 - auroc: 0.7653 - val_loss: 0.4122 - val_auroc: 0.6795\n",
      "\n",
      "Epoch 00048: val_auroc did not improve from 0.69386\n",
      "Epoch 49/50\n",
      "769/769 [==============================] - 14s 18ms/step - loss: 0.3748 - auroc: 0.7664 - val_loss: 0.4125 - val_auroc: 0.6795\n",
      "\n",
      "Epoch 00049: val_auroc did not improve from 0.69386\n",
      "Epoch 50/50\n",
      "769/769 [==============================] - 14s 18ms/step - loss: 0.3752 - auroc: 0.7647 - val_loss: 0.4124 - val_auroc: 0.6793\n",
      "\n",
      "Epoch 00050: val_auroc did not improve from 0.69386\n"
     ]
    },
    {
     "data": {
      "text/plain": [
       "<keras.callbacks.History at 0x24fb3dd5ca0>"
      ]
     },
     "execution_count": 32,
     "metadata": {},
     "output_type": "execute_result"
    }
   ],
   "source": [
    "m2.fit(train_data,y_train_enc,\n",
    "       validation_data=(test_data,y_test_enc),\n",
    "       batch_size=128,\n",
    "       epochs=50,\n",
    "       callbacks=callbacks,\n",
    "       verbose=1)"
   ]
  },
  {
   "cell_type": "code",
   "execution_count": null,
   "id": "a5cfbb47",
   "metadata": {},
   "outputs": [],
   "source": []
  },
  {
   "cell_type": "code",
   "execution_count": null,
   "id": "8daf2caf",
   "metadata": {},
   "outputs": [],
   "source": []
  },
  {
   "cell_type": "code",
   "execution_count": null,
   "id": "a5d7c301",
   "metadata": {},
   "outputs": [],
   "source": []
  },
  {
   "cell_type": "code",
   "execution_count": null,
   "id": "62378c54",
   "metadata": {},
   "outputs": [],
   "source": []
  },
  {
   "cell_type": "code",
   "execution_count": null,
   "id": "262e11f0",
   "metadata": {},
   "outputs": [],
   "source": []
  },
  {
   "cell_type": "code",
   "execution_count": null,
   "id": "dbf3e1a4",
   "metadata": {},
   "outputs": [],
   "source": []
  }
 ],
 "metadata": {
  "kernelspec": {
   "display_name": "Python 3 (ipykernel)",
   "language": "python",
   "name": "python3"
  },
  "language_info": {
   "codemirror_mode": {
    "name": "ipython",
    "version": 3
   },
   "file_extension": ".py",
   "mimetype": "text/x-python",
   "name": "python",
   "nbconvert_exporter": "python",
   "pygments_lexer": "ipython3",
   "version": "3.9.13"
  }
 },
 "nbformat": 4,
 "nbformat_minor": 5
}
