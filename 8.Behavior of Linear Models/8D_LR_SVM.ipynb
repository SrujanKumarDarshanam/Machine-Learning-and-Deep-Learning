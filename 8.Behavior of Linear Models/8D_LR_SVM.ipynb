{
 "cells": [
  {
   "cell_type": "markdown",
   "metadata": {
    "id": "86Tvnj5UblTy"
   },
   "source": [
    "## Task-D: Collinear features and their effect on linear models"
   ]
  },
  {
   "cell_type": "code",
   "execution_count": null,
   "metadata": {
    "id": "qn_eOn2EblT3"
   },
   "outputs": [],
   "source": [
    "%matplotlib inline\n",
    "import warnings\n",
    "warnings.filterwarnings(\"ignore\")\n",
    "import pandas as pd\n",
    "import numpy as np\n",
    "from sklearn.datasets import load_iris\n",
    "from sklearn.linear_model import SGDClassifier\n",
    "from sklearn.model_selection import GridSearchCV\n",
    "import seaborn as sns\n",
    "import matplotlib.pyplot as plt"
   ]
  },
  {
   "cell_type": "code",
   "execution_count": null,
   "metadata": {
    "colab": {
     "base_uri": "https://localhost:8080/"
    },
    "id": "Yj6Ypg7SEUCC",
    "outputId": "10a2cf2d-6ab5-48b7-f8ee-62a3a85b106b"
   },
   "outputs": [
    {
     "name": "stdout",
     "output_type": "stream",
     "text": [
      "Drive already mounted at /content/drive; to attempt to forcibly remount, call drive.mount(\"/content/drive\", force_remount=True).\n"
     ]
    }
   ],
   "source": [
    "from google.colab import drive\n",
    "drive.mount('/content/drive')"
   ]
  },
  {
   "cell_type": "code",
   "execution_count": null,
   "metadata": {
    "id": "VMoYWIayblUB"
   },
   "outputs": [],
   "source": [
    "data = pd.read_csv('/content/drive/MyDrive/AAIC/Assignments/10.Behavior of Linear Models/practice/task_d.csv')"
   ]
  },
  {
   "cell_type": "code",
   "execution_count": null,
   "metadata": {
    "colab": {
     "base_uri": "https://localhost:8080/",
     "height": 204
    },
    "id": "RfStXG4tblUI",
    "outputId": "b3b81d70-5bea-475f-f70f-42c9f0b4ffbd"
   },
   "outputs": [
    {
     "data": {
      "text/html": [
       "<div>\n",
       "<style scoped>\n",
       "    .dataframe tbody tr th:only-of-type {\n",
       "        vertical-align: middle;\n",
       "    }\n",
       "\n",
       "    .dataframe tbody tr th {\n",
       "        vertical-align: top;\n",
       "    }\n",
       "\n",
       "    .dataframe thead th {\n",
       "        text-align: right;\n",
       "    }\n",
       "</style>\n",
       "<table border=\"1\" class=\"dataframe\">\n",
       "  <thead>\n",
       "    <tr style=\"text-align: right;\">\n",
       "      <th></th>\n",
       "      <th>x</th>\n",
       "      <th>y</th>\n",
       "      <th>z</th>\n",
       "      <th>x*x</th>\n",
       "      <th>2*y</th>\n",
       "      <th>2*z+3*x*x</th>\n",
       "      <th>w</th>\n",
       "      <th>target</th>\n",
       "    </tr>\n",
       "  </thead>\n",
       "  <tbody>\n",
       "    <tr>\n",
       "      <th>0</th>\n",
       "      <td>-0.581066</td>\n",
       "      <td>0.841837</td>\n",
       "      <td>-1.012978</td>\n",
       "      <td>-0.604025</td>\n",
       "      <td>0.841837</td>\n",
       "      <td>-0.665927</td>\n",
       "      <td>-0.536277</td>\n",
       "      <td>0</td>\n",
       "    </tr>\n",
       "    <tr>\n",
       "      <th>1</th>\n",
       "      <td>-0.894309</td>\n",
       "      <td>-0.207835</td>\n",
       "      <td>-1.012978</td>\n",
       "      <td>-0.883052</td>\n",
       "      <td>-0.207835</td>\n",
       "      <td>-0.917054</td>\n",
       "      <td>-0.522364</td>\n",
       "      <td>0</td>\n",
       "    </tr>\n",
       "    <tr>\n",
       "      <th>2</th>\n",
       "      <td>-1.207552</td>\n",
       "      <td>0.212034</td>\n",
       "      <td>-1.082312</td>\n",
       "      <td>-1.150918</td>\n",
       "      <td>0.212034</td>\n",
       "      <td>-1.166507</td>\n",
       "      <td>0.205738</td>\n",
       "      <td>0</td>\n",
       "    </tr>\n",
       "    <tr>\n",
       "      <th>3</th>\n",
       "      <td>-1.364174</td>\n",
       "      <td>0.002099</td>\n",
       "      <td>-0.943643</td>\n",
       "      <td>-1.280666</td>\n",
       "      <td>0.002099</td>\n",
       "      <td>-1.266540</td>\n",
       "      <td>-0.665720</td>\n",
       "      <td>0</td>\n",
       "    </tr>\n",
       "    <tr>\n",
       "      <th>4</th>\n",
       "      <td>-0.737687</td>\n",
       "      <td>1.051772</td>\n",
       "      <td>-1.012978</td>\n",
       "      <td>-0.744934</td>\n",
       "      <td>1.051772</td>\n",
       "      <td>-0.792746</td>\n",
       "      <td>-0.735054</td>\n",
       "      <td>0</td>\n",
       "    </tr>\n",
       "  </tbody>\n",
       "</table>\n",
       "</div>"
      ],
      "text/plain": [
       "          x         y         z  ...  2*z+3*x*x         w  target\n",
       "0 -0.581066  0.841837 -1.012978  ...  -0.665927 -0.536277       0\n",
       "1 -0.894309 -0.207835 -1.012978  ...  -0.917054 -0.522364       0\n",
       "2 -1.207552  0.212034 -1.082312  ...  -1.166507  0.205738       0\n",
       "3 -1.364174  0.002099 -0.943643  ...  -1.266540 -0.665720       0\n",
       "4 -0.737687  1.051772 -1.012978  ...  -0.792746 -0.735054       0\n",
       "\n",
       "[5 rows x 8 columns]"
      ]
     },
     "execution_count": 4,
     "metadata": {
      "tags": []
     },
     "output_type": "execute_result"
    }
   ],
   "source": [
    "data.head()"
   ]
  },
  {
   "cell_type": "code",
   "execution_count": null,
   "metadata": {
    "id": "JIIuomCkblUP"
   },
   "outputs": [],
   "source": [
    "X = data.drop(['target'], axis=1).values\n",
    "Y = data['target'].values"
   ]
  },
  {
   "cell_type": "markdown",
   "metadata": {
    "id": "Ydm98u3EblUU"
   },
   "source": [
    "### Doing perturbation test to check the presence of collinearity  \n",
    "\n",
    "#### Task: 1 Logistic Regression\n",
    "<pre>\n",
    "\n",
    "\n",
    "1. <b>Finding the Correlation between the features</b>\n",
    "    a. check the correlation between the features\n",
    "    b. plot heat map of correlation matrix using seaborn heatmap\n",
    "2. <b>Finding the best model for the given data</b>\n",
    "    a. Train Logistic regression on data(X,Y) that we have created in the above cell\n",
    "    b. Find the best hyper prameter alpha with hyper parameter tuning using k-fold cross validation (grid search CV or         \n",
    "    random search CV make sure you choose the alpha in log space)\n",
    "    c. Creat a new Logistic regression with the best alpha\n",
    "    (search for how to get the best hyper parameter value), name the best model as 'best_model'\n",
    "    \n",
    "3. <b>Getting the weights with the original data</b>\n",
    "    a. train the 'best_model' with X, Y\n",
    "    b. Check the accuracy of the model 'best_model_accuracy'\n",
    "    c. Get the weights W using best_model.coef_\n",
    "\n",
    "4. <b>Modifying original data</b>\n",
    "    a. Add a noise(order of 10^-2) to each element of X \n",
    "    and get the new data set X' (X' = X + e)\n",
    "    b. Train the same 'best_model' with data (X', Y)\n",
    "    c. Check the accuracy of the model 'best_model_accuracy_edited'\n",
    "    d. Get the weights W' using best_model.coef_\n",
    "    \n",
    "5. <b> Checking deviations in metric and weights </b>\n",
    "    a. find the difference between 'best_model_accuracy_edited' and 'best_model_accuracy'\n",
    "    b. find the absolute change between each value of W and W' ==> |(W-W')|\n",
    "    c. print the top 4 features which have higher % change in weights \n",
    "    compare to the other feature\n",
    "\n",
    "</pre>\n",
    "\n",
    "#### Task: 2 Linear SVM\n",
    "\n",
    "<pre>\n",
    "1. Do the same steps (2, 3, 4, 5) we have done in the above task 1.\n",
    "</pre>\n",
    "\n",
    "<strong><font color='red'>Do write the observations based on the results you get from the deviations of weights in both Logistic Regression and linear SVM</font></strong>"
   ]
  },
  {
   "cell_type": "markdown",
   "metadata": {
    "id": "RDHDFk_dE0Ea"
   },
   "source": [
    "# TASK-1 (Logistic Regression)"
   ]
  },
  {
   "cell_type": "code",
   "execution_count": null,
   "metadata": {
    "colab": {
     "base_uri": "https://localhost:8080/"
    },
    "id": "juDzVIjTNoNC",
    "outputId": "96154c51-777d-4c70-cbb4-9d8937436250"
   },
   "outputs": [
    {
     "name": "stdout",
     "output_type": "stream",
     "text": [
      "Requirement already satisfied: colorama in /usr/local/lib/python3.6/dist-packages (0.4.4)\n"
     ]
    }
   ],
   "source": [
    "pip install colorama"
   ]
  },
  {
   "cell_type": "code",
   "execution_count": null,
   "metadata": {
    "id": "wCDof2V3L5rI"
   },
   "outputs": [],
   "source": [
    "from sklearn.metrics import log_loss, make_scorer,hinge_loss,roc_auc_score,confusion_matrix,accuracy_score\n",
    "import seaborn as sns\n",
    "#import colorama\n",
    "from colorama import Fore, Style\n",
    "import math as m\n",
    "\n",
    "def plot(r,x_ax):\n",
    "  plt.xlabel('Hyper-Param\\'s in Log-space')\n",
    "  plt.ylabel('AUC-Score')\n",
    "  plt.plot(x_ax,r['mean_train_score'],'-o',label='tr-scores')\n",
    "  plt.plot(x_ax,r['mean_test_score'],'-o',label='cv-scores')\n",
    "  plt.grid()\n",
    "  plt.legend()\n",
    "  plt.show()\n",
    "  return \n",
    "\n",
    "def fun(best_model,X_train,Y_train,X_test,Y_test):\n",
    "  best_model.fit(X_train,Y_train)\n",
    "  W = best_model.coef_\n",
    "  print('*'*100)\n",
    "  print(f\"{Fore.BLUE}Best_Model:{Style.RESET_ALL}\") #https://stackoverflow.com/questions/39473297/how-do-i-print-colored-output-with-python-3\n",
    "  print(best_model.get_params)\n",
    "  print('*'*100)\n",
    "  print(f\"{Fore.BLUE}Best_Model_Weights:{Style.RESET_ALL}\",'\\n',W)\n",
    "  print('*'*100)\n",
    "  #cm = (confusion_matrix(Y_test,best_model.predict(X_test)))\n",
    "  #sns.heatmap(cm,annot=True)\n",
    "  #plt.show()\n",
    "  best_model_accuraccy = accuracy_score(Y_test,best_model.predict(X_test))\n",
    "  print(f\"{Fore.BLUE}Best_Model_Accuraccy:{Style.RESET_ALL}\",'\\n',best_model_accuraccy)\n",
    "  print('*'*100)\n",
    "  return W,best_model_accuraccy\n",
    "\n",
    "def train(loss_,X_train,Y_train,X_test,Y_test):\n",
    "  params = {'alpha': [1e-5,1e-4,1e-3,1e-2,1e-1,1,10,100,1000,10000,100000],\n",
    "            #'eta0' : [1e-5,1e-4,1e-3,1e-2,1e-1,1,10,100,1000,10000,100000]\n",
    "            }\n",
    "  x_ax = [m.log(x) for x in params['alpha']]\n",
    "  if loss_== log_loss:\n",
    "    l = 'log'\n",
    "  else:\n",
    "    l = 'hinge'\n",
    "  \n",
    "  model = GridSearchCV(estimator=SGDClassifier(loss=l,n_jobs=-1),\n",
    "                       return_train_score=True,param_grid=params,scoring=make_scorer(roc_auc_score),\n",
    "                       n_jobs=-1,cv=10\n",
    "                       )\n",
    "  model.fit(X_train,Y_train)\n",
    "  r = pd.DataFrame(model.cv_results_)\n",
    "  plot(r,x_ax)\n",
    "  best_model = model.best_estimator_\n",
    "  \n",
    "  return best_model\n",
    "\n"
   ]
  },
  {
   "cell_type": "code",
   "execution_count": null,
   "metadata": {
    "colab": {
     "base_uri": "https://localhost:8080/",
     "height": 324
    },
    "id": "QytO0OsJ8_5t",
    "outputId": "fa0068e2-373e-4d2f-b02f-63f82744dbb8"
   },
   "outputs": [
    {
     "data": {
      "image/png": "[encoded data removed]",
      "text/plain": [
       "<Figure size 1080x360 with 2 Axes>"
      ]
     },
     "metadata": {
      "needs_background": "light",
      "tags": []
     },
     "output_type": "display_data"
    }
   ],
   "source": [
    "X = data.drop(['target'], axis=1)\n",
    "Y = data['target']\n",
    "\n",
    "fig, ax = plt.subplots(figsize=(15,5))         \n",
    "sns.heatmap(X.corr(), annot=True, linewidths=.5, ax=ax)\n",
    "plt.show()\n",
    "  "
   ]
  },
  {
   "cell_type": "markdown",
   "metadata": {
    "id": "9Xm3TSJ49BNT"
   },
   "source": [
    "## Training on Original Data"
   ]
  },
  {
   "cell_type": "code",
   "execution_count": null,
   "metadata": {
    "colab": {
     "base_uri": "https://localhost:8080/",
     "height": 551
    },
    "id": "zIkhq1pRL6a-",
    "outputId": "9461f398-a642-4f1c-da1c-2c1f02a7ed0c"
   },
   "outputs": [
    {
     "data": {
      "image/png": "[encoded data removed]",
      "text/plain": [
       "<Figure size 432x288 with 1 Axes>"
      ]
     },
     "metadata": {
      "needs_background": "light",
      "tags": []
     },
     "output_type": "display_data"
    },
    {
     "name": "stdout",
     "output_type": "stream",
     "text": [
      "****************************************************************************************************\n",
      "\u001b[34mBest_Model:\u001b[0m\n",
      "<bound method BaseEstimator.get_params of SGDClassifier(alpha=1e-05, average=False, class_weight=None,\n",
      "              early_stopping=False, epsilon=0.1, eta0=0.0, fit_intercept=True,\n",
      "              l1_ratio=0.15, learning_rate='optimal', loss='log', max_iter=1000,\n",
      "              n_iter_no_change=5, n_jobs=-1, penalty='l2', power_t=0.5,\n",
      "              random_state=None, shuffle=True, tol=0.001,\n",
      "              validation_fraction=0.1, verbose=0, warm_start=False)>\n",
      "****************************************************************************************************\n",
      "\u001b[34mBest_Model_Weights:\u001b[0m \n",
      " [[ 20.77826339 -21.992494    27.77353984  20.28805504 -21.992494\n",
      "   21.61259704  27.03731201]]\n",
      "****************************************************************************************************\n",
      "\u001b[34mBest_Model_Accuraccy:\u001b[0m \n",
      " 1.0\n",
      "****************************************************************************************************\n"
     ]
    }
   ],
   "source": [
    "from sklearn.model_selection import train_test_split\n",
    "x_train, x_test, y_train, y_test = train_test_split(X, Y,stratify=Y,test_size=0.25,random_state=42)\n",
    "\n",
    "best_model = train(loss_=log_loss,X_train=x_train,Y_train=y_train,X_test=x_test,Y_test=y_test)\n",
    "W,best_model_accuraccy = fun(best_model,x_train,y_train,x_test,y_test)"
   ]
  },
  {
   "cell_type": "markdown",
   "metadata": {
    "id": "MoXJugU_9Lw_"
   },
   "source": [
    "## Training on Perturbated data"
   ]
  },
  {
   "cell_type": "code",
   "execution_count": null,
   "metadata": {
    "colab": {
     "base_uri": "https://localhost:8080/"
    },
    "id": "nnc3JqE9tTV1",
    "outputId": "5269fdce-ea73-43fb-adb1-b09a648eff77"
   },
   "outputs": [
    {
     "name": "stdout",
     "output_type": "stream",
     "text": [
      "****************************************************************************************************\n",
      "\u001b[34mBest_Model:\u001b[0m\n",
      "<bound method BaseEstimator.get_params of SGDClassifier(alpha=1e-05, average=False, class_weight=None,\n",
      "              early_stopping=False, epsilon=0.1, eta0=0.0, fit_intercept=True,\n",
      "              l1_ratio=0.15, learning_rate='optimal', loss='log', max_iter=1000,\n",
      "              n_iter_no_change=5, n_jobs=-1, penalty='l2', power_t=0.5,\n",
      "              random_state=None, shuffle=True, tol=0.001,\n",
      "              validation_fraction=0.1, verbose=0, warm_start=False)>\n",
      "****************************************************************************************************\n",
      "\u001b[34mBest_Model_Weights:\u001b[0m \n",
      " [[  2.08950276 -20.30395522  19.13797837   1.41465907 -20.30395522\n",
      "    3.58257832  -0.51286348]]\n",
      "****************************************************************************************************\n",
      "\u001b[34mBest_Model_Accuraccy:\u001b[0m \n",
      " 0.96\n",
      "****************************************************************************************************\n"
     ]
    }
   ],
   "source": [
    "X_dash = X + (10**(-2))\n",
    "x_train, x_test, y_train, y_test = train_test_split(X_dash, Y,stratify=Y,test_size=0.25,random_state=42)\n",
    "\n",
    "W_dash,best_model_accuraccy_edited = fun(best_model,x_train,y_train,x_test,y_test)"
   ]
  },
  {
   "cell_type": "markdown",
   "metadata": {
    "id": "sS7uvy9l9Y-D"
   },
   "source": [
    "## Comparing results\n"
   ]
  },
  {
   "cell_type": "code",
   "execution_count": null,
   "metadata": {
    "colab": {
     "base_uri": "https://localhost:8080/"
    },
    "id": "myHTy6autTZD",
    "outputId": "cfd858ac-a916-4521-cc7e-5ac12f6be62a"
   },
   "outputs": [
    {
     "name": "stdout",
     "output_type": "stream",
     "text": [
      "\u001b[34mbest_model_accuraccy_edited - best_model_accuraccy:\u001b[0m \n",
      " -0.040000000000000036 \n",
      "\n",
      "\u001b[34mabs(W-W_dash):\u001b[0m \n",
      " [[18.68876063  1.68853879  8.63556146 18.87339596  1.68853879 18.03001872\n",
      "  27.55017549]] \n",
      "\n",
      "\u001b[34mTop-feat:\u001b[0m\n",
      "w\n",
      "x*x\n",
      "x\n",
      "2*z+3*x*x\n"
     ]
    },
    {
     "data": {
      "text/plain": [
       "[None, None, None, None]"
      ]
     },
     "execution_count": 33,
     "metadata": {
      "tags": []
     },
     "output_type": "execute_result"
    }
   ],
   "source": [
    "def top_feat(best_model_accuraccy_edited,best_model_accuraccy,W,W_dash):\n",
    "  print(f\"{Fore.BLUE}best_model_accuraccy_edited - best_model_accuraccy:{Style.RESET_ALL}\",'\\n',best_model_accuraccy_edited-best_model_accuraccy,'\\n')\n",
    "  print(f\"{Fore.BLUE}abs(W-W_dash):{Style.RESET_ALL}\",'\\n',abs(W-W_dash),'\\n')\n",
    "  ind = list((np.argsort(-(abs(W-W_dash)/W)*100))[0])\n",
    "  feat = X.columns.to_list()\n",
    "  print(f\"{Fore.BLUE}Top-feat:{Style.RESET_ALL}\",)\n",
    "  return [print(feat[i]) for i in ind[:4]]\n",
    "top_feat(best_model_accuraccy_edited,best_model_accuraccy,W,W_dash)"
   ]
  },
  {
   "cell_type": "code",
   "execution_count": null,
   "metadata": {
    "id": "CIYrtQgO4cti"
   },
   "outputs": [],
   "source": []
  },
  {
   "cell_type": "code",
   "execution_count": null,
   "metadata": {
    "id": "7yljh8PE4cx-"
   },
   "outputs": [],
   "source": []
  },
  {
   "cell_type": "markdown",
   "metadata": {
    "id": "HWIneqEr9hZf"
   },
   "source": [
    "# Task-2 (Linear SVM)"
   ]
  },
  {
   "cell_type": "code",
   "execution_count": null,
   "metadata": {
    "id": "OsihjZWetTtL"
   },
   "outputs": [],
   "source": [
    "data = pd.read_csv('/content/drive/MyDrive/AAIC/Assignments/10.Behavior of Linear Models/practice/task_d.csv')\n",
    "X = data.drop(['target'], axis=1)\n",
    "Y = data['target']"
   ]
  },
  {
   "cell_type": "markdown",
   "metadata": {
    "id": "MQEgbk0E-P1p"
   },
   "source": [
    "## Training on Original Data "
   ]
  },
  {
   "cell_type": "code",
   "execution_count": null,
   "metadata": {
    "id": "WFPsboeKtTk5"
   },
   "outputs": [],
   "source": []
  },
  {
   "cell_type": "code",
   "execution_count": null,
   "metadata": {
    "colab": {
     "base_uri": "https://localhost:8080/",
     "height": 551
    },
    "id": "6QEka-v_EvVR",
    "outputId": "b5513901-399c-4ee0-847d-93c2676d2f9f"
   },
   "outputs": [
    {
     "data": {
      "image/png": "[encoded data removed]",
      "text/plain": [
       "<Figure size 432x288 with 1 Axes>"
      ]
     },
     "metadata": {
      "needs_background": "light",
      "tags": []
     },
     "output_type": "display_data"
    },
    {
     "name": "stdout",
     "output_type": "stream",
     "text": [
      "****************************************************************************************************\n",
      "\u001b[34mBest_Model:\u001b[0m\n",
      "<bound method BaseEstimator.get_params of SGDClassifier(alpha=1e-05, average=False, class_weight=None,\n",
      "              early_stopping=False, epsilon=0.1, eta0=0.0, fit_intercept=True,\n",
      "              l1_ratio=0.15, learning_rate='optimal', loss='hinge',\n",
      "              max_iter=1000, n_iter_no_change=5, n_jobs=-1, penalty='l2',\n",
      "              power_t=0.5, random_state=None, shuffle=True, tol=0.001,\n",
      "              validation_fraction=0.1, verbose=0, warm_start=False)>\n",
      "****************************************************************************************************\n",
      "\u001b[34mBest_Model_Weights:\u001b[0m \n",
      " [[  9.45220176 -23.93918264  10.83878558   9.8256722  -23.93918264\n",
      "   10.15178602  22.66053126]]\n",
      "****************************************************************************************************\n",
      "\u001b[34mBest_Model_Accuraccy:\u001b[0m \n",
      " 0.96\n",
      "****************************************************************************************************\n"
     ]
    }
   ],
   "source": [
    "from sklearn.model_selection import train_test_split\n",
    "x_train, x_test, y_train, y_test = train_test_split(X, Y,stratify=Y,test_size=0.25,random_state=42)\n",
    "\n",
    "best_model = train(loss_=hinge_loss,X_train=x_train,Y_train=y_train,X_test=x_test,Y_test=y_test)\n",
    "W,best_model_accuraccy = fun(best_model,x_train,y_train,x_test,y_test)"
   ]
  },
  {
   "cell_type": "markdown",
   "metadata": {
    "id": "naOziwkl-5ti"
   },
   "source": [
    "## Training on perturbated data"
   ]
  },
  {
   "cell_type": "code",
   "execution_count": null,
   "metadata": {
    "colab": {
     "base_uri": "https://localhost:8080/"
    },
    "id": "jM2vl6OvP3z6",
    "outputId": "9490c36a-9244-4966-f241-9a808cbc1c5d"
   },
   "outputs": [
    {
     "name": "stdout",
     "output_type": "stream",
     "text": [
      "****************************************************************************************************\n",
      "\u001b[34mBest_Model:\u001b[0m\n",
      "<bound method BaseEstimator.get_params of SGDClassifier(alpha=1e-05, average=False, class_weight=None,\n",
      "              early_stopping=False, epsilon=0.1, eta0=0.0, fit_intercept=True,\n",
      "              l1_ratio=0.15, learning_rate='optimal', loss='hinge',\n",
      "              max_iter=1000, n_iter_no_change=5, n_jobs=-1, penalty='l2',\n",
      "              power_t=0.5, random_state=None, shuffle=True, tol=0.001,\n",
      "              validation_fraction=0.1, verbose=0, warm_start=False)>\n",
      "****************************************************************************************************\n",
      "\u001b[34mBest_Model_Weights:\u001b[0m \n",
      " [[ 10.19105311 -34.15004656  38.34742036  10.34878513 -34.15004656\n",
      "   13.94376968  19.4740285 ]]\n",
      "****************************************************************************************************\n",
      "\u001b[34mBest_Model_Accuraccy:\u001b[0m \n",
      " 0.96\n",
      "****************************************************************************************************\n"
     ]
    }
   ],
   "source": [
    "X_dash = X + (10**(-2))\n",
    "x_train, x_test, y_train, y_test = train_test_split(X_dash, Y,stratify=Y,test_size=0.25,random_state=42)\n",
    "\n",
    "W_dash,best_model_accuraccy_edited = fun(best_model,x_train,y_train,x_test,y_test)"
   ]
  },
  {
   "cell_type": "markdown",
   "metadata": {
    "id": "ExoP4_Ab_Gl1"
   },
   "source": [
    "## Comparing Results"
   ]
  },
  {
   "cell_type": "code",
   "execution_count": null,
   "metadata": {
    "colab": {
     "base_uri": "https://localhost:8080/"
    },
    "id": "8qMgWxLbqaJw",
    "outputId": "7b539e00-dddd-4c52-e142-3df631fca53f"
   },
   "outputs": [
    {
     "name": "stdout",
     "output_type": "stream",
     "text": [
      "\u001b[34mbest_model_accuraccy_edited - best_model_accuraccy:\u001b[0m \n",
      " 0.0 \n",
      "\n",
      "\u001b[34mabs(W-W_dash):\u001b[0m \n",
      " [[ 0.73885135 10.21086392 27.50863478  0.52311293 10.21086392  3.79198365\n",
      "   3.18650276]] \n",
      "\n",
      "\u001b[34mTop-feat:\u001b[0m\n",
      "z\n",
      "2*z+3*x*x\n",
      "w\n",
      "x\n"
     ]
    },
    {
     "data": {
      "text/plain": [
       "[None, None, None, None]"
      ]
     },
     "execution_count": 36,
     "metadata": {
      "tags": []
     },
     "output_type": "execute_result"
    }
   ],
   "source": [
    "top_feat(best_model_accuraccy_edited,best_model_accuraccy,W,W_dash)"
   ]
  },
  {
   "cell_type": "code",
   "execution_count": null,
   "metadata": {
    "id": "eK3_ipQ0_MeR"
   },
   "outputs": [],
   "source": []
  }
 ],
 "metadata": {
  "colab": {
   "name": "8D_LR_SVM.ipynb",
   "provenance": [],
   "toc_visible": true
  },
  "kernelspec": {
   "display_name": "Python 3",
   "language": "python",
   "name": "python3"
  },
  "language_info": {
   "codemirror_mode": {
    "name": "ipython",
    "version": 3
   },
   "file_extension": ".py",
   "mimetype": "text/x-python",
   "name": "python",
   "nbconvert_exporter": "python",
   "pygments_lexer": "ipython3",
   "version": "3.7.3"
  },
  "varInspector": {
   "cols": {
    "lenName": 16,
    "lenType": 16,
    "lenVar": 40
   },
   "kernels_config": {
    "python": {
     "delete_cmd_postfix": "",
     "delete_cmd_prefix": "del ",
     "library": "var_list.py",
     "varRefreshCmd": "print(var_dic_list())"
    },
    "r": {
     "delete_cmd_postfix": ") ",
     "delete_cmd_prefix": "rm(",
     "library": "var_list.r",
     "varRefreshCmd": "cat(var_dic_list()) "
    }
   },
   "types_to_exclude": [
    "module",
    "function",
    "builtin_function_or_method",
    "instance",
    "_Feature"
   ],
   "window_display": false
  }
 },
 "nbformat": 4,
 "nbformat_minor": 1
}
