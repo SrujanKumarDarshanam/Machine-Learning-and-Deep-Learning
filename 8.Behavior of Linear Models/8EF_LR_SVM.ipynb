{
 "cells": [
  {
   "cell_type": "markdown",
   "metadata": {
    "id": "5HExLQrE4ZxR"
   },
   "source": [
    "<h1><font color='blue'> 8E and 8F: Finding the Probability P(Y==1|X)</font></h1>"
   ]
  },
  {
   "cell_type": "markdown",
   "metadata": {
    "id": "4LuKrFzC4ZxV"
   },
   "source": [
    "<h2><font color='Geen'> 8E: Implementing Decision Function of SVM RBF Kernel</font></h2>"
   ]
  },
  {
   "cell_type": "markdown",
   "metadata": {
    "id": "1wES-wWN4ZxX"
   },
   "source": [
    "<font face=' Comic Sans MS' size=3>After we train a kernel SVM model, we will be getting support vectors and their corresponsing coefficients $\\alpha_{i}$\n",
    "\n",
    "Check the documentation for better understanding of these attributes: \n",
    "\n",
    "https://scikit-learn.org/stable/modules/generated/sklearn.svm.SVC.html\n",
    "<img src='https://i.imgur.com/K11msU4.png' width=500>\n",
    "\n",
    "As a part of this assignment you will be implementing the ```decision_function()``` of kernel SVM, here decision_function() means based on the value return by ```decision_function()``` model will classify the data point either as positive or negative\n",
    "\n",
    "Ex 1: In logistic regression After traning the models with the optimal weights $w$ we get, we will find the value $\\frac{1}{1+\\exp(-(wx+b))}$, if this value comes out to be < 0.5 we will mark it as negative class, else its positive class\n",
    "\n",
    "Ex 2: In Linear SVM After traning the models with the optimal weights $w$ we get, we will find the value of $sign(wx+b)$, if this value comes out to be -ve we will mark it as negative class, else its positive class.\n",
    "\n",
    "Similarly in Kernel SVM After traning the models with the coefficients $\\alpha_{i}$ we get, we will find the value of \n",
    "$sign(\\sum_{i=1}^{n}(y_{i}\\alpha_{i}K(x_{i},x_{q})) + intercept)$, here $K(x_{i},x_{q})$ is the RBF kernel. If this value comes out to be -ve we will mark $x_{q}$ as negative class, else its positive class.\n",
    "\n",
    "RBF kernel is defined as: $K(x_{i},x_{q})$ = $exp(-\\gamma ||x_{i} - x_{q}||^2)$\n",
    "\n",
    "For better understanding check this link: https://scikit-learn.org/stable/modules/svm.html#svm-mathematical-formulation\n",
    "</font>"
   ]
  },
  {
   "cell_type": "markdown",
   "metadata": {
    "id": "z830CfMk4Zxa"
   },
   "source": [
    "## Task E"
   ]
  },
  {
   "cell_type": "markdown",
   "metadata": {
    "id": "MuBxHiCQ4Zxc"
   },
   "source": [
    "> 1. Split the data into $X_{train}$(60), $X_{cv}$(20), $X_{test}$(20)\n",
    "\n",
    "> 2. Train $SVC(gamma=0.001, C=100.)$ on the ($X_{train}$, $y_{train}$)\n",
    "\n",
    "> 3. Get the decision boundry values $f_{cv}$ on the $X_{cv}$ data  i.e. ` `$f_{cv}$ ```= decision_function(```$X_{cv}$```)```  <font color='red'>you need to implement this decision_function()</font>"
   ]
  },
  {
   "cell_type": "code",
   "execution_count": 68,
   "metadata": {
    "id": "fCgMNEvI4Zxf"
   },
   "outputs": [],
   "source": [
    "import numpy as np\n",
    "import pandas as pd\n",
    "from sklearn.datasets import make_classification\n",
    "import numpy as np\n",
    "from sklearn.svm import SVC\n",
    "from sklearn.metrics.pairwise import rbf_kernel\n",
    "import warnings\n",
    "warnings.filterwarnings(\"ignore\")\n"
   ]
  },
  {
   "cell_type": "code",
   "execution_count": null,
   "metadata": {
    "id": "ANUNIqCe4Zxn"
   },
   "outputs": [],
   "source": []
  },
  {
   "cell_type": "markdown",
   "metadata": {
    "id": "tHie1zqH4Zxt"
   },
   "source": [
    "### Pseudo code\n",
    "\n",
    "clf = SVC(gamma=0.001, C=100.)<br>\n",
    "clf.fit(Xtrain, ytrain)\n",
    "\n",
    "<font color='green'>def</font> <font color='blue'>decision_function</font>(Xcv, ...): #use appropriate parameters <br>\n",
    "&nbsp;&nbsp;&nbsp;&nbsp;&nbsp;&nbsp;<font color='green'>for</font> a data point $x_q$ <font color='green'>in</font> Xcv: <br>\n",
    "&nbsp;&nbsp;&nbsp;&nbsp;&nbsp;&nbsp;&nbsp;&nbsp;&nbsp;&nbsp;&nbsp;&nbsp;<font color='grey'>#write code to implement $(\\sum_{i=1}^{\\text{all the support vectors}}(y_{i}\\alpha_{i}K(x_{i},x_{q})) + intercept)$, here the values $y_i$, $\\alpha_{i}$, and $intercept$ can be obtained from the trained model</font><br>\n",
    "   <font color='green'>return</font> <font color='grey'><i># the decision_function output for all the data points in the Xcv</i></font>\n",
    "    \n",
    "fcv = decision_function(Xcv, ...)  <i># based on your requirement you can pass any other parameters </i>\n",
    "\n",
    "<b>Note</b>: Make sure the values you get as fcv, should be equal to outputs of clf.decision_function(Xcv)\n"
   ]
  },
  {
   "cell_type": "code",
   "execution_count": null,
   "metadata": {
    "id": "vU_3wgYWvnvQ"
   },
   "outputs": [],
   "source": []
  },
  {
   "cell_type": "code",
   "execution_count": null,
   "metadata": {
    "id": "vktvb5RktxFn"
   },
   "outputs": [],
   "source": []
  },
  {
   "cell_type": "code",
   "execution_count": 69,
   "metadata": {
    "colab": {
     "base_uri": "https://localhost:8080/"
    },
    "id": "h43kDT3M41u5",
    "outputId": "30389280-4feb-4267-e84f-1d671b7d2803"
   },
   "outputs": [
    {
     "data": {
      "text/plain": [
       "SVC(C=100, break_ties=False, cache_size=200, class_weight=None, coef0=0.0,\n",
       "    decision_function_shape='ovr', degree=3, gamma=0.001, kernel='rbf',\n",
       "    max_iter=-1, probability=False, random_state=None, shrinking=True,\n",
       "    tol=0.001, verbose=False)"
      ]
     },
     "execution_count": 69,
     "metadata": {
      "tags": []
     },
     "output_type": "execute_result"
    }
   ],
   "source": [
    "# you can write your code here\n",
    "X, Y = make_classification(n_samples=5000, n_features=5, n_redundant=2,\n",
    "                           n_classes=2, weights=[0.7], class_sep=0.7, random_state=15)\n",
    "\n",
    "from sklearn.model_selection import train_test_split\n",
    "x_train, x_test, y_train, y_test = train_test_split(X, Y,stratify=Y,test_size=0.20,random_state=42)\n",
    "\n",
    "from sklearn.preprocessing import StandardScaler\n",
    "scaler = StandardScaler().fit(x_train)\n",
    "x_train = scaler.transform(x_train)\n",
    "x_tr,x_cv,y_tr,y_cv = train_test_split(x_train, y_train,stratify=y_train,test_size=0.20,random_state=42)\n",
    "\n",
    "svc = SVC(C=100,gamma=0.001)\n",
    "svc.fit(x_tr,y_tr)"
   ]
  },
  {
   "cell_type": "code",
   "execution_count": 70,
   "metadata": {
    "id": "lcxzj7FJtoWW"
   },
   "outputs": [],
   "source": [
    "from numpy.linalg import norm\n",
    "from sklearn.metrics.pairwise import rbf_kernel\n",
    "def decision_function(x_cv):\n",
    "  sv = svc.support_vectors_\n",
    "  ker_mat = rbf_kernel(X=x_cv,Y=sv,gamma=0.001)\n",
    "  pred=list()\n",
    "  for i,test in enumerate(x_cv):\n",
    "    res = 0\n",
    "    for j,sv_ in enumerate(sv):\n",
    "      res += ( ker_mat[i][j] * svc.dual_coef_[0][j] ) \n",
    "    pred.append((res + (svc.intercept_)))\n",
    "  return pd.DataFrame(pred,columns=['y_hat'])"
   ]
  },
  {
   "cell_type": "code",
   "execution_count": 71,
   "metadata": {
    "id": "cLiSZ5RCc4aa"
   },
   "outputs": [],
   "source": [
    "fcv = svc.decision_function(x_cv) # sklearn's decision function output."
   ]
  },
  {
   "cell_type": "code",
   "execution_count": 72,
   "metadata": {
    "id": "JoFk6WubbDCH"
   },
   "outputs": [],
   "source": [
    "implemented_cv = decision_function(x_cv) # implemented code for deciscion function as a part of task"
   ]
  },
  {
   "cell_type": "code",
   "execution_count": 73,
   "metadata": {
    "id": "YCa_KDeiUjWV"
   },
   "outputs": [],
   "source": [
    "implemented_cv['fcv'] = fcv # appendeing output of sklearn's decision function and implemented deciscion function"
   ]
  },
  {
   "cell_type": "code",
   "execution_count": 74,
   "metadata": {
    "colab": {
     "base_uri": "https://localhost:8080/",
     "height": 419
    },
    "id": "d5iRpkd9Qsa3",
    "outputId": "892a6a75-f67a-4a20-c597-be96b3afb235"
   },
   "outputs": [
    {
     "data": {
      "text/html": [
       "<div>\n",
       "<style scoped>\n",
       "    .dataframe tbody tr th:only-of-type {\n",
       "        vertical-align: middle;\n",
       "    }\n",
       "\n",
       "    .dataframe tbody tr th {\n",
       "        vertical-align: top;\n",
       "    }\n",
       "\n",
       "    .dataframe thead th {\n",
       "        text-align: right;\n",
       "    }\n",
       "</style>\n",
       "<table border=\"1\" class=\"dataframe\">\n",
       "  <thead>\n",
       "    <tr style=\"text-align: right;\">\n",
       "      <th></th>\n",
       "      <th>y_hat</th>\n",
       "      <th>fcv</th>\n",
       "    </tr>\n",
       "  </thead>\n",
       "  <tbody>\n",
       "    <tr>\n",
       "      <th>0</th>\n",
       "      <td>-2.021215</td>\n",
       "      <td>-2.021215</td>\n",
       "    </tr>\n",
       "    <tr>\n",
       "      <th>1</th>\n",
       "      <td>1.646756</td>\n",
       "      <td>1.646756</td>\n",
       "    </tr>\n",
       "    <tr>\n",
       "      <th>2</th>\n",
       "      <td>-1.862529</td>\n",
       "      <td>-1.862529</td>\n",
       "    </tr>\n",
       "    <tr>\n",
       "      <th>3</th>\n",
       "      <td>-2.583835</td>\n",
       "      <td>-2.583835</td>\n",
       "    </tr>\n",
       "    <tr>\n",
       "      <th>4</th>\n",
       "      <td>-0.569751</td>\n",
       "      <td>-0.569751</td>\n",
       "    </tr>\n",
       "    <tr>\n",
       "      <th>...</th>\n",
       "      <td>...</td>\n",
       "      <td>...</td>\n",
       "    </tr>\n",
       "    <tr>\n",
       "      <th>795</th>\n",
       "      <td>2.312139</td>\n",
       "      <td>2.312139</td>\n",
       "    </tr>\n",
       "    <tr>\n",
       "      <th>796</th>\n",
       "      <td>-2.357006</td>\n",
       "      <td>-2.357006</td>\n",
       "    </tr>\n",
       "    <tr>\n",
       "      <th>797</th>\n",
       "      <td>-0.358116</td>\n",
       "      <td>-0.358116</td>\n",
       "    </tr>\n",
       "    <tr>\n",
       "      <th>798</th>\n",
       "      <td>1.426593</td>\n",
       "      <td>1.426593</td>\n",
       "    </tr>\n",
       "    <tr>\n",
       "      <th>799</th>\n",
       "      <td>-2.528678</td>\n",
       "      <td>-2.528678</td>\n",
       "    </tr>\n",
       "  </tbody>\n",
       "</table>\n",
       "<p>800 rows × 2 columns</p>\n",
       "</div>"
      ],
      "text/plain": [
       "        y_hat       fcv\n",
       "0   -2.021215 -2.021215\n",
       "1    1.646756  1.646756\n",
       "2   -1.862529 -1.862529\n",
       "3   -2.583835 -2.583835\n",
       "4   -0.569751 -0.569751\n",
       "..        ...       ...\n",
       "795  2.312139  2.312139\n",
       "796 -2.357006 -2.357006\n",
       "797 -0.358116 -0.358116\n",
       "798  1.426593  1.426593\n",
       "799 -2.528678 -2.528678\n",
       "\n",
       "[800 rows x 2 columns]"
      ]
     },
     "execution_count": 74,
     "metadata": {
      "tags": []
     },
     "output_type": "execute_result"
    }
   ],
   "source": [
    "implemented_cv # comparing values ."
   ]
  },
  {
   "cell_type": "markdown",
   "metadata": {
    "id": "c0bKCboN4Zxu"
   },
   "source": [
    "<h2><font color='Geen'> 8F: Implementing Platt Scaling to find P(Y==1|X)</font></h2>"
   ]
  },
  {
   "cell_type": "markdown",
   "metadata": {
    "id": "nMn7OEN94Zxw"
   },
   "source": [
    "Check this <a href='https://drive.google.com/open?id=133odBinMOIVb_rh_GQxxsyMRyW-Zts7a'>PDF</a>\n",
    "<img src='https://i.imgur.com/CAMnVnh.png'>\n"
   ]
  },
  {
   "cell_type": "markdown",
   "metadata": {
    "id": "e0n5EFkx4Zxz"
   },
   "source": [
    "## TASK F"
   ]
  },
  {
   "cell_type": "markdown",
   "metadata": {
    "id": "t0HOqVJq4Zx1"
   },
   "source": [
    "\n",
    "> 4. Apply SGD algorithm with ($f_{cv}$, $y_{cv}$) and find the weight $W$ intercept $b$ ```Note: here our data is of one dimensional so we will have a one dimensional weight vector i.e W.shape (1,)``` \n",
    "\n",
    "> Note1: Don't forget to change the values of $y_{cv}$ as mentioned in the above image. you will calculate y+, y- based on data points in train data\n",
    "\n",
    "> Note2: the Sklearn's SGD algorithm doesn't support the real valued outputs, you need to use the code that was done in the `'Logistic Regression with SGD and L2'` Assignment after modifying loss function, and use same parameters that used in that assignment.\n",
    "<img src='https://i.imgur.com/zKYE9Oc.png'>\n",
    "if Y[i] is 1, it will be replaced with y+ value else it will replaced with y- value\n",
    "\n",
    "> 5. For a given data point from $X_{test}$, $P(Y=1|X) = \\frac{1}{1+exp(-(W*f_{test}+ b))}$ where ` `$f_{test}$ ```= decision_function(```$X_{test}$```)```, W and b will be learned as metioned in the above step"
   ]
  },
  {
   "cell_type": "markdown",
   "metadata": {
    "id": "oTY7z2bd4Zx2"
   },
   "source": [
    "__Note: in the above algorithm, the steps 2, 4 might need hyper parameter tuning, To reduce the complexity of the assignment we are excluding the hyerparameter tuning part, but intrested students can try that__"
   ]
  },
  {
   "cell_type": "markdown",
   "metadata": {
    "id": "CM3odN1Z4Zx3"
   },
   "source": [
    "\n",
    "If any one wants to try other calibration algorithm istonic regression also please check these tutorials\n",
    "\n",
    "1. http://fa.bianp.net/blog/tag/scikit-learn.html#fn:1\n",
    "\n",
    "2. https://drive.google.com/open?id=1MzmA7QaP58RDzocB0RBmRiWfl7Co_VJ7\n",
    "\n",
    "3. https://drive.google.com/open?id=133odBinMOIVb_rh_GQxxsyMRyW-Zts7a\n",
    "\n",
    "4. https://stat.fandom.com/wiki/Isotonic_regression#Pool_Adjacent_Violators_Algorithm\n"
   ]
  },
  {
   "cell_type": "markdown",
   "metadata": {
    "id": "lOCbL2e1Vnuv"
   },
   "source": [
    "#SGD ALGO"
   ]
  },
  {
   "cell_type": "code",
   "execution_count": 105,
   "metadata": {
    "id": "1wQMndSF1s60"
   },
   "outputs": [],
   "source": [
    "def sigmoid(z):\n",
    "    ''' In this function, we will return sigmoid of z'''\n",
    "    # compute sigmoid(z) and return\n",
    "\n",
    "    return 1/(1+np.exp(-z))\n",
    "\n",
    "def initialize_weights(dim):\n",
    "    ''' In this function, we will initialize our weights and bias'''\n",
    "    #initialize the weights to zeros array of (1,dim) dimensions\n",
    "    #you use zeros_like function to initialize zero, check this link https://docs.scipy.org/doc/numpy/reference/generated/numpy.zeros_like.html\n",
    "    #initialize bias to zero\n",
    "    b = 0\n",
    "    w = np.zeros_like(dim)\n",
    "\n",
    "    return w,b\n",
    "\n",
    "\n",
    "def gradient_dw(x,y,w,b,alpha,N):\n",
    "    '''In this function, we will compute the gardient w.r.to w '''\n",
    "    #print(x.shape,w.shape)\n",
    "    z = np.dot(x,w) + b\n",
    "    #print(z)\n",
    "    #print(((y-sigmoid(z))),x)\n",
    "    a = ((y-sigmoid(z))*x)\n",
    "    #print(a)\n",
    "    b = ((alpha/N)*w)\n",
    "    dw = a-b\n",
    "    return dw\n",
    "\n",
    "\n",
    "def gradient_db(x,y,w,b):\n",
    "     '''In this function, we will compute gradient w.r.to b '''\n",
    "     z = ( (np.dot(x,w)) + b )\n",
    "     db = (y-(sigmoid(z)))\n",
    "     return (db)\n",
    "\n",
    "\n",
    "def pred(w,b, X):\n",
    "    N = len(X)\n",
    "    predict = []\n",
    "    #w = list(w)\n",
    "    for i in range(N):\n",
    "        z = np.dot(X[i],w) + b\n",
    "        predict.append(sigmoid(z)) \n",
    "    return np.array(predict)\n",
    "#print(1-np.sum(y_train - pred(w,b,x_train))/len(x_train))\n",
    "#print(1-np.sum(y_test  - pred(w,b,x_test))/len(x_test))\n",
    "\n",
    "\n",
    "import math\n",
    "def logloss(y_true,y_pred,N_pos,N_neg):\n",
    "    '''In this function, we will compute log loss '''\n",
    "    l=0\n",
    "    #print(y_pred)\n",
    "    for i in range(len(y_true)):\n",
    "      if y_true[i]==1:\n",
    "        y_true[i] = N_pos\n",
    "      else:\n",
    "        y_true[i] = N_neg\n",
    "      l+= ( (y_true[i]*(math.log10(y_pred[i]))) + ((1-y_true[i])*(math.log10(1-y_pred[i]))) )\n",
    "    loss = (-1/len(y_true))*l\n",
    "    return loss\n",
    "\n",
    "\n",
    "from tqdm import tqdm\n",
    "from collections import OrderedDict\n",
    "def train(x_train,y_train,x_test,y_test,epochs,alpha,eta0,N_pos,N_neg):\n",
    "    w,b = initialize_weights(x_train[0])\n",
    "    N = len(x_train)\n",
    "    tr_loss,ts_loss = [],[]\n",
    "    #loss = OrderedDict()\n",
    "    initial_loss = 0\n",
    "    for epoch in tqdm(range(epochs)):\n",
    "      #print(epoch)\n",
    "      for i in range(x_train.shape[0]):\n",
    "        dw = gradient_dw(x_train[i],y_train[i],w,b,alpha,N)\n",
    "        db = gradient_db(x_train[i],y_train[i],w,b)\n",
    "        w += (eta0*dw)\n",
    "        b += (eta0*db)\n",
    "      #x = decision_function(x_train)\n",
    "      y_pred_tr = pred(w,b,x_train)\n",
    "      y_pred_ts = pred(w,b,x_test)\n",
    "      tr_loss.append(logloss(y_train,y_pred_tr,N_pos,N_neg))\n",
    "      ts_loss.append(logloss(y_test,y_pred_ts,N_pos,N_neg))\n",
    "      #loss[logloss(y_test,y_pred_ts)] = w\n",
    "      #print(y_train,y_pred_tr)\n",
    "      #print(y_test,y_pred_ts)\n",
    "      #ts_los = logloss(y_test,y_pred_ts)\n",
    "      #if abs(initial_loss - ts_los  ) <= (10**(-3)):\n",
    "      #  print('(ts_los - initial_loss):',(ts_los, initial_loss),abs(ts_los - initial_loss),'\\n')\n",
    "      #  break\n",
    "      #print('(ts_los - initial_loss):',(ts_los, initial_loss),abs(ts_los - initial_loss),'\\n')\n",
    "      #initial_loss = ts_los\n",
    "    return w,b,tr_loss,ts_loss\n",
    "\n"
   ]
  },
  {
   "cell_type": "code",
   "execution_count": 115,
   "metadata": {
    "id": "UiL7c3KR2Lr5"
   },
   "outputs": [],
   "source": [
    "alpha=0.0001 \n",
    "eta0=0.0001\n",
    "N=len(x_train)\n",
    "epochs=14"
   ]
  },
  {
   "cell_type": "code",
   "execution_count": 116,
   "metadata": {
    "id": "qqNbalvaDErk"
   },
   "outputs": [],
   "source": [
    "'''\n",
    "creating the dataset for calibration\n",
    "'''\n",
    "#D_cv = decision_function(x_cv)  \n",
    "fcv = pd.DataFrame(svc.decision_function(x_cv),columns=['f_cv'])\n",
    "D_cv = fcv\n",
    "D_cv['y_true'] = y_cv\n",
    "#D_cv.sort_values(by='y_hat',inplace=True)\n",
    "#c = dict(pd.DataFrame(y_tr).value_counts()) # getting counts\n",
    "#N_pos = (c[1,]+1)/(c[1,]+2) # computing N_pos\n",
    "#N_neg = 1/(c[0,]+2) # computing N_neg\n",
    "\n",
    "y_train = pd.DataFrame(y_train)\n",
    "num_pos = y_train[y_train==1].sum()\n",
    "num_neg = y_train[y_train==0].sum()\n",
    "N_pos = (num_pos+1)/(num_pos+2) # computing N_pos\n",
    "N_neg = 1/(num_neg+2) # computing N_neg\n"
   ]
  },
  {
   "cell_type": "code",
   "execution_count": 117,
   "metadata": {
    "colab": {
     "base_uri": "https://localhost:8080/"
    },
    "id": "y_v0xz46ahHP",
    "outputId": "fa112670-6828-47f3-b53f-65f5e67191b8"
   },
   "outputs": [
    {
     "name": "stderr",
     "output_type": "stream",
     "text": [
      "100%|██████████| 14/14 [00:00<00:00, 24.49it/s]\n"
     ]
    }
   ],
   "source": [
    "# splitting cv data to find optimal w and b\n",
    "calib_x_tr,calib_x_cv,calib_y_tr,calib_y_cv = train_test_split(D_cv['f_cv'], D_cv['y_true'],stratify=D_cv['y_true'],test_size=0.20,random_state=42)\n",
    "\n",
    "# passing splitted cv data to train function for optimal w and b values\n",
    "w,b,tr_loss,ts_loss = train(x_train=np.array(calib_x_tr),\n",
    "                            y_train=np.array(calib_y_tr),\n",
    "                            x_test=np.array(calib_x_cv),\n",
    "                            y_test=np.array(calib_y_cv),\n",
    "                            epochs=epochs,\n",
    "                            alpha=alpha,\n",
    "                            eta0=eta0,\n",
    "                            N_pos=N_pos,N_neg=N_neg)"
   ]
  },
  {
   "cell_type": "code",
   "execution_count": 118,
   "metadata": {
    "colab": {
     "base_uri": "https://localhost:8080/",
     "height": 282
    },
    "id": "SzcXk_UdbZv_",
    "outputId": "8998d26f-79a4-42a6-ffe3-ad1247432749"
   },
   "outputs": [
    {
     "data": {
      "text/plain": [
       "<matplotlib.legend.Legend at 0x7fcaa122ff28>"
      ]
     },
     "execution_count": 118,
     "metadata": {
      "tags": []
     },
     "output_type": "execute_result"
    },
    {
     "data": {
      "image/png": "[encoded data removed]",
      "text/plain": [
       "<Figure size 432x288 with 1 Axes>"
      ]
     },
     "metadata": {
      "needs_background": "light",
      "tags": []
     },
     "output_type": "display_data"
    }
   ],
   "source": [
    "import matplotlib.pyplot as plt\n",
    "plt.plot(tr_loss,'-o',label='tr-err')\n",
    "plt.plot(ts_loss,'-o',label='ts-err')\n",
    "plt.legend(bbox_to_anchor=(1,0.5))"
   ]
  },
  {
   "cell_type": "code",
   "execution_count": 119,
   "metadata": {
    "id": "DFuU4jSYbrP8"
   },
   "outputs": [],
   "source": [
    "def pred_prob(w,b,x_test):\n",
    "  return pd.DataFrame(1/(1+(np.exp(-((np.dot(decision_function(x_test),w))+b)))),columns=['prob_values'])"
   ]
  },
  {
   "cell_type": "code",
   "execution_count": 122,
   "metadata": {
    "colab": {
     "base_uri": "https://localhost:8080/",
     "height": 419
    },
    "id": "sbuPuUdXbrGw",
    "outputId": "c8af0b79-dbaa-4976-cafc-2f160cca3743"
   },
   "outputs": [
    {
     "data": {
      "text/html": [
       "<div>\n",
       "<style scoped>\n",
       "    .dataframe tbody tr th:only-of-type {\n",
       "        vertical-align: middle;\n",
       "    }\n",
       "\n",
       "    .dataframe tbody tr th {\n",
       "        vertical-align: top;\n",
       "    }\n",
       "\n",
       "    .dataframe thead th {\n",
       "        text-align: right;\n",
       "    }\n",
       "</style>\n",
       "<table border=\"1\" class=\"dataframe\">\n",
       "  <thead>\n",
       "    <tr style=\"text-align: right;\">\n",
       "      <th></th>\n",
       "      <th>prob_values</th>\n",
       "    </tr>\n",
       "  </thead>\n",
       "  <tbody>\n",
       "    <tr>\n",
       "      <th>0</th>\n",
       "      <td>0.211260</td>\n",
       "    </tr>\n",
       "    <tr>\n",
       "      <th>1</th>\n",
       "      <td>0.366319</td>\n",
       "    </tr>\n",
       "    <tr>\n",
       "      <th>2</th>\n",
       "      <td>0.209828</td>\n",
       "    </tr>\n",
       "    <tr>\n",
       "      <th>3</th>\n",
       "      <td>0.305193</td>\n",
       "    </tr>\n",
       "    <tr>\n",
       "      <th>4</th>\n",
       "      <td>0.240818</td>\n",
       "    </tr>\n",
       "    <tr>\n",
       "      <th>...</th>\n",
       "      <td>...</td>\n",
       "    </tr>\n",
       "    <tr>\n",
       "      <th>995</th>\n",
       "      <td>0.214169</td>\n",
       "    </tr>\n",
       "    <tr>\n",
       "      <th>996</th>\n",
       "      <td>0.196957</td>\n",
       "    </tr>\n",
       "    <tr>\n",
       "      <th>997</th>\n",
       "      <td>0.421671</td>\n",
       "    </tr>\n",
       "    <tr>\n",
       "      <th>998</th>\n",
       "      <td>0.295574</td>\n",
       "    </tr>\n",
       "    <tr>\n",
       "      <th>999</th>\n",
       "      <td>0.259279</td>\n",
       "    </tr>\n",
       "  </tbody>\n",
       "</table>\n",
       "<p>1000 rows × 1 columns</p>\n",
       "</div>"
      ],
      "text/plain": [
       "     prob_values\n",
       "0       0.211260\n",
       "1       0.366319\n",
       "2       0.209828\n",
       "3       0.305193\n",
       "4       0.240818\n",
       "..           ...\n",
       "995     0.214169\n",
       "996     0.196957\n",
       "997     0.421671\n",
       "998     0.295574\n",
       "999     0.259279\n",
       "\n",
       "[1000 rows x 1 columns]"
      ]
     },
     "execution_count": 122,
     "metadata": {
      "tags": []
     },
     "output_type": "execute_result"
    }
   ],
   "source": [
    "pred_prob(w,b,x_test)"
   ]
  },
  {
   "cell_type": "code",
   "execution_count": 121,
   "metadata": {
    "id": "4AkBHUGtbq-R"
   },
   "outputs": [],
   "source": []
  },
  {
   "cell_type": "code",
   "execution_count": 121,
   "metadata": {
    "id": "DEE9h1cPbq10"
   },
   "outputs": [],
   "source": []
  },
  {
   "cell_type": "code",
   "execution_count": null,
   "metadata": {
    "id": "pjOaYQPJbqsK"
   },
   "outputs": [],
   "source": []
  }
 ],
 "metadata": {
  "colab": {
   "collapsed_sections": [],
   "name": "8E&F_LR_SVM.ipynb",
   "provenance": [],
   "toc_visible": true
  },
  "kernelspec": {
   "display_name": "Python 3",
   "language": "python",
   "name": "python3"
  },
  "language_info": {
   "codemirror_mode": {
    "name": "ipython",
    "version": 3
   },
   "file_extension": ".py",
   "mimetype": "text/x-python",
   "name": "python",
   "nbconvert_exporter": "python",
   "pygments_lexer": "ipython3",
   "version": "3.7.3"
  },
  "varInspector": {
   "cols": {
    "lenName": 16,
    "lenType": 16,
    "lenVar": 40
   },
   "kernels_config": {
    "python": {
     "delete_cmd_postfix": "",
     "delete_cmd_prefix": "del ",
     "library": "var_list.py",
     "varRefreshCmd": "print(var_dic_list())"
    },
    "r": {
     "delete_cmd_postfix": ") ",
     "delete_cmd_prefix": "rm(",
     "library": "var_list.r",
     "varRefreshCmd": "cat(var_dic_list()) "
    }
   },
   "types_to_exclude": [
    "module",
    "function",
    "builtin_function_or_method",
    "instance",
    "_Feature"
   ],
   "window_display": false
  }
 },
 "nbformat": 4,
 "nbformat_minor": 1
}
