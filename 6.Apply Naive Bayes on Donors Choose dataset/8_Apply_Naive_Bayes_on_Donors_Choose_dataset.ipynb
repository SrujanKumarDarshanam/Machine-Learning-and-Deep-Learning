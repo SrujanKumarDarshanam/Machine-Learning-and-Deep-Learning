{
 "cells": [
  {
   "cell_type": "markdown",
   "metadata": {
    "id": "Dnubs-Nnb3cw"
   },
   "source": [
    "# Assignment 6: Apply NB"
   ]
  },
  {
   "cell_type": "markdown",
   "metadata": {
    "id": "RW0zYHb5m_wI"
   },
   "source": [
    "<ol>\n",
    "    <li>Minimum data points need to be considered for people having 4GB RAM is <strong>50k</strong> and for 8GB RAM is <strong>100k</strong></li>\n",
    "    <li>When you are using ramdomsearchcv or gridsearchcv you need not split the data into X_train,X_cv,X_test. As the above methods use kfold. The model will learn better if train data is more so splitting to X_train,X_test will suffice.</li>\n",
    "    <li>If you are writing for loops to tune your model then you need split the data into X_train,X_cv,X_test.</li>\n",
    "    <li>While splitting the data explore stratify parameter. </li>\n",
    "    <li><strong>Apply Multinomial NB on these feature sets</strong></li>\n",
    "        <ul>\n",
    "            <li>Features that need to be considered</li> \n",
    "                <dl>\n",
    "                  <dt>essay</dt>\n",
    "                    <dd>while encoding essay, try to experiment with the max_features and n_grams parameter of vectorizers and see if it increases AUC score.</dd>\n",
    "                  <dt>categorical features</dt>\n",
    "                  <dd> - teacher_prefix</dd>\n",
    "                  <dd> - project_grade_category</dd>\n",
    "                  <dd> - school_state</dd>\n",
    "                  <dd> - clean_categories</dd>\n",
    "                  <dd> - clean_subcategories</dd>\n",
    "                  <dt>numerical features</dt>\n",
    "                  <dd> - price</dd>\n",
    "                  <dd> - teacher_number_of_previously_posted_projects</dd>\n",
    "                  <dd>while encoding the numerical features check <a href='https://imgur.com/ldZA1zg'>this</a> and <a href='https://ac-classroom-production.s3.amazonaws.com/public/COMMENT/Annotation_2020-05-21_225912_0lyZzN8.jpg'>this</a></dd>\n",
    "                </dl>    \n",
    "            <li><font color='red'>Set 1</font>: categorical, numerical features + preprocessed_eassay (BOW)</li>\n",
    "            <li><font color='red'>Set 2</font>: categorical, numerical features + preprocessed_eassay (TFIDF)</li>\n",
    "        </ul>\n",
    "    <li><strong>The hyper paramter tuning(find best alpha:smoothing parameter)</strong>\n",
    "        <ul>\n",
    "    <li>Consider alpha values in range: 10^-5 to 10^2 like [0.00001,0.0005, 0.0001,0.005,0.001,0.05,0.01,0.1,0.5,1,5,10,50,100]</li>\n",
    "    <li>Explore class_prior = [0.5, 0.5] parameter which can be present in MultinomialNB function(go through <a href='https://scikit-learn.org/stable/modules/generated/sklearn.naive_bayes.MultinomialNB.html'>this</a> ) then check how results might change.\n",
    "    <li>Find the best hyper parameter which will give the maximum <a href='https://www.appliedaicourse.com/course/applied-ai-course-online/lessons/receiver-operating-characteristic-curve-roc-curve-and-auc-1/'>AUC</a> value</li>\n",
    "    <li>For hyper parameter tuning using k-fold cross validation(use GridsearchCV or RandomsearchCV)/simple cross validation data (write for loop to iterate over hyper parameter values)</li>\n",
    "    <li>You need to plot the performance of model both on train data and cross validation data for each hyper parameter, like shown in the figure\n",
    "    <img src='https://i.imgur.com/hUv6aEy.jpg' width=300px><dd>-while plotting take log(alpha) on your X-axis so that it will be more readable</dd></li>\n",
    "    <li>Once after you found the best hyper parameter, you need to train your model with it, and find the AUC on test data and plot the ROC curve on both train and test.\n",
    "    <img src='https://imgur.com/q2P65L5.jpg' width=300px></li>\n",
    "    <li>Along with plotting ROC curve, you need to print the <a href='https://www.appliedaicourse.com/course/applied-ai-course-online/lessons/confusion-matrix-tpr-fpr-fnr-tnr-1/'>confusion matrix</a> with predicted and original labels of test data points\n",
    "        <img src='https://i.imgur.com/IdN5Ctv.png' width=300px><dd>-plot the confusion matrix in heatmaps, while plotting the confusion matrix go through the <a href='https://stackoverflow.com/questions/61748441/how-to-fix-the-values-displayed-in-a-confusion-matrix-in-exponential-form-to-nor'>link </a>\n",
    "</dd></li>\n",
    "        </ul>\n",
    "<li>find the top 20 features from either from feature <font color='red'>Set 1</font> or feature <font color='red'>Set 2</font> using values of `feature_log_prob_ ` parameter of `MultinomialNB` \n",
    "(https://scikit-learn.org/stable/modules/generated/sklearn.naive_bayes.MultinomialNB.html) and print <strong>BOTH</strong> positive as well as negative corresponding feature names. <dd> - go through the <a href='https://imgur.com/mWvE7gj'>link </a> </dd>\n",
    "    </li>\n",
    "    <li>You need to summarize the results at the end of the notebook, summarize it in the table format\n",
    "        <img src='http://i.imgur.com/YVpIGGE.jpg' width=400px>\n",
    "    </li>\n",
    "</ol>"
   ]
  },
  {
   "cell_type": "code",
   "execution_count": null,
   "metadata": {
    "id": "chpSjDaXm9KG"
   },
   "outputs": [],
   "source": []
  },
  {
   "cell_type": "markdown",
   "metadata": {
    "id": "inzYCIaib3c3"
   },
   "source": [
    "<h1>2. Naive Bayes </h1>"
   ]
  },
  {
   "cell_type": "markdown",
   "metadata": {
    "id": "zGRvhjT5kmUP"
   },
   "source": [
    "# SET-1 ( BOW )\n"
   ]
  },
  {
   "cell_type": "markdown",
   "metadata": {
    "id": "FYqCIxzFb3c5"
   },
   "source": [
    "## 1.1 Loading Data"
   ]
  },
  {
   "cell_type": "code",
   "execution_count": 1,
   "metadata": {
    "colab": {
     "base_uri": "https://localhost:8080/"
    },
    "id": "cL1HGnc8vMTn",
    "outputId": "9a996b15-c748-44c6-aaa3-162624e68011"
   },
   "outputs": [
    {
     "name": "stdout",
     "output_type": "stream",
     "text": [
      "Drive already mounted at /content/drive; to attempt to forcibly remount, call drive.mount(\"/content/drive\", force_remount=True).\n"
     ]
    }
   ],
   "source": [
    "from google.colab import drive\n",
    "drive.mount('/content/drive')"
   ]
  },
  {
   "cell_type": "code",
   "execution_count": 2,
   "metadata": {
    "id": "dA1jknyqb3c_"
   },
   "outputs": [],
   "source": [
    "import warnings\n",
    "warnings.filterwarnings(\"ignore\")\n",
    "\n",
    "import pandas as pd\n",
    "data = pd.read_csv('/content/drive/MyDrive/AAIC/Assignments/8.Apply Naive Bayes on Donors Choose dataset/practice/preprocessed_data.csv',nrows=50000)"
   ]
  },
  {
   "cell_type": "code",
   "execution_count": 3,
   "metadata": {
    "colab": {
     "base_uri": "https://localhost:8080/"
    },
    "id": "jtdlYDTqfOaz",
    "outputId": "41391a15-eb93-4d87-80e2-a8654e6985d2"
   },
   "outputs": [
    {
     "data": {
      "text/plain": [
       "Index(['school_state', 'teacher_prefix', 'project_grade_category',\n",
       "       'teacher_number_of_previously_posted_projects', 'project_is_approved',\n",
       "       'clean_categories', 'clean_subcategories', 'essay', 'price'],\n",
       "      dtype='object')"
      ]
     },
     "execution_count": 3,
     "metadata": {
      "tags": []
     },
     "output_type": "execute_result"
    }
   ],
   "source": [
    "data.columns"
   ]
  },
  {
   "cell_type": "markdown",
   "metadata": {
    "id": "WtVV13Fyb3dH"
   },
   "source": [
    "## 1.2 Splitting data into Train and cross validation(or test): Stratified Sampling"
   ]
  },
  {
   "cell_type": "code",
   "execution_count": 4,
   "metadata": {
    "id": "i-PyprDNb3dI"
   },
   "outputs": [],
   "source": [
    "# please write all the code with proper documentation, and proper titles for each subsection\n",
    "# go through documentations and blogs before you start coding\n",
    "# first figure out what to do, and then think about how to do.\n",
    "# reading and understanding error messages will be very much helpfull in debugging your code\n",
    "# when you plot any graph make sure you use \n",
    "    # a. Title, that describes your plot, this will be very helpful to the reader\n",
    "    # b. Legends if needed\n",
    "    # c. X-axis label\n",
    "    # d. Y-axis label\n",
    "\n"
   ]
  },
  {
   "cell_type": "code",
   "execution_count": 5,
   "metadata": {
    "colab": {
     "base_uri": "https://localhost:8080/"
    },
    "id": "nGS91VUtDX-u",
    "outputId": "2a1b1c7e-979d-4969-bbb6-0843235910ce"
   },
   "outputs": [
    {
     "name": "stdout",
     "output_type": "stream",
     "text": [
      "(33500, 8) \n",
      " (16500, 8) \n",
      " (33500,) \n",
      " (16500,) \n",
      "\n"
     ]
    }
   ],
   "source": [
    "from sklearn.model_selection import train_test_split\n",
    "y = data['project_is_approved']\n",
    "x = data.drop(['project_is_approved'],axis=1)\n",
    "x_train, x_test, y_train, y_test = train_test_split(x, y, test_size=0.33, stratify=y,)#random_state=42)\n",
    "print(x_train.shape,'\\n',x_test.shape,'\\n',y_train.shape,'\\n',y_test.shape,'\\n')\n",
    "bow_feat = list()\n",
    "tfidf_feat = list()\n",
    "rem_feat = list()"
   ]
  },
  {
   "cell_type": "markdown",
   "metadata": {
    "id": "EnZwVNULb3dO"
   },
   "source": [
    "##1.3 Make Data Model Ready: encoding eassay, and project_title"
   ]
  },
  {
   "cell_type": "code",
   "execution_count": 6,
   "metadata": {
    "id": "-SczZKiab3dR"
   },
   "outputs": [],
   "source": [
    "# please write all the code with proper documentation, and proper titles for each subsection\n",
    "# go through documentations and blogs before you start coding\n",
    "# first figure out what to do, and then think about how to do.\n",
    "# reading and understanding error messages will be very much helpfull in debugging your code\n",
    "# make sure you featurize train and test data separatly\n",
    "\n",
    "# when you plot any graph make sure you use \n",
    "    # a. Title, that describes your plot, this will be very helpful to the reader\n",
    "    # b. Legends if needed\n",
    "    # c. X-axis label\n",
    "    # d. Y-axis label"
   ]
  },
  {
   "cell_type": "code",
   "execution_count": 6,
   "metadata": {
    "id": "INP0CuZANgEh"
   },
   "outputs": [],
   "source": []
  },
  {
   "cell_type": "code",
   "execution_count": 7,
   "metadata": {
    "id": "qNfLfe6wOynJ"
   },
   "outputs": [],
   "source": [
    "def stemming(data,text_column):\n",
    "  from nltk.tokenize import word_tokenize\n",
    "  #from nltk.stem.wordnet import WordNetLemmatizer\n",
    "  #lmtzr = WordNetLemmatizer()\n",
    "  from nltk.stem import PorterStemmer \n",
    "  from tqdm import tqdm\n",
    "  import warnings\n",
    "  warnings.filterwarnings(\"ignore\")\n",
    "\n",
    "  ps = PorterStemmer()\n",
    "  l = list()\n",
    "  for i,row in (enumerate(tqdm(data[str(text_column)]))):\n",
    "    for words in row.split():\n",
    "        for w in word_tokenize(words):\n",
    "            l.append(ps.stem(w))\n",
    "            #print(ps.stem(w),words)\n",
    "    data[text_column][i] = ' '.join(l)\n",
    "  del l\n",
    "  return data\n"
   ]
  },
  {
   "cell_type": "code",
   "execution_count": 8,
   "metadata": {
    "colab": {
     "base_uri": "https://localhost:8080/"
    },
    "id": "YVhPS7T7PGC2",
    "outputId": "3088faba-f490-4f6b-9666-680adc314c8a"
   },
   "outputs": [
    {
     "name": "stdout",
     "output_type": "stream",
     "text": [
      "(33500, 5000)\n"
     ]
    }
   ],
   "source": [
    "#x_train = stemming(x_train,'essay')\n",
    "from sklearn.feature_extraction.text import CountVectorizer\n",
    "vectorizer_bow = CountVectorizer(min_df=10,ngram_range=(1,2), max_features=5000,stop_words='english')\n",
    "vectorizer_bow.fit(x_train['essay'].values)\n",
    "x_train_essay_feat_bow = vectorizer_bow.transform(x_train['essay'].values)\n",
    "x_test_essay_feat_bow = vectorizer_bow.transform(x_test['essay'].values)\n",
    "print(x_train_essay_feat_bow.shape)\n",
    "bow_feat.extend(vectorizer_bow.get_feature_names())\n",
    "\n",
    "\n"
   ]
  },
  {
   "cell_type": "code",
   "execution_count": 8,
   "metadata": {
    "id": "FbHl4BJ0DDL-"
   },
   "outputs": [],
   "source": []
  },
  {
   "cell_type": "markdown",
   "metadata": {
    "id": "bGy86kgHb3dX"
   },
   "source": [
    "##1.4 Make Data Model Ready: encoding numerical, categorical features"
   ]
  },
  {
   "cell_type": "code",
   "execution_count": 9,
   "metadata": {
    "id": "EfXkofX1b3da"
   },
   "outputs": [],
   "source": [
    "# please write all the code with proper documentation, and proper titles for each subsection\n",
    "# go through documentations and blogs before you start coding \n",
    "# first figure out what to do, and then think about how to do.\n",
    "# reading and understanding error messages will be very much helpfull in debugging your code\n",
    "# make sure you featurize train and test data separatly\n",
    "\n",
    "# when you plot any graph make sure you use \n",
    "    # a. Title, that describes your plot, this will be very helpful to the reader\n",
    "    # b. Legends if needed\n",
    "    # c. X-axis label\n",
    "    # d. Y-axis label"
   ]
  },
  {
   "cell_type": "code",
   "execution_count": 10,
   "metadata": {
    "colab": {
     "base_uri": "https://localhost:8080/"
    },
    "id": "0hKdX9rEkErx",
    "outputId": "d4b251c4-43d1-4599-a3df-3aa3cc22e9bf"
   },
   "outputs": [
    {
     "name": "stdout",
     "output_type": "stream",
     "text": [
      "(33500, 1) \n",
      "\n",
      "(33500, 1)\n"
     ]
    }
   ],
   "source": [
    "from sklearn.preprocessing import Normalizer\n",
    "normalizer = Normalizer()\n",
    "#indx = x_train.index.values.tolist()\n",
    "normalizer.fit(x_train['price'].values.reshape(1,-1))\n",
    "#x_train['price'] = (pd.DataFrame((a.transform(x_train['price'].values.reshape(1,-1))).reshape(-1,1),index=indx))\n",
    "x_train_price_feat =  normalizer.transform(x_train['price'].values.reshape(1,-1)).reshape(-1,1)\n",
    "x_test_price_feat =  normalizer.transform(x_test['price'].values.reshape(1,-1)).reshape(-1,1)\n",
    "print(x_train_price_feat.shape,'\\n')\n",
    "rem_feat.append('PRICE')\n",
    "\n",
    "normalizer = Normalizer()\n",
    "normalizer.fit(x_train['teacher_number_of_previously_posted_projects'].values.reshape(1,-1))\n",
    "#x_train['teacher_number_of_previously_posted_projects'] = pd.DataFrame(bb.reshape(-1,1),index=indx)\n",
    "x_train_prev_pos_proj_feat = (normalizer.transform(x_train['teacher_number_of_previously_posted_projects'].values.reshape(1,-1))).reshape(-1,1)\n",
    "x_test_prev_pos_proj_feat = (normalizer.transform(x_test['teacher_number_of_previously_posted_projects'].values.reshape(1,-1))).reshape(-1,1)\n",
    "print(x_train_prev_pos_proj_feat.shape)\n",
    "rem_feat.append('teacher_number_of_previously_posted_projects')"
   ]
  },
  {
   "cell_type": "code",
   "execution_count": 10,
   "metadata": {
    "id": "x_WLriKw-wRq"
   },
   "outputs": [],
   "source": []
  },
  {
   "cell_type": "code",
   "execution_count": 10,
   "metadata": {
    "id": "6yVTOTL9-wek"
   },
   "outputs": [],
   "source": []
  },
  {
   "cell_type": "code",
   "execution_count": 11,
   "metadata": {
    "colab": {
     "base_uri": "https://localhost:8080/"
    },
    "id": "QzjwP0CUkEk-",
    "outputId": "5b19c009-33c1-4e68-8457-b321f5da7884"
   },
   "outputs": [
    {
     "name": "stdout",
     "output_type": "stream",
     "text": [
      "(33500, 5)\n"
     ]
    }
   ],
   "source": [
    "vectorizer = CountVectorizer()\n",
    "vectorizer.fit(x_train['teacher_prefix'].values)\n",
    "x_train_teacher_prefix_feat = vectorizer.transform(x_train['teacher_prefix'].values)\n",
    "x_test_teacher_prefix_feat = vectorizer.transform(x_test['teacher_prefix'].values)\n",
    "print(x_train_teacher_prefix_feat.shape)\n",
    "rem_feat.extend(vectorizer.get_feature_names())"
   ]
  },
  {
   "cell_type": "code",
   "execution_count": 11,
   "metadata": {
    "id": "kvOAGNnJuDNk"
   },
   "outputs": [],
   "source": []
  },
  {
   "cell_type": "code",
   "execution_count": 11,
   "metadata": {
    "id": "-Avw6PvMw8tp"
   },
   "outputs": [],
   "source": []
  },
  {
   "cell_type": "code",
   "execution_count": 12,
   "metadata": {
    "colab": {
     "base_uri": "https://localhost:8080/"
    },
    "id": "C93BCweWYMWo",
    "outputId": "4ce9277f-1dbf-4e0c-e5a5-6b4d17386bfd"
   },
   "outputs": [
    {
     "name": "stdout",
     "output_type": "stream",
     "text": [
      "(33500, 4)\n"
     ]
    }
   ],
   "source": [
    "vectorizer = CountVectorizer()\n",
    "vectorizer.fit(x_train['project_grade_category'].values)\n",
    "x_train_grade_feat = vectorizer.transform(x_train['project_grade_category'].values)\n",
    "x_test_grade_feat = vectorizer.transform(x_test['project_grade_category'].values)\n",
    "print(x_train_grade_feat.shape)\n",
    "rem_feat.extend(vectorizer.get_feature_names())"
   ]
  },
  {
   "cell_type": "code",
   "execution_count": 12,
   "metadata": {
    "id": "ZtzBXh2Q-xoI"
   },
   "outputs": [],
   "source": []
  },
  {
   "cell_type": "code",
   "execution_count": 13,
   "metadata": {
    "colab": {
     "base_uri": "https://localhost:8080/"
    },
    "id": "RCOZwpKkZ_Ut",
    "outputId": "9d357bd3-efa1-42ab-806a-29847c80a6f4"
   },
   "outputs": [
    {
     "name": "stdout",
     "output_type": "stream",
     "text": [
      "(33500, 51)\n"
     ]
    }
   ],
   "source": [
    "vectorizer = CountVectorizer()\n",
    "vectorizer.fit(x_train['school_state'].values)\n",
    "x_train_schl_state_feat = vectorizer.transform(x_train['school_state'].values)\n",
    "x_test_schl_state_feat = vectorizer.transform(x_test['school_state'].values)\n",
    "print(x_train_schl_state_feat.shape)\n",
    "rem_feat.extend(vectorizer.get_feature_names())"
   ]
  },
  {
   "cell_type": "code",
   "execution_count": 13,
   "metadata": {
    "id": "6V8X0D0w-y0J"
   },
   "outputs": [],
   "source": []
  },
  {
   "cell_type": "code",
   "execution_count": 14,
   "metadata": {
    "colab": {
     "base_uri": "https://localhost:8080/"
    },
    "id": "nSPTe2viZ_xF",
    "outputId": "d3c5bff0-8d95-4014-b17a-743861935015"
   },
   "outputs": [
    {
     "name": "stdout",
     "output_type": "stream",
     "text": [
      "(33500, 9)\n"
     ]
    }
   ],
   "source": [
    "vectorizer = CountVectorizer()\n",
    "vectorizer.fit(x_train['clean_categories'].values)\n",
    "x_train_catg_feat = vectorizer.transform(x_train['clean_categories'].values)\n",
    "x_test_catg_feat = vectorizer.transform(x_test['clean_categories'].values)\n",
    "print(x_train_catg_feat.shape)\n",
    "rem_feat.extend(vectorizer.get_feature_names())"
   ]
  },
  {
   "cell_type": "code",
   "execution_count": 14,
   "metadata": {
    "id": "s3L0yFAhwPS6"
   },
   "outputs": [],
   "source": []
  },
  {
   "cell_type": "code",
   "execution_count": 15,
   "metadata": {
    "colab": {
     "base_uri": "https://localhost:8080/"
    },
    "id": "cHtvPyW3Z_0R",
    "outputId": "01a8bda7-dc0c-4f4b-bf22-bc08926aa1a3"
   },
   "outputs": [
    {
     "name": "stdout",
     "output_type": "stream",
     "text": [
      "(33500, 30)\n"
     ]
    }
   ],
   "source": [
    "vectorizer = CountVectorizer()\n",
    "vectorizer.fit(x_train['clean_subcategories'].values)\n",
    "x_train_subcatg_feat = vectorizer.transform(x_train['clean_subcategories'].values)\n",
    "x_test_subcatg_feat = vectorizer.transform(x_test['clean_subcategories'].values)\n",
    "print(x_train_subcatg_feat.shape)\n",
    "rem_feat.extend(vectorizer.get_feature_names())"
   ]
  },
  {
   "cell_type": "code",
   "execution_count": 15,
   "metadata": {
    "id": "6MfR7sMw-0E-"
   },
   "outputs": [],
   "source": []
  },
  {
   "cell_type": "code",
   "execution_count": 16,
   "metadata": {
    "id": "rJCMNJhCZ_3s"
   },
   "outputs": [],
   "source": [
    "from scipy.sparse import hstack\n",
    "X_train_bow = hstack((x_train_essay_feat_bow,x_train_price_feat,x_train_prev_pos_proj_feat,\n",
    "                x_train_teacher_prefix_feat, x_train_grade_feat, x_train_schl_state_feat, \n",
    "                x_train_catg_feat,x_train_subcatg_feat)).tocsr()\n",
    "\n",
    "X_test_bow = hstack((x_test_essay_feat_bow,x_test_price_feat,x_test_prev_pos_proj_feat,\n",
    "                x_test_teacher_prefix_feat, x_test_grade_feat, x_test_schl_state_feat, \n",
    "                x_test_catg_feat,x_test_subcatg_feat)).tocsr()\n",
    "\n"
   ]
  },
  {
   "cell_type": "code",
   "execution_count": 16,
   "metadata": {
    "id": "MQyRo-hKZ_7q"
   },
   "outputs": [],
   "source": []
  },
  {
   "cell_type": "code",
   "execution_count": 16,
   "metadata": {
    "id": "WigfI1ZCZ__J"
   },
   "outputs": [],
   "source": []
  },
  {
   "cell_type": "markdown",
   "metadata": {
    "id": "yYHPYadYb3dh"
   },
   "source": [
    "##1.5 Appling NB on different kind of featurization as mentioned in the instructions\n",
    "\n",
    "<br>Apply NB on different kind of featurization as mentioned in the instructions\n",
    "<br> For Every model that you work on make sure you do the step 2 and step 3 of instrucations"
   ]
  },
  {
   "cell_type": "code",
   "execution_count": 17,
   "metadata": {
    "id": "DNwqilFxb3di"
   },
   "outputs": [],
   "source": [
    "# please write all the code with proper documentation, and proper titles for each subsection\n",
    "# go through documentations and blogs before you start coding\n",
    "# first figure out what to do, and then think about how to do.\n",
    "# reading and understanding error messages will be very much helpfull in debugging your code\n",
    "# when you plot any graph make sure you use \n",
    "    # a. Title, that describes your plot, this will be very helpful to the reader\n",
    "    # b. Legends if needed\n",
    "    # c. X-axis label\n",
    "    # d. Y-axis label"
   ]
  },
  {
   "cell_type": "code",
   "execution_count": 18,
   "metadata": {
    "colab": {
     "base_uri": "https://localhost:8080/"
    },
    "id": "q6uSZ5n3DW3_",
    "outputId": "4c59c4f0-f16a-4b9e-e56b-186d8da7fd24"
   },
   "outputs": [
    {
     "name": "stdout",
     "output_type": "stream",
     "text": [
      "Fitting 10 folds for each of 14 candidates, totalling 140 fits\n"
     ]
    },
    {
     "name": "stderr",
     "output_type": "stream",
     "text": [
      "[Parallel(n_jobs=-1)]: Using backend LokyBackend with 2 concurrent workers.\n",
      "[Parallel(n_jobs=-1)]: Done  46 tasks      | elapsed:    4.5s\n",
      "[Parallel(n_jobs=-1)]: Done 140 out of 140 | elapsed:   10.3s finished\n"
     ]
    },
    {
     "data": {
      "text/plain": [
       "GridSearchCV(cv=10, error_score=nan,\n",
       "             estimator=MultinomialNB(alpha=1.0, class_prior=None,\n",
       "                                     fit_prior=True),\n",
       "             iid='deprecated', n_jobs=-1,\n",
       "             param_grid=[{'alpha': [1e-05, 0.0005, 0.0001, 0.005, 0.001, 0.05,\n",
       "                                    0.01, 0.1, 0.5, 1, 5, 10, 50, 100],\n",
       "                          'class_prior': [[0.5, 0.5]]}],\n",
       "             pre_dispatch='2*n_jobs', refit=True, return_train_score=True,\n",
       "             scoring=make_scorer(roc_auc_score), verbose=1)"
      ]
     },
     "execution_count": 18,
     "metadata": {
      "tags": []
     },
     "output_type": "execute_result"
    }
   ],
   "source": [
    "from sklearn.naive_bayes import MultinomialNB\n",
    "from sklearn.model_selection import GridSearchCV\n",
    "from sklearn.metrics import roc_auc_score,roc_curve,confusion_matrix\n",
    "import numpy as np\n",
    "from sklearn.metrics import  make_scorer\n",
    "MNB = MultinomialNB()\n",
    "params = [\n",
    "           { 'alpha': [0.00001,0.0005, 0.0001,0.005,0.001,0.05,0.01,0.1,0.5,1,5,10,50,100],\n",
    "             'class_prior':[[0.5,0.5]] \n",
    "           }\n",
    "         ]\n",
    "auc_ = make_scorer(roc_auc_score)\n",
    "\n",
    "clf_bow = GridSearchCV(estimator=MNB,param_grid=params,n_jobs=-1,verbose=1,scoring=auc_,cv=10,return_train_score=True)\n",
    "clf_bow.fit(X_train_bow,y_train)\n"
   ]
  },
  {
   "cell_type": "code",
   "execution_count": 18,
   "metadata": {
    "id": "jCH9tkE3Exy1"
   },
   "outputs": [],
   "source": []
  },
  {
   "cell_type": "code",
   "execution_count": 19,
   "metadata": {
    "id": "wI52DwItR2k-"
   },
   "outputs": [],
   "source": [
    "import math as m\n",
    "import matplotlib.pyplot as plt\n",
    "alphas = [0.00001,0.0005, 0.0001,0.005,0.001,0.05,0.01,0.1,0.5,1,5,10,50,100]  \n",
    "def plot_hyper_vs_auc(model,alphas):\n",
    "  x_ax = [m.log(i,10) for i in alphas]\n",
    "  r = pd.DataFrame(model.cv_results_)\n",
    "  plt.plot(x_ax,r['mean_train_score'],'-o',label='Train-scores')\n",
    "  plt.plot(x_ax,r['mean_test_score'],'-o',label='Cv-scores')\n",
    "  plt.xlabel('Hyper-parameter')\n",
    "  plt.ylabel('Area under ROC curve')\n",
    "  plt.legend()\n",
    "  plt.grid()\n",
    "  plt.show()\n",
    "  return 0\n"
   ]
  },
  {
   "cell_type": "code",
   "execution_count": 20,
   "metadata": {
    "colab": {
     "base_uri": "https://localhost:8080/",
     "height": 299
    },
    "id": "vDHF3dRiDW_d",
    "outputId": "d8e5fbd7-0a5a-4420-a9da-9015cd740270"
   },
   "outputs": [
    {
     "data": {
      "image/png": "[encoded data removed]",
      "text/plain": [
       "<Figure size 432x288 with 1 Axes>"
      ]
     },
     "metadata": {
      "needs_background": "light",
      "tags": []
     },
     "output_type": "display_data"
    },
    {
     "data": {
      "text/plain": [
       "0"
      ]
     },
     "execution_count": 20,
     "metadata": {
      "tags": []
     },
     "output_type": "execute_result"
    }
   ],
   "source": [
    "plot_hyper_vs_auc(model=clf_bow,alphas=alphas)"
   ]
  },
  {
   "cell_type": "code",
   "execution_count": 21,
   "metadata": {
    "colab": {
     "base_uri": "https://localhost:8080/"
    },
    "id": "aO-hWZfEWNML",
    "outputId": "bbfdc634-d8f1-4ecf-e9d4-ce74cb600bbd"
   },
   "outputs": [
    {
     "data": {
      "text/plain": [
       "MultinomialNB(alpha=0.0005, class_prior=[0.5, 0.5], fit_prior=True)"
      ]
     },
     "execution_count": 21,
     "metadata": {
      "tags": []
     },
     "output_type": "execute_result"
    }
   ],
   "source": [
    "clf_bow.best_estimator_"
   ]
  },
  {
   "cell_type": "code",
   "execution_count": 22,
   "metadata": {
    "colab": {
     "base_uri": "https://localhost:8080/"
    },
    "id": "QMx5jPdLWiMm",
    "outputId": "580428e4-4d0f-43f6-91d8-4824f735a765"
   },
   "outputs": [
    {
     "name": "stdout",
     "output_type": "stream",
     "text": [
      "auc_train_bow =  0.7487043248245089\n",
      "auc_test_bow. =  0.6883021025740808\n"
     ]
    }
   ],
   "source": [
    "nb_bow = MultinomialNB(alpha=(clf_bow.best_estimator_).alpha,class_prior=[0.5,0.5])\n",
    "nb_bow.fit(X_train_bow,y_train)\n",
    "auc_train_bow = roc_auc_score(y_true=y_train,y_score=nb_bow.predict_proba(X_train_bow)[:,1])\n",
    "auc_test_bow  = roc_auc_score(y_true=y_test,y_score=nb_bow.predict_proba(X_test_bow)[:,1])\n",
    "print('auc_train_bow = ',auc_train_bow)\n",
    "print('auc_test_bow. = ',auc_test_bow)"
   ]
  },
  {
   "cell_type": "code",
   "execution_count": 23,
   "metadata": {
    "colab": {
     "base_uri": "https://localhost:8080/",
     "height": 544
    },
    "id": "6ii-2SxP9ge2",
    "outputId": "64499af1-f5ab-4d9d-abc6-f6d3de059968"
   },
   "outputs": [
    {
     "data": {
      "image/png": "[encoded data removed]",
      "text/plain": [
       "<Figure size 432x288 with 1 Axes>"
      ]
     },
     "metadata": {
      "needs_background": "light",
      "tags": []
     },
     "output_type": "display_data"
    },
    {
     "data": {
      "text/plain": [
       "0"
      ]
     },
     "execution_count": 23,
     "metadata": {
      "tags": []
     },
     "output_type": "execute_result"
    },
    {
     "data": {
      "image/png": "[encoded data removed]",
      "text/plain": [
       "<Figure size 432x288 with 2 Axes>"
      ]
     },
     "metadata": {
      "needs_background": "light",
      "tags": []
     },
     "output_type": "display_data"
    }
   ],
   "source": [
    "import seaborn as sns\n",
    "def plot_roc(model,x_train,x_test,y_train,y_test):\n",
    "  tr_fpr, tr_tpr, tr_thresholds = roc_curve(y_train,model.predict_proba(x_train)[:,1])\n",
    "  ts_fpr, ts_tpr, ts_thresholds = roc_curve(y_test,model.predict_proba(x_test)[:,1])\n",
    "  plt.plot(tr_fpr,tr_tpr,'-o',label='train')\n",
    "  plt.plot(ts_fpr,ts_tpr,'-o',label='test')\n",
    "  plt.xlabel('fpr')\n",
    "  plt.ylabel('tpr')\n",
    "  plt.legend()\n",
    "  plt.grid()\n",
    "  plt.show()\n",
    "  \n",
    "  # https://stackoverflow.com/questions/61748441/how-to-fix-the-values-displayed-in-a-confusion-matrix-in-exponential-form-to-nor\n",
    "  cm = confusion_matrix(y_test,model.predict(x_test))\n",
    "  sns.heatmap(cm, annot=True,fmt=\"d\",cmap='Blues')\n",
    "  return 0\n",
    "plot_roc(nb_bow,X_train_bow,X_test_bow,y_train,y_test)\n"
   ]
  },
  {
   "cell_type": "code",
   "execution_count": 24,
   "metadata": {
    "colab": {
     "base_uri": "https://localhost:8080/",
     "height": 160
    },
    "id": "DCIHIeoR9nFo",
    "outputId": "caf505ad-f3c9-4109-edbb-4ed468fc2c54"
   },
   "outputs": [
    {
     "data": {
      "text/html": [
       "<div>\n",
       "<style scoped>\n",
       "    .dataframe tbody tr th:only-of-type {\n",
       "        vertical-align: middle;\n",
       "    }\n",
       "\n",
       "    .dataframe tbody tr th {\n",
       "        vertical-align: top;\n",
       "    }\n",
       "\n",
       "    .dataframe thead th {\n",
       "        text-align: right;\n",
       "    }\n",
       "</style>\n",
       "<table border=\"1\" class=\"dataframe\">\n",
       "  <thead>\n",
       "    <tr style=\"text-align: right;\">\n",
       "      <th></th>\n",
       "      <th>0</th>\n",
       "      <th>1</th>\n",
       "      <th>2</th>\n",
       "      <th>3</th>\n",
       "      <th>4</th>\n",
       "      <th>5</th>\n",
       "      <th>6</th>\n",
       "      <th>7</th>\n",
       "      <th>8</th>\n",
       "      <th>9</th>\n",
       "      <th>10</th>\n",
       "      <th>11</th>\n",
       "      <th>12</th>\n",
       "      <th>13</th>\n",
       "      <th>14</th>\n",
       "      <th>15</th>\n",
       "      <th>16</th>\n",
       "      <th>17</th>\n",
       "      <th>18</th>\n",
       "      <th>19</th>\n",
       "      <th>20</th>\n",
       "      <th>21</th>\n",
       "      <th>22</th>\n",
       "      <th>23</th>\n",
       "      <th>24</th>\n",
       "      <th>25</th>\n",
       "      <th>26</th>\n",
       "      <th>27</th>\n",
       "      <th>28</th>\n",
       "      <th>29</th>\n",
       "      <th>30</th>\n",
       "      <th>31</th>\n",
       "      <th>32</th>\n",
       "      <th>33</th>\n",
       "      <th>34</th>\n",
       "      <th>35</th>\n",
       "      <th>36</th>\n",
       "      <th>37</th>\n",
       "      <th>38</th>\n",
       "      <th>39</th>\n",
       "      <th>...</th>\n",
       "      <th>5061</th>\n",
       "      <th>5062</th>\n",
       "      <th>5063</th>\n",
       "      <th>5064</th>\n",
       "      <th>5065</th>\n",
       "      <th>5066</th>\n",
       "      <th>5067</th>\n",
       "      <th>5068</th>\n",
       "      <th>5069</th>\n",
       "      <th>5070</th>\n",
       "      <th>5071</th>\n",
       "      <th>5072</th>\n",
       "      <th>5073</th>\n",
       "      <th>5074</th>\n",
       "      <th>5075</th>\n",
       "      <th>5076</th>\n",
       "      <th>5077</th>\n",
       "      <th>5078</th>\n",
       "      <th>5079</th>\n",
       "      <th>5080</th>\n",
       "      <th>5081</th>\n",
       "      <th>5082</th>\n",
       "      <th>5083</th>\n",
       "      <th>5084</th>\n",
       "      <th>5085</th>\n",
       "      <th>5086</th>\n",
       "      <th>5087</th>\n",
       "      <th>5088</th>\n",
       "      <th>5089</th>\n",
       "      <th>5090</th>\n",
       "      <th>5091</th>\n",
       "      <th>5092</th>\n",
       "      <th>5093</th>\n",
       "      <th>5094</th>\n",
       "      <th>5095</th>\n",
       "      <th>5096</th>\n",
       "      <th>5097</th>\n",
       "      <th>5098</th>\n",
       "      <th>5099</th>\n",
       "      <th>5100</th>\n",
       "    </tr>\n",
       "  </thead>\n",
       "  <tbody>\n",
       "    <tr>\n",
       "      <th>0</th>\n",
       "      <td>-9.712298</td>\n",
       "      <td>-8.510509</td>\n",
       "      <td>-7.760205</td>\n",
       "      <td>-9.690792</td>\n",
       "      <td>-9.852058</td>\n",
       "      <td>-8.976597</td>\n",
       "      <td>-9.480499</td>\n",
       "      <td>-8.831416</td>\n",
       "      <td>-9.669739</td>\n",
       "      <td>-10.075199</td>\n",
       "      <td>-9.779739</td>\n",
       "      <td>-9.985588</td>\n",
       "      <td>-8.915973</td>\n",
       "      <td>-9.852058</td>\n",
       "      <td>-10.208728</td>\n",
       "      <td>-9.589697</td>\n",
       "      <td>-10.245095</td>\n",
       "      <td>-8.770262</td>\n",
       "      <td>-9.570649</td>\n",
       "      <td>-10.362876</td>\n",
       "      <td>-8.550514</td>\n",
       "      <td>-10.405434</td>\n",
       "      <td>-9.827366</td>\n",
       "      <td>-9.008346</td>\n",
       "      <td>-9.930019</td>\n",
       "      <td>-9.852058</td>\n",
       "      <td>-10.173637</td>\n",
       "      <td>-9.734277</td>\n",
       "      <td>-7.984120</td>\n",
       "      <td>-7.991872</td>\n",
       "      <td>-9.515590</td>\n",
       "      <td>-9.852058</td>\n",
       "      <td>-9.533608</td>\n",
       "      <td>-8.849598</td>\n",
       "      <td>-9.903351</td>\n",
       "      <td>-9.985588</td>\n",
       "      <td>-10.496404</td>\n",
       "      <td>-10.208728</td>\n",
       "      <td>-8.299201</td>\n",
       "      <td>-8.955978</td>\n",
       "      <td>...</td>\n",
       "      <td>-13.540451</td>\n",
       "      <td>-7.104799</td>\n",
       "      <td>-13.540451</td>\n",
       "      <td>-6.727505</td>\n",
       "      <td>-7.877988</td>\n",
       "      <td>-5.794650</td>\n",
       "      <td>-5.909519</td>\n",
       "      <td>-7.438391</td>\n",
       "      <td>-7.015920</td>\n",
       "      <td>-13.540451</td>\n",
       "      <td>-7.229215</td>\n",
       "      <td>-13.540451</td>\n",
       "      <td>-8.720665</td>\n",
       "      <td>-9.803269</td>\n",
       "      <td>-8.831416</td>\n",
       "      <td>-10.545193</td>\n",
       "      <td>-8.019488</td>\n",
       "      <td>-11.461446</td>\n",
       "      <td>-7.782047</td>\n",
       "      <td>-8.184362</td>\n",
       "      <td>-10.075199</td>\n",
       "      <td>-10.901857</td>\n",
       "      <td>-9.570649</td>\n",
       "      <td>-7.847217</td>\n",
       "      <td>-8.027520</td>\n",
       "      <td>-7.074805</td>\n",
       "      <td>-8.465773</td>\n",
       "      <td>-6.262321</td>\n",
       "      <td>-6.595899</td>\n",
       "      <td>-6.313288</td>\n",
       "      <td>-8.813558</td>\n",
       "      <td>-8.712633</td>\n",
       "      <td>-8.650598</td>\n",
       "      <td>-10.650551</td>\n",
       "      <td>-9.210211</td>\n",
       "      <td>-8.858815</td>\n",
       "      <td>-7.015920</td>\n",
       "      <td>-8.592187</td>\n",
       "      <td>-7.837166</td>\n",
       "      <td>-13.540451</td>\n",
       "    </tr>\n",
       "    <tr>\n",
       "      <th>1</th>\n",
       "      <td>-9.766587</td>\n",
       "      <td>-8.355902</td>\n",
       "      <td>-7.801464</td>\n",
       "      <td>-9.559205</td>\n",
       "      <td>-10.141653</td>\n",
       "      <td>-8.876143</td>\n",
       "      <td>-9.679919</td>\n",
       "      <td>-8.662504</td>\n",
       "      <td>-9.852476</td>\n",
       "      <td>-10.318004</td>\n",
       "      <td>-10.129749</td>\n",
       "      <td>-9.922110</td>\n",
       "      <td>-8.986772</td>\n",
       "      <td>-9.971381</td>\n",
       "      <td>-10.033901</td>\n",
       "      <td>-9.457530</td>\n",
       "      <td>-10.346992</td>\n",
       "      <td>-8.722958</td>\n",
       "      <td>-9.359751</td>\n",
       "      <td>-10.222694</td>\n",
       "      <td>-8.393759</td>\n",
       "      <td>-10.178243</td>\n",
       "      <td>-10.172051</td>\n",
       "      <td>-9.212277</td>\n",
       "      <td>-10.017901</td>\n",
       "      <td>-9.870576</td>\n",
       "      <td>-10.296802</td>\n",
       "      <td>-9.653846</td>\n",
       "      <td>-7.800887</td>\n",
       "      <td>-7.813065</td>\n",
       "      <td>-9.500747</td>\n",
       "      <td>-9.946442</td>\n",
       "      <td>-9.148182</td>\n",
       "      <td>-8.626331</td>\n",
       "      <td>-9.971381</td>\n",
       "      <td>-9.936638</td>\n",
       "      <td>-10.197052</td>\n",
       "      <td>-9.991789</td>\n",
       "      <td>-8.384418</td>\n",
       "      <td>-9.029168</td>\n",
       "      <td>...</td>\n",
       "      <td>-12.957015</td>\n",
       "      <td>-7.267720</td>\n",
       "      <td>-15.259150</td>\n",
       "      <td>-6.725207</td>\n",
       "      <td>-7.894470</td>\n",
       "      <td>-5.740576</td>\n",
       "      <td>-6.039756</td>\n",
       "      <td>-7.498331</td>\n",
       "      <td>-7.213741</td>\n",
       "      <td>-15.259150</td>\n",
       "      <td>-7.419337</td>\n",
       "      <td>-15.259150</td>\n",
       "      <td>-8.973651</td>\n",
       "      <td>-9.821569</td>\n",
       "      <td>-8.884625</td>\n",
       "      <td>-10.463856</td>\n",
       "      <td>-8.239459</td>\n",
       "      <td>-11.085255</td>\n",
       "      <td>-8.065213</td>\n",
       "      <td>-8.288920</td>\n",
       "      <td>-10.216222</td>\n",
       "      <td>-11.388439</td>\n",
       "      <td>-9.931772</td>\n",
       "      <td>-7.837276</td>\n",
       "      <td>-8.240353</td>\n",
       "      <td>-6.971116</td>\n",
       "      <td>-8.500394</td>\n",
       "      <td>-6.183413</td>\n",
       "      <td>-6.578130</td>\n",
       "      <td>-6.422550</td>\n",
       "      <td>-8.588883</td>\n",
       "      <td>-8.937084</td>\n",
       "      <td>-8.844552</td>\n",
       "      <td>-10.840804</td>\n",
       "      <td>-9.113320</td>\n",
       "      <td>-8.856075</td>\n",
       "      <td>-7.213741</td>\n",
       "      <td>-9.061170</td>\n",
       "      <td>-8.046618</td>\n",
       "      <td>-15.259150</td>\n",
       "    </tr>\n",
       "  </tbody>\n",
       "</table>\n",
       "<p>2 rows × 5101 columns</p>\n",
       "</div>"
      ],
      "text/plain": [
       "       0         1         2     ...      5098      5099       5100\n",
       "0 -9.712298 -8.510509 -7.760205  ... -8.592187 -7.837166 -13.540451\n",
       "1 -9.766587 -8.355902 -7.801464  ... -9.061170 -8.046618 -15.259150\n",
       "\n",
       "[2 rows x 5101 columns]"
      ]
     },
     "execution_count": 24,
     "metadata": {
      "tags": []
     },
     "output_type": "execute_result"
    }
   ],
   "source": [
    "pd.DataFrame(nb_bow.feature_log_prob_)"
   ]
  },
  {
   "cell_type": "code",
   "execution_count": 25,
   "metadata": {
    "id": "4bv9Mf3Avg0m"
   },
   "outputs": [],
   "source": [
    "def get_top_feat(model,all_features,top_feat):\n",
    "  ind_0 = np.argsort(model.feature_log_prob_[0])\n",
    "  ind_1 = np.argsort(model.feature_log_prob_[1])\n",
    "\n",
    "  #https://stackoverflow.com/questions/18272160/access-multiple-elements-of-list-knowing-their-index\n",
    "  from operator import itemgetter  \n",
    "  imp_feat_0 =list(itemgetter(*ind_0)(all_features))[:top_feat]\n",
    "  imp_feat_1 =list(itemgetter(*ind_1)(all_features))[:top_feat]\n",
    "  print('imp_feat_0',imp_feat_0,'\\n')\n",
    "  print('imp_feat_1',imp_feat_1,'\\n')\n",
    "  return 0"
   ]
  },
  {
   "cell_type": "code",
   "execution_count": 26,
   "metadata": {
    "colab": {
     "base_uri": "https://localhost:8080/"
    },
    "id": "EP7H6-R7v6z6",
    "outputId": "4437189a-ed64-4d56-e288-552911e6ec21"
   },
   "outputs": [
    {
     "name": "stdout",
     "output_type": "stream",
     "text": [
      "imp_feat_0 ['warmth', 'nd', 'care_hunger', 'wy', 'warmth', 'care_hunger', 'dr', 'kore wobble', 'ri', 'wobble cushions', 'dash dot', 'fitbits', 'discs', 'piano', 'kindle fires', 'vt', 'fitbit', 'book bins', 'chromebooks allow', 'kore'] \n",
      "\n",
      "imp_feat_1 ['warmth', 'care_hunger', 'care_hunger', 'warmth', 'dr', 'wy', 'vt', 'nd', 'financialliteracy', 'mt', 'teacher_number_of_previously_posted_projects', 'economics', 'ri', 'nh', 'sd', 'parentinvolvement', 'ne', 'PRICE', 'ak', 'want come'] \n",
      "\n"
     ]
    },
    {
     "data": {
      "text/plain": [
       "0"
      ]
     },
     "execution_count": 26,
     "metadata": {
      "tags": []
     },
     "output_type": "execute_result"
    }
   ],
   "source": [
    "all_features = bow_feat + rem_feat\n",
    "top_feat = 20\n",
    "get_top_feat(model=nb_bow,all_features=all_features,top_feat=top_feat)"
   ]
  },
  {
   "cell_type": "code",
   "execution_count": 26,
   "metadata": {
    "id": "U9wdw-rzpVo5"
   },
   "outputs": [],
   "source": []
  },
  {
   "cell_type": "markdown",
   "metadata": {
    "id": "GVJ-mAHIdvG1"
   },
   "source": []
  },
  {
   "cell_type": "markdown",
   "metadata": {
    "id": "LhbAwMiikzdy"
   },
   "source": [
    "# SET-2 ( TF-IDF)"
   ]
  },
  {
   "cell_type": "code",
   "execution_count": 36,
   "metadata": {
    "colab": {
     "base_uri": "https://localhost:8080/"
    },
    "id": "_Ae3Ushbk13Y",
    "outputId": "5708f09e-0acb-4629-eca3-7b6331e7bfa6"
   },
   "outputs": [
    {
     "name": "stdout",
     "output_type": "stream",
     "text": [
      "(33500, 3983718)\n"
     ]
    }
   ],
   "source": [
    "from sklearn.feature_extraction.text import TfidfVectorizer\n",
    "vectorizer_tfidf = TfidfVectorizer(ngram_range=(1,3),stop_words='english')\n",
    "vectorizer_tfidf.fit(x_train['essay'].values)\n",
    "x_train_essay_feat_tfidf = vectorizer_tfidf.transform(x_train['essay'].values)\n",
    "x_test_essay_feat_tfidf = vectorizer_tfidf.transform(x_test['essay'].values)\n",
    "print(x_train_essay_feat_tfidf.shape)\n",
    "tfidf_feat.extend(vectorizer_tfidf.get_feature_names())\n",
    "\n"
   ]
  },
  {
   "cell_type": "code",
   "execution_count": 37,
   "metadata": {
    "id": "vEwVAEarGBzk"
   },
   "outputs": [],
   "source": [
    "X_train_tfidf = hstack((x_train_essay_feat_tfidf,x_train_price_feat,x_train_prev_pos_proj_feat,\n",
    "                x_train_teacher_prefix_feat, x_train_grade_feat, x_train_schl_state_feat, \n",
    "                x_train_catg_feat,x_train_subcatg_feat)).tocsr()\n",
    "\n",
    "X_test_tfidf = hstack((x_test_essay_feat_tfidf,x_test_price_feat,x_test_prev_pos_proj_feat,\n",
    "                x_test_teacher_prefix_feat, x_test_grade_feat, x_test_schl_state_feat, \n",
    "                x_test_catg_feat,x_test_subcatg_feat)).tocsr()\n"
   ]
  },
  {
   "cell_type": "code",
   "execution_count": 38,
   "metadata": {
    "colab": {
     "base_uri": "https://localhost:8080/"
    },
    "id": "K6D0P0ZqGCIX",
    "outputId": "2251ebca-21a5-4c00-9470-37523a421a15"
   },
   "outputs": [
    {
     "name": "stdout",
     "output_type": "stream",
     "text": [
      "Fitting 10 folds for each of 14 candidates, totalling 140 fits\n"
     ]
    },
    {
     "name": "stderr",
     "output_type": "stream",
     "text": [
      "[Parallel(n_jobs=-1)]: Using backend LokyBackend with 2 concurrent workers.\n",
      "[Parallel(n_jobs=-1)]: Done  46 tasks      | elapsed:   36.0s\n",
      "[Parallel(n_jobs=-1)]: Done 140 out of 140 | elapsed:  1.7min finished\n"
     ]
    },
    {
     "data": {
      "text/plain": [
       "GridSearchCV(cv=10, error_score=nan,\n",
       "             estimator=MultinomialNB(alpha=1.0, class_prior=None,\n",
       "                                     fit_prior=True),\n",
       "             iid='deprecated', n_jobs=-1,\n",
       "             param_grid=[{'alpha': [1e-05, 0.0005, 0.0001, 0.005, 0.001, 0.05,\n",
       "                                    0.01, 0.1, 0.5, 1, 5, 10, 50, 100],\n",
       "                          'class_prior': [[0.5, 0.5]]}],\n",
       "             pre_dispatch='2*n_jobs', refit=True, return_train_score=True,\n",
       "             scoring=make_scorer(roc_auc_score), verbose=1)"
      ]
     },
     "execution_count": 38,
     "metadata": {
      "tags": []
     },
     "output_type": "execute_result"
    }
   ],
   "source": [
    "clf_tfidf = GridSearchCV(estimator=MNB,param_grid=params,n_jobs=-1,verbose=1,scoring=auc_,cv=10,return_train_score=True)\n",
    "clf_tfidf.fit(X_train_tfidf,y_train)\n"
   ]
  },
  {
   "cell_type": "code",
   "execution_count": 40,
   "metadata": {
    "colab": {
     "base_uri": "https://localhost:8080/",
     "height": 296
    },
    "id": "lvOEYsy_GCF3",
    "outputId": "33ef8fee-3a22-4cae-f837-5db4ac2443a2"
   },
   "outputs": [
    {
     "data": {
      "image/png": "[encoded data removed]",
      "text/plain": [
       "<Figure size 432x288 with 1 Axes>"
      ]
     },
     "metadata": {
      "needs_background": "light",
      "tags": []
     },
     "output_type": "display_data"
    },
    {
     "data": {
      "text/plain": [
       "0"
      ]
     },
     "execution_count": 40,
     "metadata": {
      "tags": []
     },
     "output_type": "execute_result"
    }
   ],
   "source": [
    "plot_hyper_vs_auc(model=clf_tfidf,alphas=alphas)"
   ]
  },
  {
   "cell_type": "code",
   "execution_count": 41,
   "metadata": {
    "colab": {
     "base_uri": "https://localhost:8080/"
    },
    "id": "6iHhmdz-Nlj6",
    "outputId": "b0333115-64a8-49b6-9fc3-2534e700d805"
   },
   "outputs": [
    {
     "data": {
      "text/plain": [
       "MultinomialNB(alpha=0.0001, class_prior=[0.5, 0.5], fit_prior=True)"
      ]
     },
     "execution_count": 41,
     "metadata": {
      "tags": []
     },
     "output_type": "execute_result"
    }
   ],
   "source": [
    "(clf_tfidf.best_estimator_)"
   ]
  },
  {
   "cell_type": "code",
   "execution_count": 42,
   "metadata": {
    "colab": {
     "base_uri": "https://localhost:8080/"
    },
    "id": "E6v1cCYiGCDH",
    "outputId": "4d611495-4d29-462c-ad43-38bad73ee91e"
   },
   "outputs": [
    {
     "name": "stdout",
     "output_type": "stream",
     "text": [
      "auc_train_tfidf =  0.9999957600246846\n",
      "auc_test_tfidf. =  0.620509839773133\n"
     ]
    }
   ],
   "source": [
    "\n",
    "nb_tfidf = MultinomialNB(alpha=(clf_tfidf.best_estimator_).alpha,class_prior=[0.5,0.5])\n",
    "nb_tfidf.fit(X_train_tfidf,y_train)\n",
    "auc_train_tfidf = roc_auc_score(y_true=y_train,y_score=nb_tfidf.predict_proba(X_train_tfidf)[:,1])\n",
    "auc_test_tfidf  = roc_auc_score(y_true=y_test,y_score=nb_tfidf.predict_proba(X_test_tfidf)[:,1])\n",
    "print('auc_train_tfidf = ',auc_train_tfidf)\n",
    "print('auc_test_tfidf. = ',auc_test_tfidf)\n"
   ]
  },
  {
   "cell_type": "code",
   "execution_count": 43,
   "metadata": {
    "colab": {
     "base_uri": "https://localhost:8080/",
     "height": 544
    },
    "id": "SekLRbXPGCA8",
    "outputId": "bd23aac2-4cef-49eb-bbdd-e5f805ae0a02"
   },
   "outputs": [
    {
     "data": {
      "image/png": "[encoded data removed]",
      "text/plain": [
       "<Figure size 432x288 with 1 Axes>"
      ]
     },
     "metadata": {
      "needs_background": "light",
      "tags": []
     },
     "output_type": "display_data"
    },
    {
     "data": {
      "text/plain": [
       "0"
      ]
     },
     "execution_count": 43,
     "metadata": {
      "tags": []
     },
     "output_type": "execute_result"
    },
    {
     "data": {
      "image/png": "[encoded data removed]",
      "text/plain": [
       "<Figure size 432x288 with 2 Axes>"
      ]
     },
     "metadata": {
      "needs_background": "light",
      "tags": []
     },
     "output_type": "display_data"
    }
   ],
   "source": [
    "plot_roc(model=nb_tfidf,\n",
    "         x_train=X_train_tfidf,\n",
    "         x_test=X_test_tfidf,\n",
    "         y_train=y_train,\n",
    "         y_test=y_test)"
   ]
  },
  {
   "cell_type": "code",
   "execution_count": 44,
   "metadata": {
    "colab": {
     "base_uri": "https://localhost:8080/"
    },
    "id": "200NdIV7GB8j",
    "outputId": "d88d05e2-538e-450f-87d9-24c203dcc38b"
   },
   "outputs": [
    {
     "name": "stdout",
     "output_type": "stream",
     "text": [
      "imp_feat_0 ['creativity learning make', 'focus sitting focused', 'focus sitting groups', 'focus sitting hard', 'focus sitting long', 'focus sitting rocking', 'focus sitting stools', 'focus sitting teacher', 'focus sitting working', 'focus situations', 'focus situations school', 'focus sitting desks', 'focus skill', 'focus skill set', 'focus skills disciplines', 'focus skills experiment', 'focus skills harder', 'focus skills help', 'focus skills need', 'focus skills older'] \n",
      "\n",
      "imp_feat_1 ['create mini movie', 'completely uncomfortable school', 'completely understand room', 'completely unmotivated work', 'completeness', 'completers state', 'completes project printed', 'completes requirements', 'completes school family', 'completes teaching', 'flags easily', 'flags desire', 'completes teaching new', 'completes tests', 'completes tests assignments', 'completely transform space', 'completes various projects', 'completes word', 'completing 20', 'completing 20 word'] \n",
      "\n"
     ]
    },
    {
     "data": {
      "text/plain": [
       "0"
      ]
     },
     "execution_count": 44,
     "metadata": {
      "tags": []
     },
     "output_type": "execute_result"
    }
   ],
   "source": [
    "all_features = tfidf_feat + rem_feat\n",
    "top_feat = 20\n",
    "get_top_feat(model=nb_tfidf,all_features=all_features,top_feat=top_feat)"
   ]
  },
  {
   "cell_type": "markdown",
   "metadata": {
    "id": "lS9hIHdib3dp"
   },
   "source": [
    "# 2.Summary\n",
    "<br> as mentioned in the step 5 of instructions"
   ]
  },
  {
   "cell_type": "code",
   "execution_count": 45,
   "metadata": {
    "colab": {
     "base_uri": "https://localhost:8080/"
    },
    "id": "7KW6eiDapUtS",
    "outputId": "c734fc48-7609-4016-8e8e-07fe4811bf27"
   },
   "outputs": [
    {
     "name": "stdout",
     "output_type": "stream",
     "text": [
      "+------------+---------------+-----------------+--------------------+\n",
      "| Vectorizer |     Model     | Hyper parameter |        AUC         |\n",
      "+------------+---------------+-----------------+--------------------+\n",
      "|    BOW     | MultinomialNB |      0.0005     | 0.6883021025740808 |\n",
      "|   TFIDF    | MultinomialNB |      0.0001     | 0.620509839773133  |\n",
      "+------------+---------------+-----------------+--------------------+\n"
     ]
    }
   ],
   "source": [
    "#https://stackoverflow.com/questions/9535954/printing-lists-as-tabular-data\n",
    "from prettytable import PrettyTable\n",
    "t = PrettyTable(['Vectorizer', 'Model' , 'Hyper parameter' , 'AUC'])\n",
    "#print(clf.best_estimator_,'\\n',auc_test)\n",
    "t.add_row(['BOW', 'MultinomialNB',(clf_bow.best_estimator_).alpha,auc_test_bow])\n",
    "t.add_row(['TFIDF', 'MultinomialNB',(clf_tfidf.best_estimator_).alpha,auc_test_tfidf])\n",
    "print(t)"
   ]
  },
  {
   "cell_type": "code",
   "execution_count": 35,
   "metadata": {
    "id": "WIkkPRf6FMIe"
   },
   "outputs": [],
   "source": []
  },
  {
   "cell_type": "code",
   "execution_count": 35,
   "metadata": {
    "id": "3KuMzB0eFMRQ"
   },
   "outputs": [],
   "source": []
  }
 ],
 "metadata": {
  "colab": {
   "collapsed_sections": [],
   "name": "Assignment_NB_Instructions.ipynb",
   "provenance": []
  },
  "kernelspec": {
   "display_name": "Python 3",
   "language": "python",
   "name": "python3"
  },
  "language_info": {
   "codemirror_mode": {
    "name": "ipython",
    "version": 3
   },
   "file_extension": ".py",
   "mimetype": "text/x-python",
   "name": "python",
   "nbconvert_exporter": "python",
   "pygments_lexer": "ipython3",
   "version": "3.7.3"
  },
  "varInspector": {
   "cols": {
    "lenName": 16,
    "lenType": 16,
    "lenVar": 40
   },
   "kernels_config": {
    "python": {
     "delete_cmd_postfix": "",
     "delete_cmd_prefix": "del ",
     "library": "var_list.py",
     "varRefreshCmd": "print(var_dic_list())"
    },
    "r": {
     "delete_cmd_postfix": ") ",
     "delete_cmd_prefix": "rm(",
     "library": "var_list.r",
     "varRefreshCmd": "cat(var_dic_list()) "
    }
   },
   "types_to_exclude": [
    "module",
    "function",
    "builtin_function_or_method",
    "instance",
    "_Feature"
   ],
   "window_display": false
  }
 },
 "nbformat": 4,
 "nbformat_minor": 1
}
