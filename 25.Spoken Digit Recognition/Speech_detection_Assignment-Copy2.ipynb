{
 "cells": [
  {
   "cell_type": "markdown",
   "metadata": {
    "id": "ZwoTWIysaNmc"
   },
   "source": [
    "# <font color='red'> Spoken Digit Recognition</font>"
   ]
  },
  {
   "cell_type": "markdown",
   "metadata": {
    "id": "rPO3mjDDaNmf"
   },
   "source": [
    "\n",
    "In this notebook, You will do Spoken Digit Recognition. \n",
    "\n",
    "Input - speech signal, output - digit number\n",
    "\n",
    "\n",
    "\n",
    "It contains  \n",
    "\n",
    "1. Reading the dataset. and Preprocess the data set. Detailed instrctions are given below. You have to write the code in the same cell which contains the instrction. \n",
    "2. Training the LSTM with RAW data\n",
    "3. Converting to spectrogram and Training the LSTM network\n",
    "4. Creating the augmented data and doing step 2 and 3 again.  \n",
    "\n",
    "<font size=5>Instructions:</font>\n",
    "\n",
    "    1. Don't change any Grader Functions. Don't manipulate any Grader functions. If you manipulate any, it will be considered as plagiarised. \n",
    "    \n",
    "    2. Please read the instructions on the code cells and markdown cells. We will explain what to write. \n",
    "    \n",
    "    3. Please return outputs in the same format what we asked. Eg. Don't return List of we are asking for a numpy array.\n",
    "    \n",
    "    4. Please read the external links that we are given so that you will learn the concept behind the code that you are writing.\n",
    "    \n",
    "    5. We are giving instructions at each section if necessary, please follow them. \n",
    "\n",
    "<font size=5>Every Grader function has to return True. </font>\n",
    "\n"
   ]
  },
  {
   "cell_type": "code",
   "execution_count": null,
   "metadata": {},
   "outputs": [],
   "source": []
  },
  {
   "cell_type": "code",
   "execution_count": 1,
   "metadata": {
    "id": "_qGuPcj-aNmh"
   },
   "outputs": [],
   "source": [
    "import numpy as np\n",
    "import pandas as pd\n",
    "import librosa\n",
    "import os\n",
    "from sklearn.utils import shuffle\n",
    "from sklearn.model_selection import train_test_split\n",
    "from tqdm.auto import tqdm\n",
    "import matplotlib.pyplot as plt\n",
    "from tensorflow.keras.layers import Input, LSTM, Dense\n",
    "from tensorflow.keras.models import Model\n",
    "import tensorflow as tf\n",
    "from keras.callbacks import Callback,ModelCheckpoint\n",
    "from sklearn.metrics import f1_score\n",
    "import datetime\n",
    "import tensorflow_addons as tfa\n",
    "import warnings\n",
    "warnings.filterwarnings(\"ignore\")\n",
    "##if you need any imports you can do that here. "
   ]
  },
  {
   "cell_type": "markdown",
   "metadata": {
    "id": "PdhFzGK1aNmo"
   },
   "source": [
    "We shared recordings.zip, please unzip those. "
   ]
  },
  {
   "cell_type": "code",
   "execution_count": 2,
   "metadata": {
    "id": "HDBcl_PUaNmp"
   },
   "outputs": [],
   "source": [
    "#read the all file names in the recordings folder given by us\n",
    "#(if you get entire path, it is very useful in future)\n",
    "#save those files names as list in \"all_files\"\n",
    "path = '/Users/srujan/Downloads/spoken_digit/recordings'\n",
    "all_files = [path+'/'+f for f in os.listdir(path) if f.endswith(\".wav\")]"
   ]
  },
  {
   "cell_type": "markdown",
   "metadata": {
    "id": "8NYYpfqoaNmv"
   },
   "source": [
    "<font size=4>Grader function 1 </font>"
   ]
  },
  {
   "cell_type": "code",
   "execution_count": 3,
   "metadata": {
    "id": "2oJSOmYBaNmx",
    "outputId": "d4509e7d-1cb6-4e7f-e469-ef40314a8510"
   },
   "outputs": [
    {
     "data": {
      "text/plain": [
       "True"
      ]
     },
     "execution_count": 3,
     "metadata": {},
     "output_type": "execute_result"
    }
   ],
   "source": [
    "def grader_files():\n",
    "    temp = len(all_files)==2000\n",
    "    temp1 = all([x[-3:]==\"wav\" for x in all_files])\n",
    "    temp = temp and temp1\n",
    "    return temp\n",
    "grader_files()"
   ]
  },
  {
   "cell_type": "markdown",
   "metadata": {
    "id": "MhvSIN6raNm3"
   },
   "source": [
    "Create a dataframe(name=df_audio) with two columns(path, label).   \n",
    "You can get the label from the first letter of name.  \n",
    "Eg: 0_jackson_0 --> 0  \n",
    "0_jackson_43 --> 0"
   ]
  },
  {
   "cell_type": "markdown",
   "metadata": {
    "id": "LZbhCvvRPPMw"
   },
   "source": [
    "## Exploring the sound dataset"
   ]
  },
  {
   "cell_type": "code",
   "execution_count": null,
   "metadata": {
    "id": "ilJsqdhhPMed"
   },
   "outputs": [],
   "source": [
    "#It is a good programming practise to explore the dataset that you are dealing with. This dataset is unique in itself because it has sounds as input\n",
    "#https://colab.research.google.com/github/Tyler-Hilbert/AudioProcessingInPythonWorkshop/blob/master/AudioProcessingInPython.ipynb\n",
    "#visualize the data and write code to play 2-3 sound samples in the notebook for better understanding.\n",
    "#please go through the following reference video https://www.youtube.com/watch?v=37zCgCdV468"
   ]
  },
  {
   "cell_type": "markdown",
   "metadata": {
    "id": "AA0nAtjbQLmu"
   },
   "source": [
    "## Creating dataframe"
   ]
  },
  {
   "cell_type": "code",
   "execution_count": 4,
   "metadata": {
    "id": "fWP6vXBeaNm3"
   },
   "outputs": [],
   "source": [
    "#Create a dataframe(name=df_audio) with two columns(path, label).   \n",
    "#You can get the label from the first letter of name.  \n",
    "#Eg: 0_jackson_0 --> 0  \n",
    "#0_jackson_43 --> 0\n",
    "\n",
    "df_audio = pd.DataFrame(all_files,columns=['path'])\n",
    "df_audio['label'] = 'a'\n",
    "for i in range(df_audio.shape[0]):\n",
    "    label = int(df_audio['path'].iloc[i].split('/')[-1][0])\n",
    "    #print(label)\n",
    "    df_audio['label'].iloc[i] = label\n",
    "    "
   ]
  },
  {
   "cell_type": "code",
   "execution_count": 5,
   "metadata": {},
   "outputs": [
    {
     "name": "stdout",
     "output_type": "stream",
     "text": [
      "<class 'pandas.core.frame.DataFrame'>\n",
      "RangeIndex: 2000 entries, 0 to 1999\n",
      "Data columns (total 2 columns):\n",
      " #   Column  Non-Null Count  Dtype \n",
      "---  ------  --------------  ----- \n",
      " 0   path    2000 non-null   object\n",
      " 1   label   2000 non-null   object\n",
      "dtypes: object(2)\n",
      "memory usage: 31.4+ KB\n"
     ]
    }
   ],
   "source": [
    "df_audio.info()"
   ]
  },
  {
   "cell_type": "markdown",
   "metadata": {
    "id": "VOKpYJ_LaNnD"
   },
   "source": [
    "<font size=4>Grader function 2 </font>"
   ]
  },
  {
   "cell_type": "code",
   "execution_count": 6,
   "metadata": {
    "id": "7Q8r_T8-aNnE",
    "outputId": "849e3f3e-e77c-492c-ba29-77508e74fc57"
   },
   "outputs": [
    {
     "data": {
      "text/plain": [
       "True"
      ]
     },
     "execution_count": 6,
     "metadata": {},
     "output_type": "execute_result"
    }
   ],
   "source": [
    "def grader_df():\n",
    "    flag_shape = df_audio.shape==(2000,2)\n",
    "    flag_columns = all(df_audio.columns==['path', 'label'])\n",
    "    list_values = list(df_audio.label.value_counts())\n",
    "    flag_label = len(list_values)==10\n",
    "    flag_label2 = all([i==200 for i in list_values])\n",
    "    final_flag = flag_shape and flag_columns and flag_label and flag_label2\n",
    "    return final_flag\n",
    "grader_df()"
   ]
  },
  {
   "cell_type": "code",
   "execution_count": 7,
   "metadata": {
    "id": "PlfssCc3aNnL"
   },
   "outputs": [],
   "source": [
    "df_audio = shuffle(df_audio, random_state=33)#don't change the random state"
   ]
  },
  {
   "cell_type": "markdown",
   "metadata": {
    "id": "PZ448aENaNnR"
   },
   "source": [
    "<pre><font size=4>Train and Validation split</font></pre>"
   ]
  },
  {
   "cell_type": "code",
   "execution_count": 9,
   "metadata": {
    "id": "vSPy-Ln6aNnS"
   },
   "outputs": [],
   "source": [
    "#split the data into train and validation and save in X_train, X_test, y_train, y_test\n",
    "#use stratify sampling\n",
    "#use random state of 45\n",
    "#use test size of 30%\n",
    "\n",
    "from sklearn.model_selection import train_test_split\n",
    "X_train, X_test, y_train, y_test = train_test_split(df_audio.path, df_audio.label,\n",
    "                                                    stratify=df_audio.label, \n",
    "                                                    test_size=0.3)"
   ]
  },
  {
   "cell_type": "markdown",
   "metadata": {
    "id": "YPK3sbzUaNnW"
   },
   "source": [
    "<font size=4>Grader function 3 </font>"
   ]
  },
  {
   "cell_type": "code",
   "execution_count": 10,
   "metadata": {
    "id": "chZzntKUaNnX",
    "outputId": "e2949c8b-2f00-434f-8403-56b577faf04f"
   },
   "outputs": [
    {
     "data": {
      "text/plain": [
       "True"
      ]
     },
     "execution_count": 10,
     "metadata": {},
     "output_type": "execute_result"
    }
   ],
   "source": [
    "def grader_split():\n",
    "    flag_len = (len(X_train)==1400) and (len(X_test)==600) and (len(y_train)==1400) and (len(y_test)==600)\n",
    "    values_ytrain = list(y_train.value_counts())\n",
    "    flag_ytrain = (len(values_ytrain)==10) and (all([i==140 for i in values_ytrain]))\n",
    "    values_ytest = list(y_test.value_counts())\n",
    "    flag_ytest = (len(values_ytest)==10) and (all([i==60 for i in values_ytest]))\n",
    "    final_flag = flag_len and flag_ytrain and flag_ytest\n",
    "    return final_flag\n",
    "grader_split()"
   ]
  },
  {
   "cell_type": "markdown",
   "metadata": {
    "id": "LGhh-39vaNnb"
   },
   "source": [
    "<pre><font size=4>Preprocessing</font>\n",
    "\n",
    "All files are in the \"WAV\" format. We will read those raw data files using the librosa</pre>"
   ]
  },
  {
   "cell_type": "code",
   "execution_count": 11,
   "metadata": {
    "id": "i99JacQSaNnc"
   },
   "outputs": [],
   "source": [
    "sample_rate = 22050\n",
    "def load_wav(x, get_duration=True):\n",
    "    '''This return the array values of audio with sampling rate of 22050 and Duration'''\n",
    "    #loading the wav file with sampling rate of 22050\n",
    "    samples, sample_rate = librosa.load(x, sr=22050)\n",
    "    if get_duration:\n",
    "        duration = librosa.get_duration(y=samples, sr=sample_rate)\n",
    "        return [samples, duration]\n",
    "    else:\n",
    "        return samples"
   ]
  },
  {
   "cell_type": "code",
   "execution_count": 12,
   "metadata": {
    "id": "Rx97f8GGaNnh"
   },
   "outputs": [
    {
     "data": {
      "application/vnd.jupyter.widget-view+json": {
       "model_id": "0dd5b1ed7af7456d8ea22dc3e0421e5b",
       "version_major": 2,
       "version_minor": 0
      },
      "text/plain": [
       "  0%|          | 0/1400 [00:00<?, ?it/s]"
      ]
     },
     "metadata": {},
     "output_type": "display_data"
    },
    {
     "data": {
      "application/vnd.jupyter.widget-view+json": {
       "model_id": "baaea31859b24d09aaa170f5c8c848c0",
       "version_major": 2,
       "version_minor": 0
      },
      "text/plain": [
       "  0%|          | 0/600 [00:00<?, ?it/s]"
      ]
     },
     "metadata": {},
     "output_type": "display_data"
    }
   ],
   "source": [
    "#use load_wav function that was written above to get every wave. \n",
    "#save it in X_train_processed and X_test_processed\n",
    "# X_train_processed/X_test_processed should be dataframes with two columns(raw_data, duration) with same index of X_train/y_train\n",
    "\n",
    "X_train_processed = pd.DataFrame(columns=['raw_data','duration'],index=X_train.index)\n",
    "for i in tqdm(X_train.index):\n",
    "    res = load_wav(X_train[i])\n",
    "    X_train_processed['raw_data'][i] = res[0]\n",
    "    X_train_processed['duration'][i] = res[1]\n",
    "    \n",
    "X_test_processed = pd.DataFrame(columns=['raw_data','duration'],index=X_test.index)\n",
    "for i in tqdm(X_test.index):\n",
    "    res = load_wav(X_test[i])\n",
    "    X_test_processed['raw_data'][i] = res[0]\n",
    "    X_test_processed['duration'][i] = res[1]"
   ]
  },
  {
   "cell_type": "code",
   "execution_count": 13,
   "metadata": {},
   "outputs": [
    {
     "data": {
      "text/plain": [
       "(array([503., 755., 122.,  18.,   1.,   0.,   0.,   0.,   0.,   1.]),\n",
       " array([0.1435374149659864, 0.3487755102040817, 0.5540136054421769,\n",
       "        0.7592517006802723, 0.9644897959183675, 1.1697278911564628,\n",
       "        1.3749659863945582, 1.5802040816326535, 1.7854421768707487,\n",
       "        1.990680272108844, 2.195918367346939], dtype=object),\n",
       " <BarContainer object of 10 artists>)"
      ]
     },
     "execution_count": 13,
     "metadata": {},
     "output_type": "execute_result"
    },
    {
     "data": {
      "image/png": "[encoded data removed]",
      "text/plain": [
       "<Figure size 432x288 with 1 Axes>"
      ]
     },
     "metadata": {
      "needs_background": "light"
     },
     "output_type": "display_data"
    }
   ],
   "source": [
    "plt.hist(X_train_processed['duration'])"
   ]
  },
  {
   "cell_type": "code",
   "execution_count": 14,
   "metadata": {},
   "outputs": [
    {
     "data": {
      "text/plain": [
       "(array([274., 278.,  40.,   6.,   1.,   0.,   0.,   0.,   0.,   1.]),\n",
       " array([0.15741496598639457, 0.3699501133786848, 0.5824852607709751,\n",
       "        0.7950204081632652, 1.0075555555555555, 1.2200907029478458,\n",
       "        1.432625850340136, 1.6451609977324262, 1.8576961451247165,\n",
       "        2.0702312925170068, 2.282766439909297], dtype=object),\n",
       " <BarContainer object of 10 artists>)"
      ]
     },
     "execution_count": 14,
     "metadata": {},
     "output_type": "execute_result"
    },
    {
     "data": {
      "image/png": "[encoded data removed]",
      "text/plain": [
       "<Figure size 432x288 with 1 Axes>"
      ]
     },
     "metadata": {
      "needs_background": "light"
     },
     "output_type": "display_data"
    }
   ],
   "source": [
    "plt.hist(X_test_processed['duration'])"
   ]
  },
  {
   "cell_type": "code",
   "execution_count": 15,
   "metadata": {},
   "outputs": [
    {
     "name": "stdout",
     "output_type": "stream",
     "text": [
      "0 th Percentile is  0.1435374149659864\n",
      "10 th Percentile is  0.2608934240362812\n",
      "20 th Percentile is  0.3000634920634921\n",
      "30 th Percentile is  0.33322902494331064\n",
      "40 th Percentile is  0.359718820861678\n",
      "50 th Percentile is  0.3915873015873016\n",
      "60 th Percentile is  0.418249433106576\n",
      "70 th Percentile is  0.446625850340136\n",
      "80 th Percentile is  0.4838639455782313\n",
      "90 th Percentile is  0.555297052154195\n",
      "100 th Percentile is  2.195918367346939\n"
     ]
    }
   ],
   "source": [
    "for i in range(0,110,10):\n",
    "    print(i,'th Percentile is ', np.percentile(X_train_processed['duration'],i))"
   ]
  },
  {
   "cell_type": "code",
   "execution_count": 16,
   "metadata": {},
   "outputs": [
    {
     "name": "stdout",
     "output_type": "stream",
     "text": [
      "90 th Percentile is  0.555297052154195\n",
      "91 th Percentile is  0.5679238095238096\n",
      "92 th Percentile is  0.5812916099773243\n",
      "93 th Percentile is  0.5978285714285715\n",
      "94 th Percentile is  0.6133696145124716\n",
      "95 th Percentile is  0.6253424036281179\n",
      "96 th Percentile is  0.6424290249433107\n",
      "97 th Percentile is  0.6647768707482993\n",
      "98 th Percentile is  0.6957514739229022\n",
      "99 th Percentile is  0.7906811791383219\n",
      "100 th Percentile is  2.195918367346939\n"
     ]
    }
   ],
   "source": [
    "for i in range(90,101,1):\n",
    "    print(i,'th Percentile is ', np.percentile(X_train_processed['duration'],i))"
   ]
  },
  {
   "cell_type": "markdown",
   "metadata": {
    "id": "JbMb4Y0RaNoA"
   },
   "source": [
    "<font size=4>Grader function 4 </font>"
   ]
  },
  {
   "cell_type": "code",
   "execution_count": 17,
   "metadata": {
    "id": "UMoyLLSAaNoF",
    "outputId": "cfb3ad33-3dc0-49e7-d078-8619b164b5db"
   },
   "outputs": [
    {
     "data": {
      "text/plain": [
       "True"
      ]
     },
     "execution_count": 17,
     "metadata": {},
     "output_type": "execute_result"
    }
   ],
   "source": [
    "def grader_processed():\n",
    "    flag_columns = (all(X_train_processed.columns==['raw_data', 'duration'])) and (all(X_test_processed.columns==['raw_data', 'duration']))\n",
    "    flag_shape = (X_train_processed.shape ==(1400, 2)) and (X_test_processed.shape==(600,2))\n",
    "    return flag_columns and flag_shape\n",
    "grader_processed()"
   ]
  },
  {
   "cell_type": "markdown",
   "metadata": {
    "id": "Cux3_jfcaNoM"
   },
   "source": [
    "<b>Based on our analysis 99 percentile values are less than 0.8sec so we will limit maximum length of X_train_processed and X_test_processed to 0.8 sec. It is similar to pad_sequence for a text dataset.</b>\n",
    "\n",
    "<b>While loading the audio files, we are using sampling rate of 22050 so one sec will give array of length 22050. so, our maximum length is 0.8*22050 = 17640\n",
    "</b>\n",
    "<b>Pad with Zero if length of sequence is less than 17640 else Truncate the number. </b>\n",
    "\n",
    "<b> Also create a masking vector for train and test. </b>\n",
    "\n",
    "<b> masking vector value = 1 if it is real value, 0 if it is pad value. Masking vector data type must be bool.</b>\n"
   ]
  },
  {
   "cell_type": "code",
   "execution_count": 18,
   "metadata": {
    "id": "B1-_r20BaNoW"
   },
   "outputs": [
    {
     "data": {
      "application/vnd.jupyter.widget-view+json": {
       "model_id": "bb872bbca0924ac98a99c5ea95e7f765",
       "version_major": 2,
       "version_minor": 0
      },
      "text/plain": [
       "  0%|          | 0/1400 [00:00<?, ?it/s]"
      ]
     },
     "metadata": {},
     "output_type": "display_data"
    },
    {
     "data": {
      "application/vnd.jupyter.widget-view+json": {
       "model_id": "4c53d31e80254699bc25f1ada09f9ec0",
       "version_major": 2,
       "version_minor": 0
      },
      "text/plain": [
       "  0%|          | 0/600 [00:00<?, ?it/s]"
      ]
     },
     "metadata": {},
     "output_type": "display_data"
    }
   ],
   "source": [
    "## as discussed above, Pad with Zero if length of sequence is less than 17640 else Truncate the number. \n",
    "## save in the X_train_pad_seq, X_test_pad_seq\n",
    "## also Create masking vector X_train_mask, X_test_mask\n",
    "\n",
    "## all the X_train_pad_seq, X_test_pad_seq, X_train_mask, X_test_mask will be numpy arrays mask vector dtype must be bool.\n",
    "\n",
    "\n",
    "def fun(X_train_pad_seq,X_train_processed,X_train_mask):\n",
    "    for ind,val in enumerate(tqdm(X_train_processed.index)):\n",
    "        q = X_train_processed['raw_data'][val]\n",
    "        if q.shape[0] < max_length:\n",
    "            #q = np.array(X_train_processed['raw_data'][val])\n",
    "            X_train_pad_seq[ind] = np.pad(q,(0,(max_length-q.shape[0])),'constant')\n",
    "            X_train_mask[ind][:q.shape[0]] = 1\n",
    "        elif q.shape[0] >= max_length:\n",
    "            #print(ind,val)\n",
    "            #q = np.array(X_train_processed['raw_data'][val])\n",
    "            X_train_pad_seq[ind] = q[:max_length]\n",
    "            X_train_mask[ind][:q.shape[0]] = 1\n",
    "    return X_train_pad_seq,X_train_mask\n",
    "        \n",
    "max_length  = 17640\n",
    "X_train_pad_seq = np.zeros(shape=(X_train_processed.shape[0],max_length))\n",
    "X_train_mask = np.zeros(shape=(X_train_processed.shape[0],max_length),dtype='bool')\n",
    "X_train_pad_seq1,X_train_mask1 = fun(X_train_pad_seq,X_train_processed,X_train_mask)\n",
    "\n",
    "X_test_pad_seq = np.zeros(shape=(X_test_processed.shape[0],max_length))\n",
    "X_test_mask = np.zeros(shape=(X_test_processed.shape[0],max_length),dtype='bool')\n",
    "X_test_pad_seq1,X_test_mask1 = fun(X_test_pad_seq,X_test_processed,X_test_mask)\n"
   ]
  },
  {
   "cell_type": "markdown",
   "metadata": {
    "id": "zEHMgm4DaNoe"
   },
   "source": [
    "<font size=4>Grader function 5 </font>"
   ]
  },
  {
   "cell_type": "code",
   "execution_count": 19,
   "metadata": {
    "id": "Th3KhplGaNof",
    "outputId": "5e783ec9-81d2-4156-9e88-efdee0ff8b2b"
   },
   "outputs": [
    {
     "data": {
      "text/plain": [
       "True"
      ]
     },
     "execution_count": 19,
     "metadata": {},
     "output_type": "execute_result"
    }
   ],
   "source": [
    "def grader_padoutput():\n",
    "    flag_padshape = (X_train_pad_seq.shape==(1400, 17640)) and (X_test_pad_seq.shape==(600, 17640)) and (y_train.shape==(1400,))\n",
    "    flag_maskshape = (X_train_mask.shape==(1400, 17640)) and (X_test_mask.shape==(600, 17640)) and (y_test.shape==(600,))\n",
    "    flag_dtype = (X_train_mask.dtype==bool) and (X_test_mask.dtype==bool)\n",
    "    return flag_padshape and flag_maskshape and flag_dtype\n",
    "grader_padoutput()"
   ]
  },
  {
   "cell_type": "markdown",
   "metadata": {
    "id": "K0kaYQ1jaNop"
   },
   "source": [
    "### 1. Giving Raw data directly. "
   ]
  },
  {
   "cell_type": "markdown",
   "metadata": {
    "id": "xGHxh3jTaNoq"
   },
   "source": [
    "\n",
    "Now we have\n",
    "\n",
    "Train data: X_train_pad_seq, X_train_mask and y_train  \n",
    "Test data: X_test_pad_seq, X_test_mask and y_test   \n",
    "\n",
    "We will create a LSTM model which takes this input. \n",
    "\n",
    "Task:\n",
    "\n",
    "1. Create an LSTM network which takes \"X_train_pad_seq\" as input, \"X_train_mask\" as mask input. You can use any number of LSTM cells. Please read LSTM documentation(https://www.tensorflow.org/api_docs/python/tf/keras/layers/LSTM) in tensorflow to know more about mask and also https://www.tensorflow.org/guide/keras/masking_and_padding \n",
    "2. Get the final output of the LSTM and give it to Dense layer of any size and then give it to Dense layer of size 10(because we have 10 outputs) and then compile with the sparse categorical cross entropy( because we are not converting it to one hot vectors). Also check the datatype of class labels(y_values) and make sure that you convert your class labels  to integer datatype before fitting in the model.\n",
    "3. While defining your model make sure that you pass both the input layer and mask input layer as input to lstm layer as follows\n",
    "<img src='https://i.imgur.com/FvcgvbY.jpg'>\n",
    "4. Use tensorboard to plot the graphs of loss and metric(use custom micro F1 score as metric) and histograms of gradients. You can write your code for computing F1 score using this <a  href='https://i.imgur.com/8YULUcu.jpg'>link</a> \n",
    "\n",
    "5. make sure that it won't overfit. \n",
    "6. You are free to include any regularization\n"
   ]
  },
  {
   "cell_type": "code",
   "execution_count": 20,
   "metadata": {
    "id": "d8y1sgeVaNoy"
   },
   "outputs": [],
   "source": [
    "## as discussed above, please write the architecture of the model.\n",
    "## you will have two input layers in your model (data input layer and mask input layer)\n",
    "## make sure that you have defined the data type of masking layer as bool\n",
    "\n",
    "\n",
    "X_train_pad_seq1 = np.expand_dims(X_train_pad_seq1,-1)\n",
    "X_test_pad_seq1 = np.expand_dims(X_test_pad_seq1,-1)\n",
    "\n",
    "y_train1 = y_train.values.astype('int')\n",
    "y_test1 = y_test.values.astype('int')\n",
    "\n",
    "\n"
   ]
  },
  {
   "cell_type": "code",
   "execution_count": 21,
   "metadata": {},
   "outputs": [],
   "source": [
    "class Metrics(tf.keras.callbacks.Callback):\n",
    "    def __init__(self,validation_data):\n",
    "        super().__init__()\n",
    "        self.x_test=validation_data[0]\n",
    "        self.y_test=validation_data[1]\n",
    "        \n",
    "    def on_epoch_end(self,epoch,logs={}):\n",
    "        val_predict = np.asarray(self.model.predict(self.x_test))\n",
    "        val_label = np.argmax(val_predict,axis=1)\n",
    "        val_target = self.y_test\n",
    "        val_f1 = f1_score(val_target,val_label,average='micro')\n",
    "        print(\"val_f1_score\", val_f1)\n",
    "        "
   ]
  },
  {
   "cell_type": "code",
   "execution_count": 22,
   "metadata": {},
   "outputs": [],
   "source": [
    "# Load the TensorBoard notebook extension\n",
    "%load_ext tensorboard"
   ]
  },
  {
   "cell_type": "code",
   "execution_count": null,
   "metadata": {},
   "outputs": [],
   "source": [
    "# pip install tensorflow-addons"
   ]
  },
  {
   "cell_type": "code",
   "execution_count": 24,
   "metadata": {
    "id": "MzpPjxvHaNpJ"
   },
   "outputs": [
    {
     "name": "stdout",
     "output_type": "stream",
     "text": [
      "Epoch 1/2\n",
      "44/44 [==============================] - ETA: 0s - loss: 2.3036 WARNING:tensorflow:Early stopping conditioned on metric `val_loss` which is not available. Available metrics are: loss\n",
      "val_f1_score 0.10000000000000002\n",
      "44/44 [==============================] - 572s 13s/step - loss: 2.3036\n",
      "Epoch 2/2\n",
      "44/44 [==============================] - ETA: 0s - loss: 2.3030 WARNING:tensorflow:Early stopping conditioned on metric `val_loss` which is not available. Available metrics are: loss\n",
      "val_f1_score 0.10000000000000002\n",
      "44/44 [==============================] - 576s 13s/step - loss: 2.3030\n"
     ]
    }
   ],
   "source": [
    "#train your model\n",
    "#model1.fit([X_train_pad_seq,X_train_mask],y_train_int,.........)\n",
    "\n",
    "def train_model(max_length,):\n",
    "    #model = create_model()\n",
    "    data_input_layer = Input(shape = (max_length,1))\n",
    "    mask_input_layer = Input(shape = (max_length),dtype='bool')\n",
    "    x = LSTM(25)(inputs = data_input_layer,mask = mask_input_layer)\n",
    "    x = Dense(50,activation='relu',kernel_initializer = 'he_normal')(x)\n",
    "    output = Dense(10,activation='softmax',kernel_initializer = 'glorot_normal')(x)\n",
    "    model = Model(inputs = [data_input_layer, mask_input_layer], outputs = output)\n",
    "\n",
    "    model.compile(optimizer='Adam',\n",
    "                loss='sparse_categorical_crossentropy') \n",
    "    logdir = os.path.join(\"logs\", datetime.datetime.now().strftime(\"%Y%m%d-%H%M%S\"))\n",
    "    tensorboard_callback = tf.keras.callbacks.TensorBoard(logdir, histogram_freq=1)\n",
    "    es = tf.keras.callbacks.EarlyStopping(monitor = 'val_loss', min_delta = 0.1, patience = 1)\n",
    "\n",
    "    model.fit(x=[X_train_pad_seq1,X_train_mask1], \n",
    "            y=y_train1, \n",
    "            epochs=2,batch_size = 32,\n",
    "            callbacks=[tensorboard_callback,es,Metrics(validation_data=([X_test_pad_seq1,X_test_mask1], y_test1))])\n",
    "\n",
    "train_model(max_length=max_length)"
   ]
  },
  {
   "cell_type": "code",
   "execution_count": 56,
   "metadata": {},
   "outputs": [
    {
     "data": {
      "text/html": [
       "\n",
       "      <iframe id=\"tensorboard-frame-7708eac75b655d23\" width=\"100%\" height=\"800\" frameborder=\"0\">\n",
       "      </iframe>\n",
       "      <script>\n",
       "        (function() {\n",
       "          const frame = document.getElementById(\"tensorboard-frame-7708eac75b655d23\");\n",
       "          const url = new URL(\"/\", window.location);\n",
       "          const port = 6009;\n",
       "          if (port) {\n",
       "            url.port = port;\n",
       "          }\n",
       "          frame.src = url;\n",
       "        })();\n",
       "      </script>\n",
       "    "
      ],
      "text/plain": [
       "<IPython.core.display.HTML object>"
      ]
     },
     "metadata": {},
     "output_type": "display_data"
    }
   ],
   "source": [
    "%tensorboard --logdir /Users/srujan/Downloads/spoken_digit/logs/20220809-013151/train"
   ]
  },
  {
   "cell_type": "markdown",
   "metadata": {
    "id": "2Fwk0X4zaNpR"
   },
   "source": [
    "### 2. Converting into spectrogram and giving spectrogram data as input  \n",
    "\n",
    "We can use librosa to convert raw data into spectrogram. A spectrogram shows the features in a two-dimensional representation with the\n",
    "intensity of a frequency at a point in time i.e we are converting Time domain to frequency domain. you can read more about this in https://pnsn.org/spectrograms/what-is-a-spectrogram\n"
   ]
  },
  {
   "cell_type": "code",
   "execution_count": 25,
   "metadata": {
    "id": "nb5AGzTjaNpS"
   },
   "outputs": [],
   "source": [
    "def convert_to_spectrogram(raw_data):\n",
    "    '''converting to spectrogram'''\n",
    "    spectrum = librosa.feature.melspectrogram(y=raw_data, sr=sample_rate, n_mels=64)\n",
    "    logmel_spectrum = librosa.power_to_db(S=spectrum, ref=np.max)\n",
    "    return logmel_spectrum"
   ]
  },
  {
   "cell_type": "code",
   "execution_count": 26,
   "metadata": {
    "id": "B__rN4RjaNpc"
   },
   "outputs": [],
   "source": [
    "##use convert_to_spectrogram and convert every raw sequence in X_train_pad_seq and X_test_pad-seq.\n",
    "## save those all in the X_train_spectrogram and X_test_spectrogram ( These two arrays must be numpy arrays)\n",
    "X_train_spectrogram = convert_to_spectrogram(X_train_pad_seq.reshape(1400,17640))\n",
    "X_test_spectrogram  = convert_to_spectrogram(X_test_pad_seq.reshape(600,17640))"
   ]
  },
  {
   "cell_type": "markdown",
   "metadata": {
    "id": "zr1ynYZnaNpj"
   },
   "source": [
    "<font size=4>Grader function 6 </font>"
   ]
  },
  {
   "cell_type": "code",
   "execution_count": 27,
   "metadata": {
    "id": "oniXBXcsaNpk",
    "outputId": "0f94ec35-98af-4b98-c501-35cbbfbd0a2e"
   },
   "outputs": [
    {
     "data": {
      "text/plain": [
       "True"
      ]
     },
     "execution_count": 27,
     "metadata": {},
     "output_type": "execute_result"
    }
   ],
   "source": [
    "def grader_spectrogram():\n",
    "    flag_shape = (X_train_spectrogram.shape==(1400,64, 35)) and (X_test_spectrogram.shape == (600, 64, 35))\n",
    "    return flag_shape\n",
    "grader_spectrogram()"
   ]
  },
  {
   "cell_type": "markdown",
   "metadata": {
    "id": "xxlEVyIYaNpt"
   },
   "source": [
    "\n",
    "Now we have\n",
    "\n",
    "Train data: X_train_spectrogram and y_train  \n",
    "Test data: X_test_spectrogram and y_test   \n",
    "\n",
    "We will create a LSTM model which takes this input. \n",
    "\n",
    "Task:\n",
    "\n",
    "1. Create an LSTM network which takes \"X_train_spectrogram\" as input and has to return output at every time step. \n",
    "2. Average the output of every time step and give this to the Dense layer of any size. \n",
    "(ex: Output from LSTM will be  (None, time_steps, features) average the output of every time step i.e, you should get (None,time_steps) \n",
    "and then pass to dense layer )\n",
    "3. give the above output to Dense layer of size 10( output layer) and train the network with sparse categorical cross entropy.  \n",
    "4. Use tensorboard to plot the graphs of loss and metric(use custom micro F1 score as metric) and histograms of gradients. You can write your code for computing F1 score using this <a  href='https://i.imgur.com/8YULUcu.jpg'>link</a> \n",
    "5. make sure that it won't overfit. \n",
    "6. You are free to include any regularization\n"
   ]
  },
  {
   "cell_type": "code",
   "execution_count": 28,
   "metadata": {
    "id": "IaQjaiiGaNpv"
   },
   "outputs": [
    {
     "name": "stdout",
     "output_type": "stream",
     "text": [
      "Model: \"model\"\n",
      "_________________________________________________________________\n",
      " Layer (type)                Output Shape              Param #   \n",
      "=================================================================\n",
      " input_1 (InputLayer)        [(None, 64, 35)]          0         \n",
      "                                                                 \n",
      " lstm (LSTM)                 (None, 64, 256)           299008    \n",
      "                                                                 \n",
      " tf.math.reduce_mean (TFOpLa  (None, 64)               0         \n",
      " mbda)                                                           \n",
      "                                                                 \n",
      " dense (Dense)               (None, 256)               16640     \n",
      "                                                                 \n",
      " dense_1 (Dense)             (None, 10)                2570      \n",
      "                                                                 \n",
      "=================================================================\n",
      "Total params: 318,218\n",
      "Trainable params: 318,218\n",
      "Non-trainable params: 0\n",
      "_________________________________________________________________\n"
     ]
    }
   ],
   "source": [
    "# write the architecture of the model\n",
    "#print model.summary and make sure that it is following point 2 mentioned above\n",
    "tf.keras.backend.clear_session()\n",
    "inp = Input(shape = (64,35,))\n",
    "x = LSTM(256, return_sequences = True)(inp)\n",
    "x = tf.math.reduce_mean(x, axis = -1)\n",
    "x = Dense(256, activation = 'relu', kernel_initializer = 'he_normal')(x)\n",
    "out = Dense(10, activation = 'softmax', kernel_initializer = 'glorot_normal')(x)\n",
    "\n",
    "model2 = Model(inputs = inp, outputs = out)\n",
    "#printing the model summary\n",
    "model2.summary()"
   ]
  },
  {
   "cell_type": "code",
   "execution_count": 31,
   "metadata": {
    "id": "862fP2e-aNp3"
   },
   "outputs": [
    {
     "name": "stdout",
     "output_type": "stream",
     "text": [
      "Epoch 1/20\n",
      "44/44 [==============================] - ETA: 0s - loss: 1.9556WARNING:tensorflow:Early stopping conditioned on metric `val_loss` which is not available. Available metrics are: loss\n",
      "val_f1_score 0.4000000000000001\n",
      "44/44 [==============================] - 11s 202ms/step - loss: 1.9556\n",
      "Epoch 2/20\n",
      "44/44 [==============================] - ETA: 0s - loss: 1.5995WARNING:tensorflow:Early stopping conditioned on metric `val_loss` which is not available. Available metrics are: loss\n",
      "val_f1_score 0.5166666666666667\n",
      "44/44 [==============================] - 8s 188ms/step - loss: 1.5995\n",
      "Epoch 3/20\n",
      "44/44 [==============================] - ETA: 0s - loss: 1.3520WARNING:tensorflow:Early stopping conditioned on metric `val_loss` which is not available. Available metrics are: loss\n",
      "val_f1_score 0.5866666666666667\n",
      "44/44 [==============================] - 9s 199ms/step - loss: 1.3520\n",
      "Epoch 4/20\n",
      "44/44 [==============================] - ETA: 0s - loss: 1.2011WARNING:tensorflow:Early stopping conditioned on metric `val_loss` which is not available. Available metrics are: loss\n",
      "val_f1_score 0.665\n",
      "44/44 [==============================] - 9s 198ms/step - loss: 1.2011\n",
      "Epoch 5/20\n",
      "44/44 [==============================] - ETA: 0s - loss: 1.1107WARNING:tensorflow:Early stopping conditioned on metric `val_loss` which is not available. Available metrics are: loss\n",
      "val_f1_score 0.645\n",
      "44/44 [==============================] - 8s 192ms/step - loss: 1.1107\n",
      "Epoch 6/20\n",
      "44/44 [==============================] - ETA: 0s - loss: 1.0196WARNING:tensorflow:Early stopping conditioned on metric `val_loss` which is not available. Available metrics are: loss\n",
      "val_f1_score 0.6116666666666667\n",
      "44/44 [==============================] - 9s 196ms/step - loss: 1.0196\n",
      "Epoch 7/20\n",
      "44/44 [==============================] - ETA: 0s - loss: 0.9737WARNING:tensorflow:Early stopping conditioned on metric `val_loss` which is not available. Available metrics are: loss\n",
      "val_f1_score 0.675\n",
      "44/44 [==============================] - 9s 204ms/step - loss: 0.9737\n",
      "Epoch 8/20\n",
      "44/44 [==============================] - ETA: 0s - loss: 0.9234WARNING:tensorflow:Early stopping conditioned on metric `val_loss` which is not available. Available metrics are: loss\n",
      "val_f1_score 0.695\n",
      "44/44 [==============================] - 9s 206ms/step - loss: 0.9234\n",
      "Epoch 9/20\n",
      "44/44 [==============================] - ETA: 0s - loss: 0.8516WARNING:tensorflow:Early stopping conditioned on metric `val_loss` which is not available. Available metrics are: loss\n",
      "val_f1_score 0.7299999999999999\n",
      "44/44 [==============================] - 9s 206ms/step - loss: 0.8516\n",
      "Epoch 10/20\n",
      "44/44 [==============================] - ETA: 0s - loss: 0.8155WARNING:tensorflow:Early stopping conditioned on metric `val_loss` which is not available. Available metrics are: loss\n",
      "val_f1_score 0.7433333333333333\n",
      "44/44 [==============================] - 9s 209ms/step - loss: 0.8155\n",
      "Epoch 11/20\n",
      "44/44 [==============================] - ETA: 0s - loss: 0.7804WARNING:tensorflow:Early stopping conditioned on metric `val_loss` which is not available. Available metrics are: loss\n",
      "val_f1_score 0.76\n",
      "44/44 [==============================] - 9s 199ms/step - loss: 0.7804\n",
      "Epoch 12/20\n",
      "44/44 [==============================] - ETA: 0s - loss: 0.7346WARNING:tensorflow:Early stopping conditioned on metric `val_loss` which is not available. Available metrics are: loss\n",
      "val_f1_score 0.7433333333333333\n",
      "44/44 [==============================] - 9s 204ms/step - loss: 0.7346\n",
      "Epoch 13/20\n",
      "44/44 [==============================] - ETA: 0s - loss: 0.7151WARNING:tensorflow:Early stopping conditioned on metric `val_loss` which is not available. Available metrics are: loss\n",
      "val_f1_score 0.7533333333333333\n",
      "44/44 [==============================] - 10s 224ms/step - loss: 0.7151\n",
      "Epoch 14/20\n",
      "44/44 [==============================] - ETA: 0s - loss: 0.7107WARNING:tensorflow:Early stopping conditioned on metric `val_loss` which is not available. Available metrics are: loss\n",
      "val_f1_score 0.765\n",
      "44/44 [==============================] - 9s 213ms/step - loss: 0.7107\n",
      "Epoch 15/20\n",
      "44/44 [==============================] - ETA: 0s - loss: 0.6536WARNING:tensorflow:Early stopping conditioned on metric `val_loss` which is not available. Available metrics are: loss\n",
      "val_f1_score 0.7766666666666666\n",
      "44/44 [==============================] - 8s 191ms/step - loss: 0.6536\n",
      "Epoch 16/20\n",
      "44/44 [==============================] - ETA: 0s - loss: 0.6522WARNING:tensorflow:Early stopping conditioned on metric `val_loss` which is not available. Available metrics are: loss\n",
      "val_f1_score 0.7983333333333333\n",
      "44/44 [==============================] - 8s 192ms/step - loss: 0.6522\n",
      "Epoch 17/20\n",
      "44/44 [==============================] - ETA: 0s - loss: 0.6311WARNING:tensorflow:Early stopping conditioned on metric `val_loss` which is not available. Available metrics are: loss\n",
      "val_f1_score 0.8033333333333333\n",
      "44/44 [==============================] - 9s 196ms/step - loss: 0.6311\n",
      "Epoch 18/20\n",
      "44/44 [==============================] - ETA: 0s - loss: 0.6186WARNING:tensorflow:Early stopping conditioned on metric `val_loss` which is not available. Available metrics are: loss\n",
      "val_f1_score 0.8116666666666666\n",
      "44/44 [==============================] - 9s 200ms/step - loss: 0.6186\n",
      "Epoch 19/20\n",
      "44/44 [==============================] - ETA: 0s - loss: 0.5850WARNING:tensorflow:Early stopping conditioned on metric `val_loss` which is not available. Available metrics are: loss\n",
      "val_f1_score 0.8016666666666666\n",
      "44/44 [==============================] - 9s 213ms/step - loss: 0.5850\n",
      "Epoch 20/20\n",
      "44/44 [==============================] - ETA: 0s - loss: 0.5535WARNING:tensorflow:Early stopping conditioned on metric `val_loss` which is not available. Available metrics are: loss\n",
      "val_f1_score 0.815\n",
      "44/44 [==============================] - 8s 194ms/step - loss: 0.5535\n"
     ]
    },
    {
     "data": {
      "text/plain": [
       "<keras.callbacks.History at 0x7fd1d5f83700>"
      ]
     },
     "execution_count": 31,
     "metadata": {},
     "output_type": "execute_result"
    }
   ],
   "source": [
    "#compile and fit your model.\n",
    "#model2.fit([X_train_spectrogram],y_train_int,......)\n",
    "model2.compile(optimizer='Adam',\n",
    "                loss='sparse_categorical_crossentropy',) \n",
    "logdir = os.path.join(\"logs/model2\", datetime.datetime.now().strftime(\"%Y%m%d-%H%M%S\"))\n",
    "tensorboard_callback = tf.keras.callbacks.TensorBoard(logdir, histogram_freq=1)\n",
    "es = tf.keras.callbacks.EarlyStopping(monitor = 'val_loss', min_delta = 0.1, patience = 1)\n",
    "\n",
    "model2.fit(x=X_train_spectrogram, \n",
    "            y=y_train1, \n",
    "            epochs=20, \n",
    "            batch_size = 32,\n",
    "            callbacks=[tensorboard_callback,es,Metrics(validation_data=([X_test_spectrogram], y_test1))])"
   ]
  },
  {
   "cell_type": "code",
   "execution_count": 55,
   "metadata": {
    "id": "VtMsbGs3aNp_",
    "scrolled": true
   },
   "outputs": [
    {
     "data": {
      "text/html": [
       "\n",
       "      <iframe id=\"tensorboard-frame-f89ced6f684b953b\" width=\"100%\" height=\"800\" frameborder=\"0\">\n",
       "      </iframe>\n",
       "      <script>\n",
       "        (function() {\n",
       "          const frame = document.getElementById(\"tensorboard-frame-f89ced6f684b953b\");\n",
       "          const url = new URL(\"/\", window.location);\n",
       "          const port = 6008;\n",
       "          if (port) {\n",
       "            url.port = port;\n",
       "          }\n",
       "          frame.src = url;\n",
       "        })();\n",
       "      </script>\n",
       "    "
      ],
      "text/plain": [
       "<IPython.core.display.HTML object>"
      ]
     },
     "metadata": {},
     "output_type": "display_data"
    }
   ],
   "source": [
    "%tensorboard --logdir /Users/srujan/Downloads/spoken_digit/logs/model2/20220809-020409/train"
   ]
  },
  {
   "cell_type": "code",
   "execution_count": null,
   "metadata": {},
   "outputs": [],
   "source": [
    "pip install tensorflow-addons"
   ]
  },
  {
   "cell_type": "markdown",
   "metadata": {
    "id": "aSl8ZOXjaNqJ"
   },
   "source": [
    "### 3. Data augmentation with raw features \n",
    "\n",
    "Till now we have done with 2000 samples only. It is very less data. We are giving the process of generating augmented data below.\n",
    "\n",
    "There are two types of augmentation:\n",
    "1. time stretching - Time stretching either increases or decreases the length of the file. For time stretching we move the file 30% faster or slower\n",
    "2. pitch shifting - pitch shifting moves the frequencies higher or lower. For pitch shifting we shift up or down one half-step.\n"
   ]
  },
  {
   "cell_type": "code",
   "execution_count": 32,
   "metadata": {
    "id": "jR4JSEDgaNqK"
   },
   "outputs": [],
   "source": [
    "## generating augmented data. \n",
    "def generate_augmented_data(file_path):\n",
    "    augmented_data = []\n",
    "    samples = load_wav(file_path,get_duration=False)\n",
    "    for time_value in [0.7, 1, 1.3]:\n",
    "        for pitch_value in [-1, 0, 1]:\n",
    "            time_stretch_data = librosa.effects.time_stretch(samples, rate=time_value)\n",
    "            final_data = librosa.effects.pitch_shift(time_stretch_data, sr=sample_rate, n_steps=pitch_value)\n",
    "            augmented_data.append(final_data)\n",
    "    return augmented_data"
   ]
  },
  {
   "cell_type": "code",
   "execution_count": 33,
   "metadata": {
    "id": "QRdefb-SaNqS"
   },
   "outputs": [],
   "source": [
    "temp_path = df_audio.iloc[0].path\n",
    "aug_temp = generate_augmented_data(temp_path)"
   ]
  },
  {
   "cell_type": "code",
   "execution_count": 34,
   "metadata": {
    "id": "kzdG3iS-aNqc",
    "outputId": "0f17e45e-63a0-4986-8f69-05e2dbd71bac"
   },
   "outputs": [
    {
     "data": {
      "text/plain": [
       "9"
      ]
     },
     "execution_count": 34,
     "metadata": {},
     "output_type": "execute_result"
    }
   ],
   "source": [
    "len(aug_temp)"
   ]
  },
  {
   "cell_type": "markdown",
   "metadata": {
    "id": "ZckytZsraNqk"
   },
   "source": [
    "## Follow the steps \n",
    "\n",
    "1. Split data 'df_audio' into train and test (80-20 split)\n",
    "\n",
    "2. We have 2000 data points(1600 train points, 400 test points) \n",
    "\n"
   ]
  },
  {
   "cell_type": "code",
   "execution_count": 35,
   "metadata": {
    "id": "LFo5SnTLO_sD"
   },
   "outputs": [],
   "source": [
    "from sklearn.model_selection import train_test_split\n",
    "X_train3, X_test3, y_train3, y_test3=train_test_split(df_audio['path'],df_audio['label'],random_state=45,test_size=0.2,stratify=df_audio['label'])\n",
    "\n"
   ]
  },
  {
   "cell_type": "markdown",
   "metadata": {
    "id": "AdKXVRlpaNql"
   },
   "source": [
    "3. Do augmentation only on X_train,pass each point of X_train to generate_augmented_data function.After augmentation we will get 14400 train points. Make sure that you are augmenting the corresponding class labels (y_train) also.\n",
    "4. Preprocess your X_test using load_wav function.\n",
    "5. Convert the augmented_train_data and test_data to numpy arrays.\n",
    "6. Perform padding and masking on augmented_train_data and test_data.\n",
    "7. After padding define the model similar to model 1 and fit the data"
   ]
  },
  {
   "cell_type": "markdown",
   "metadata": {
    "id": "H8Yh72uYO_sD"
   },
   "source": [
    "<font color='red'> Note </font> - While fitting your model on the augmented data for model 3 you might face Resource exhaust error. One simple hack to avoid that is save the augmented_train_data,augment_y_train,test_data and y_test to Drive or into your local system. Then restart the runtime so that now you can train your model with full RAM capacity. Upload these files again in the new runtime session perform padding and masking and then fit your model."
   ]
  },
  {
   "cell_type": "code",
   "execution_count": 36,
   "metadata": {},
   "outputs": [
    {
     "data": {
      "application/vnd.jupyter.widget-view+json": {
       "model_id": "097e7cd83dd447c8ad3ecebd06ba6d3c",
       "version_major": 2,
       "version_minor": 0
      },
      "text/plain": [
       "  0%|          | 0/1600 [00:00<?, ?it/s]"
      ]
     },
     "metadata": {},
     "output_type": "display_data"
    }
   ],
   "source": [
    "X_train_aug3 = []\n",
    "y_train_aug3 = []\n",
    "\n",
    "#X_train_aug.append(generate_augmented_data(X_train[839]))\n",
    "for i in tqdm(X_train3.index):\n",
    "    X_train_aug3.append(generate_augmented_data(X_train3[i]))\n",
    "    y_train_aug3.append([y_train3[i]]*9)"
   ]
  },
  {
   "cell_type": "code",
   "execution_count": 37,
   "metadata": {},
   "outputs": [],
   "source": [
    "augmented_train_data3 = (np.concatenate(X_train_aug3).ravel())"
   ]
  },
  {
   "cell_type": "code",
   "execution_count": 38,
   "metadata": {},
   "outputs": [],
   "source": [
    "augmented_label_data3 = (np.concatenate(y_train_aug3).ravel())"
   ]
  },
  {
   "cell_type": "code",
   "execution_count": 39,
   "metadata": {},
   "outputs": [
    {
     "data": {
      "application/vnd.jupyter.widget-view+json": {
       "model_id": "43d22cd91c8f4bb1aa086827331b933b",
       "version_major": 2,
       "version_minor": 0
      },
      "text/plain": [
       "  0%|          | 0/400 [00:00<?, ?it/s]"
      ]
     },
     "metadata": {},
     "output_type": "display_data"
    }
   ],
   "source": [
    "X_test_processed3 = pd.DataFrame(columns=['raw_data','duration'],index=X_test3.index)\n",
    "for i in tqdm(X_test3.index):\n",
    "    res = load_wav(X_test3[i])\n",
    "    X_test_processed3['raw_data'][i] = res[0]\n",
    "    X_test_processed3['duration'][i] = res[1]"
   ]
  },
  {
   "cell_type": "code",
   "execution_count": 40,
   "metadata": {},
   "outputs": [],
   "source": [
    "augmented_test_data3 = np.array(X_test_processed3.raw_data)"
   ]
  },
  {
   "cell_type": "code",
   "execution_count": 41,
   "metadata": {},
   "outputs": [
    {
     "data": {
      "application/vnd.jupyter.widget-view+json": {
       "model_id": "b741493c05ed42949488408fad6afa26",
       "version_major": 2,
       "version_minor": 0
      },
      "text/plain": [
       "  0%|          | 0/14400 [00:00<?, ?it/s]"
      ]
     },
     "metadata": {},
     "output_type": "display_data"
    },
    {
     "data": {
      "application/vnd.jupyter.widget-view+json": {
       "model_id": "563433c99e8b4fd198afef25e219847c",
       "version_major": 2,
       "version_minor": 0
      },
      "text/plain": [
       "  0%|          | 0/400 [00:00<?, ?it/s]"
      ]
     },
     "metadata": {},
     "output_type": "display_data"
    }
   ],
   "source": [
    "def fun(X_train_pad_seq,X_train_processed,X_train_mask):\n",
    "    for ind,val in enumerate(tqdm(X_train_processed)):\n",
    "        q = val#X_train_processed['raw_data'][val]\n",
    "        if q.shape[0] < max_length:\n",
    "            #q = np.array(X_train_processed['raw_data'][val])\n",
    "            X_train_pad_seq[ind] = np.pad(q,(0,(max_length-q.shape[0])),'constant')\n",
    "            X_train_mask[ind][:q.shape[0]] = 1\n",
    "        elif q.shape[0] >= max_length:\n",
    "            #print(ind,val)\n",
    "            #q = np.array(X_train_processed['raw_data'][val])\n",
    "            X_train_pad_seq[ind] = q[:max_length]\n",
    "            X_train_mask[ind][:q.shape[0]] = 1\n",
    "    return X_train_pad_seq,X_train_mask\n",
    "        \n",
    "max_length = 17640\n",
    "aug_X_train_pad_seq3 = np.zeros(shape=(augmented_train_data3.shape[0],max_length))\n",
    "aug_X_train_mask3 = np.zeros(shape=(augmented_train_data3.shape[0],max_length),dtype='bool')\n",
    "aug_X_train_pad_seq3,aug_X_train_mask3 = fun(aug_X_train_pad_seq3,augmented_train_data3,aug_X_train_mask3)\n",
    "\n",
    "\n",
    "aug_X_test_pad_seq3 = np.zeros(shape=(augmented_test_data3.shape[0],max_length))\n",
    "aug_X_test_mask3 = np.zeros(shape=(augmented_test_data3.shape[0],max_length),dtype='bool')\n",
    "aug_X_test_pad_seq3,aug_X_test_mask3 = fun(aug_X_test_pad_seq3,augmented_test_data3,aug_X_test_mask3)\n"
   ]
  },
  {
   "cell_type": "code",
   "execution_count": 42,
   "metadata": {},
   "outputs": [
    {
     "name": "stdout",
     "output_type": "stream",
     "text": [
      "Epoch 1/5\n",
      "113/113 [==============================] - ETA: 0s - loss: 2.3029 WARNING:tensorflow:Early stopping conditioned on metric `val_loss` which is not available. Available metrics are: loss\n",
      "val_f1_score 0.095\n",
      "113/113 [==============================] - 3935s 34s/step - loss: 2.3029\n",
      "Epoch 2/5\n",
      "113/113 [==============================] - ETA: 0s - loss: 2.3028 WARNING:tensorflow:Early stopping conditioned on metric `val_loss` which is not available. Available metrics are: loss\n",
      "val_f1_score 0.10000000000000002\n",
      "113/113 [==============================] - 3984s 35s/step - loss: 2.3028\n",
      "Epoch 3/5\n",
      "113/113 [==============================] - ETA: 0s - loss: 2.3028 WARNING:tensorflow:Early stopping conditioned on metric `val_loss` which is not available. Available metrics are: loss\n",
      "val_f1_score 0.10000000000000002\n",
      "113/113 [==============================] - 3905s 35s/step - loss: 2.3028\n",
      "Epoch 4/5\n",
      "113/113 [==============================] - ETA: 0s - loss: 2.3027 WARNING:tensorflow:Early stopping conditioned on metric `val_loss` which is not available. Available metrics are: loss\n",
      "val_f1_score 0.0975\n",
      "113/113 [==============================] - 4186s 37s/step - loss: 2.3027\n",
      "Epoch 5/5\n",
      "113/113 [==============================] - ETA: 0s - loss: 2.3028 WARNING:tensorflow:Early stopping conditioned on metric `val_loss` which is not available. Available metrics are: loss\n",
      "val_f1_score 0.10000000000000002\n",
      "113/113 [==============================] - 4381s 39s/step - loss: 2.3028\n"
     ]
    }
   ],
   "source": [
    "\n",
    "X_train_pad_seq3 = np.expand_dims(aug_X_train_pad_seq3,-1)\n",
    "X_test_pad_seq3 = np.expand_dims(aug_X_test_pad_seq3,-1)\n",
    "\n",
    "y_train3 = augmented_label_data3.astype('int')\n",
    "y_test3 = y_test3.values.astype('int')\n",
    "        \n",
    "def train_model(max_length,):\n",
    "    #model = create_model()\n",
    "    data_input_layer = Input(shape = (max_length,1))\n",
    "    mask_input_layer = Input(shape = (max_length),dtype='bool')\n",
    "    x = LSTM(25)(inputs = data_input_layer,mask = mask_input_layer)\n",
    "    x = Dense(50,activation='relu',kernel_initializer = 'he_normal')(x)\n",
    "    output = Dense(10,activation='softmax',kernel_initializer = 'glorot_normal')(x)\n",
    "    model3 = Model(inputs = [data_input_layer, mask_input_layer], outputs = output)\n",
    "\n",
    "    model3.compile(optimizer='Adam',\n",
    "                loss='sparse_categorical_crossentropy') \n",
    "    logdir = os.path.join(\"logs/Model3\", datetime.datetime.now().strftime(\"%Y%m%d-%H%M%S\"))\n",
    "    tensorboard_callback = tf.keras.callbacks.TensorBoard(logdir, histogram_freq=1)\n",
    "    es = tf.keras.callbacks.EarlyStopping(monitor = 'val_loss', min_delta = 0.1, patience = 1)\n",
    "\n",
    "    model3.fit(x=[aug_X_train_pad_seq3,aug_X_train_mask3], \n",
    "            y=y_train3, \n",
    "            epochs=5,batch_size = 128,\n",
    "            callbacks=[tensorboard_callback,es,Metrics(validation_data=([aug_X_test_pad_seq3,aug_X_test_mask3], y_test3))])\n",
    "\n",
    "train_model(max_length=max_length)"
   ]
  },
  {
   "cell_type": "code",
   "execution_count": 54,
   "metadata": {},
   "outputs": [
    {
     "data": {
      "text/html": [
       "\n",
       "      <iframe id=\"tensorboard-frame-608bd8ff9c7ab1d3\" width=\"100%\" height=\"800\" frameborder=\"0\">\n",
       "      </iframe>\n",
       "      <script>\n",
       "        (function() {\n",
       "          const frame = document.getElementById(\"tensorboard-frame-608bd8ff9c7ab1d3\");\n",
       "          const url = new URL(\"/\", window.location);\n",
       "          const port = 6007;\n",
       "          if (port) {\n",
       "            url.port = port;\n",
       "          }\n",
       "          frame.src = url;\n",
       "        })();\n",
       "      </script>\n",
       "    "
      ],
      "text/plain": [
       "<IPython.core.display.HTML object>"
      ]
     },
     "metadata": {},
     "output_type": "display_data"
    }
   ],
   "source": [
    "%tensorboard --logdir /Users/srujan/Downloads/spoken_digit/logs/Model3/20220809-021838/train"
   ]
  },
  {
   "cell_type": "code",
   "execution_count": null,
   "metadata": {},
   "outputs": [],
   "source": []
  },
  {
   "cell_type": "markdown",
   "metadata": {
    "id": "vXY9uP7cO_sE"
   },
   "source": [
    "### 4. Data augmentation with spectogram data"
   ]
  },
  {
   "cell_type": "markdown",
   "metadata": {
    "id": "EShBfiERO_sE"
   },
   "source": [
    "1. use convert_to_spectrogram and convert the padded data from train and test data to spectogram data.\n",
    "2. The shape of train data will be 14400 x 64 x 35 and shape of test_data will be 400 x 64 x35\n",
    "3. Define the model similar to model 2 and fit the data"
   ]
  },
  {
   "cell_type": "code",
   "execution_count": 43,
   "metadata": {
    "id": "QpVMCEW3O_sE"
   },
   "outputs": [],
   "source": [
    "def convert_to_spectrogram(raw_data):\n",
    "    '''converting to spectrogram'''\n",
    "    spectrum = librosa.feature.melspectrogram(y=raw_data, sr=sample_rate, n_mels=64)\n",
    "    logmel_spectrum = librosa.power_to_db(S=spectrum, ref=np.max)\n",
    "    return logmel_spectrum"
   ]
  },
  {
   "cell_type": "code",
   "execution_count": 44,
   "metadata": {},
   "outputs": [],
   "source": [
    "aug_X_train_spectrogram4 = []\n",
    "aug_X_test_spectrogram4 = []"
   ]
  },
  {
   "cell_type": "code",
   "execution_count": 46,
   "metadata": {},
   "outputs": [
    {
     "data": {
      "application/vnd.jupyter.widget-view+json": {
       "model_id": "d0117409a219445587332e44e191b662",
       "version_major": 2,
       "version_minor": 0
      },
      "text/plain": [
       "  0%|          | 0/14400 [00:00<?, ?it/s]"
      ]
     },
     "metadata": {},
     "output_type": "display_data"
    }
   ],
   "source": [
    "for i in tqdm(aug_X_train_pad_seq3):\n",
    "    aug_X_train_spectrogram4.append(convert_to_spectrogram(i))"
   ]
  },
  {
   "cell_type": "code",
   "execution_count": 47,
   "metadata": {},
   "outputs": [
    {
     "data": {
      "application/vnd.jupyter.widget-view+json": {
       "model_id": "7ae7102225eb4ac4adb5ceec84339038",
       "version_major": 2,
       "version_minor": 0
      },
      "text/plain": [
       "  0%|          | 0/400 [00:00<?, ?it/s]"
      ]
     },
     "metadata": {},
     "output_type": "display_data"
    }
   ],
   "source": [
    "for i in tqdm(aug_X_test_pad_seq3):\n",
    "    aug_X_test_spectrogram4.append(convert_to_spectrogram(i))"
   ]
  },
  {
   "cell_type": "code",
   "execution_count": 48,
   "metadata": {},
   "outputs": [
    {
     "name": "stdout",
     "output_type": "stream",
     "text": [
      "Model: \"model\"\n",
      "_________________________________________________________________\n",
      " Layer (type)                Output Shape              Param #   \n",
      "=================================================================\n",
      " input_1 (InputLayer)        [(None, 64, 35)]          0         \n",
      "                                                                 \n",
      " lstm (LSTM)                 (None, 64, 256)           299008    \n",
      "                                                                 \n",
      " tf.math.reduce_mean (TFOpLa  (None, 64)               0         \n",
      " mbda)                                                           \n",
      "                                                                 \n",
      " dense (Dense)               (None, 256)               16640     \n",
      "                                                                 \n",
      " dense_1 (Dense)             (None, 10)                2570      \n",
      "                                                                 \n",
      "=================================================================\n",
      "Total params: 318,218\n",
      "Trainable params: 318,218\n",
      "Non-trainable params: 0\n",
      "_________________________________________________________________\n"
     ]
    }
   ],
   "source": [
    "tf.keras.backend.clear_session()\n",
    "inp = Input(shape = (64,35,))\n",
    "x = LSTM(256, return_sequences = True)(inp)\n",
    "x = tf.math.reduce_mean(x, axis = -1)\n",
    "x = Dense(256, activation = 'relu', kernel_initializer = 'he_normal')(x)\n",
    "out = Dense(10, activation = 'softmax', kernel_initializer = 'glorot_normal')(x)\n",
    "\n",
    "model4 = Model(inputs = inp, outputs = out)\n",
    "#printing the model summary\n",
    "model4.summary()"
   ]
  },
  {
   "cell_type": "code",
   "execution_count": null,
   "metadata": {},
   "outputs": [],
   "source": []
  },
  {
   "cell_type": "code",
   "execution_count": 49,
   "metadata": {},
   "outputs": [],
   "source": [
    "aug_4_X_train_spectrogram = np.expand_dims(aug_X_train_spectrogram4,-1)\n",
    "aug_4_X_test_spectrogram = np.expand_dims(aug_X_test_spectrogram4,-1)\n"
   ]
  },
  {
   "cell_type": "code",
   "execution_count": 52,
   "metadata": {},
   "outputs": [
    {
     "name": "stdout",
     "output_type": "stream",
     "text": [
      "The tensorboard extension is already loaded. To reload it, use:\n",
      "  %reload_ext tensorboard\n",
      "Epoch 1/20\n",
      "450/450 [==============================] - ETA: 0s - loss: 0.5259WARNING:tensorflow:Early stopping conditioned on metric `val_loss` which is not available. Available metrics are: loss\n",
      "val_f1_score 0.895\n",
      "450/450 [==============================] - 86s 186ms/step - loss: 0.5259\n",
      "Epoch 2/20\n",
      "450/450 [==============================] - ETA: 0s - loss: 0.4301WARNING:tensorflow:Early stopping conditioned on metric `val_loss` which is not available. Available metrics are: loss\n",
      "val_f1_score 0.9125\n",
      "450/450 [==============================] - 77s 171ms/step - loss: 0.4301\n",
      "Epoch 3/20\n",
      "450/450 [==============================] - ETA: 0s - loss: 0.3879WARNING:tensorflow:Early stopping conditioned on metric `val_loss` which is not available. Available metrics are: loss\n",
      "val_f1_score 0.935\n",
      "450/450 [==============================] - 70s 155ms/step - loss: 0.3879\n",
      "Epoch 4/20\n",
      "450/450 [==============================] - ETA: 0s - loss: 0.3684WARNING:tensorflow:Early stopping conditioned on metric `val_loss` which is not available. Available metrics are: loss\n",
      "val_f1_score 0.925\n",
      "450/450 [==============================] - 86s 192ms/step - loss: 0.3684\n",
      "Epoch 5/20\n",
      "450/450 [==============================] - ETA: 0s - loss: 0.3446WARNING:tensorflow:Early stopping conditioned on metric `val_loss` which is not available. Available metrics are: loss\n",
      "val_f1_score 0.8975\n",
      "450/450 [==============================] - 82s 183ms/step - loss: 0.3446\n",
      "Epoch 6/20\n",
      "450/450 [==============================] - ETA: 0s - loss: 0.3291WARNING:tensorflow:Early stopping conditioned on metric `val_loss` which is not available. Available metrics are: loss\n",
      "val_f1_score 0.9325\n",
      "450/450 [==============================] - 82s 183ms/step - loss: 0.3291\n",
      "Epoch 7/20\n",
      "450/450 [==============================] - ETA: 0s - loss: 0.3175WARNING:tensorflow:Early stopping conditioned on metric `val_loss` which is not available. Available metrics are: loss\n",
      "val_f1_score 0.9375\n",
      "450/450 [==============================] - 80s 179ms/step - loss: 0.3175\n",
      "Epoch 8/20\n",
      "450/450 [==============================] - ETA: 0s - loss: 0.3136WARNING:tensorflow:Early stopping conditioned on metric `val_loss` which is not available. Available metrics are: loss\n",
      "val_f1_score 0.93\n",
      "450/450 [==============================] - 81s 181ms/step - loss: 0.3136\n",
      "Epoch 9/20\n",
      "450/450 [==============================] - ETA: 0s - loss: 0.3049WARNING:tensorflow:Early stopping conditioned on metric `val_loss` which is not available. Available metrics are: loss\n",
      "val_f1_score 0.9425\n",
      "450/450 [==============================] - 81s 180ms/step - loss: 0.3049\n",
      "Epoch 10/20\n",
      "450/450 [==============================] - ETA: 0s - loss: 0.2934WARNING:tensorflow:Early stopping conditioned on metric `val_loss` which is not available. Available metrics are: loss\n",
      "val_f1_score 0.9225\n",
      "450/450 [==============================] - 82s 182ms/step - loss: 0.2934\n",
      "Epoch 11/20\n",
      "450/450 [==============================] - ETA: 0s - loss: 0.2816WARNING:tensorflow:Early stopping conditioned on metric `val_loss` which is not available. Available metrics are: loss\n",
      "val_f1_score 0.945\n",
      "450/450 [==============================] - 82s 183ms/step - loss: 0.2816\n",
      "Epoch 12/20\n",
      "450/450 [==============================] - ETA: 0s - loss: 0.2923WARNING:tensorflow:Early stopping conditioned on metric `val_loss` which is not available. Available metrics are: loss\n",
      "val_f1_score 0.945\n",
      "450/450 [==============================] - 82s 183ms/step - loss: 0.2923\n",
      "Epoch 13/20\n",
      "450/450 [==============================] - ETA: 0s - loss: 0.2773WARNING:tensorflow:Early stopping conditioned on metric `val_loss` which is not available. Available metrics are: loss\n",
      "val_f1_score 0.9425\n",
      "450/450 [==============================] - 82s 183ms/step - loss: 0.2773\n",
      "Epoch 14/20\n",
      "450/450 [==============================] - ETA: 0s - loss: 0.2660WARNING:tensorflow:Early stopping conditioned on metric `val_loss` which is not available. Available metrics are: loss\n",
      "val_f1_score 0.9425\n",
      "450/450 [==============================] - 82s 182ms/step - loss: 0.2660\n",
      "Epoch 15/20\n",
      "450/450 [==============================] - ETA: 0s - loss: 0.2621WARNING:tensorflow:Early stopping conditioned on metric `val_loss` which is not available. Available metrics are: loss\n",
      "val_f1_score 0.945\n",
      "450/450 [==============================] - 85s 189ms/step - loss: 0.2621\n",
      "Epoch 16/20\n",
      "450/450 [==============================] - ETA: 0s - loss: 0.2525WARNING:tensorflow:Early stopping conditioned on metric `val_loss` which is not available. Available metrics are: loss\n",
      "val_f1_score 0.9375\n",
      "450/450 [==============================] - 82s 182ms/step - loss: 0.2525\n",
      "Epoch 17/20\n",
      "450/450 [==============================] - ETA: 0s - loss: 0.2500WARNING:tensorflow:Early stopping conditioned on metric `val_loss` which is not available. Available metrics are: loss\n",
      "val_f1_score 0.9425\n",
      "450/450 [==============================] - 84s 186ms/step - loss: 0.2500\n",
      "Epoch 18/20\n",
      "450/450 [==============================] - ETA: 0s - loss: 0.2476WARNING:tensorflow:Early stopping conditioned on metric `val_loss` which is not available. Available metrics are: loss\n",
      "val_f1_score 0.9325\n",
      "450/450 [==============================] - 83s 185ms/step - loss: 0.2476\n",
      "Epoch 19/20\n",
      "450/450 [==============================] - ETA: 0s - loss: 0.2459WARNING:tensorflow:Early stopping conditioned on metric `val_loss` which is not available. Available metrics are: loss\n",
      "val_f1_score 0.9375\n",
      "450/450 [==============================] - 84s 186ms/step - loss: 0.2459\n",
      "Epoch 20/20\n",
      "450/450 [==============================] - ETA: 0s - loss: 0.2431WARNING:tensorflow:Early stopping conditioned on metric `val_loss` which is not available. Available metrics are: loss\n",
      "val_f1_score 0.9500000000000001\n",
      "450/450 [==============================] - 85s 189ms/step - loss: 0.2431\n"
     ]
    },
    {
     "data": {
      "text/plain": [
       "<keras.callbacks.History at 0x7fcff72256a0>"
      ]
     },
     "execution_count": 52,
     "metadata": {},
     "output_type": "execute_result"
    }
   ],
   "source": [
    "%load_ext tensorboard\n",
    "model4.compile(optimizer='Adam',\n",
    "                loss='sparse_categorical_crossentropy',) \n",
    "logdir = os.path.join(\"logs/model4\", datetime.datetime.now().strftime(\"%Y%m%d-%H%M%S\"))\n",
    "tensorboard_callback = tf.keras.callbacks.TensorBoard(logdir, histogram_freq=1)\n",
    "es = tf.keras.callbacks.EarlyStopping(monitor = 'val_loss', min_delta = 0.1, patience = 1)\n",
    "\n",
    "model4.fit(x=aug_4_X_train_spectrogram, \n",
    "            y=augmented_label_data3, \n",
    "            epochs=20, \n",
    "            batch_size = 32,\n",
    "            callbacks=[tensorboard_callback,es,Metrics(validation_data=([aug_4_X_test_spectrogram], y_test3))])"
   ]
  },
  {
   "cell_type": "code",
   "execution_count": 53,
   "metadata": {},
   "outputs": [
    {
     "data": {
      "text/html": [
       "\n",
       "      <iframe id=\"tensorboard-frame-a87a05d2499fd3f4\" width=\"100%\" height=\"800\" frameborder=\"0\">\n",
       "      </iframe>\n",
       "      <script>\n",
       "        (function() {\n",
       "          const frame = document.getElementById(\"tensorboard-frame-a87a05d2499fd3f4\");\n",
       "          const url = new URL(\"/\", window.location);\n",
       "          const port = 6006;\n",
       "          if (port) {\n",
       "            url.port = port;\n",
       "          }\n",
       "          frame.src = url;\n",
       "        })();\n",
       "      </script>\n",
       "    "
      ],
      "text/plain": [
       "<IPython.core.display.HTML object>"
      ]
     },
     "metadata": {},
     "output_type": "display_data"
    }
   ],
   "source": [
    "%tensorboard --logdir /Users/srujan/Downloads/spoken_digit/logs/model4/20220809-130905/train"
   ]
  },
  {
   "cell_type": "code",
   "execution_count": null,
   "metadata": {},
   "outputs": [],
   "source": []
  },
  {
   "cell_type": "code",
   "execution_count": null,
   "metadata": {},
   "outputs": [],
   "source": []
  },
  {
   "cell_type": "code",
   "execution_count": null,
   "metadata": {},
   "outputs": [],
   "source": []
  },
  {
   "cell_type": "code",
   "execution_count": null,
   "metadata": {},
   "outputs": [],
   "source": []
  },
  {
   "cell_type": "code",
   "execution_count": null,
   "metadata": {
    "id": "40RMwgJ6O_sE"
   },
   "outputs": [],
   "source": []
  }
 ],
 "metadata": {
  "colab": {
   "collapsed_sections": [],
   "name": "Speech detection Assignment.ipynb",
   "provenance": []
  },
  "kernelspec": {
   "display_name": "Python 3 (ipykernel)",
   "language": "python",
   "name": "python3"
  },
  "language_info": {
   "codemirror_mode": {
    "name": "ipython",
    "version": 3
   },
   "file_extension": ".py",
   "mimetype": "text/x-python",
   "name": "python",
   "nbconvert_exporter": "python",
   "pygments_lexer": "ipython3",
   "version": "3.9.7"
  }
 },
 "nbformat": 4,
 "nbformat_minor": 1
}
